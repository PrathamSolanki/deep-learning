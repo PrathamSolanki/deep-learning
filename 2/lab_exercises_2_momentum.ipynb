{
  "nbformat": 4,
  "nbformat_minor": 0,
  "metadata": {
    "kernelspec": {
      "display_name": "Python 3",
      "language": "python",
      "name": "python3"
    },
    "language_info": {
      "codemirror_mode": {
        "name": "ipython",
        "version": 3
      },
      "file_extension": ".py",
      "mimetype": "text/x-python",
      "name": "python",
      "nbconvert_exporter": "python",
      "pygments_lexer": "ipython3",
      "version": "3.7.4"
    },
    "colab": {
      "name": "lab_exercises_2_momentum.ipynb",
      "provenance": [],
      "collapsed_sections": []
    }
  },
  "cells": [
    {
      "cell_type": "markdown",
      "metadata": {
        "id": "qkoH4hIhxM9Y",
        "colab_type": "text"
      },
      "source": [
        "# Deep Learning - Lab Exercise 2\n",
        "\n",
        "**WARNING:** you must have finished the first exercise before this one as you will re-use parts of the code.\n",
        "\n",
        "In the first lab exercise, we built a simple linear classifier.\n",
        "Although it can give reasonable results on the MNIST dataset (~92.5% of accuracy), deeper neural networks can achieve more the 99% accuracy on this dataset.\n",
        "However, it can quickly become really impractical to explicitly code forward and backward passes.\n",
        "Hence, it is useful to rely on an auto-diff library where we specify the forward pass only, and the backward pass is automatically deduced from the computational graph structure.\n",
        "\n",
        "In this lab exercise, we will build a small and simple auto-diff lib that mimics the autograd mechanism from Pytorch (of course, we will simplify a lot!)\n",
        "There is two goal:\n",
        "- write the missing code\n",
        "- understand the general structure of an auto-diff lib by looking closely at the code. It will help you to understand how Pytorch works!"
      ]
    },
    {
      "cell_type": "code",
      "metadata": {
        "id": "kh_6yFowxM9j",
        "colab_type": "code",
        "colab": {}
      },
      "source": [
        "# import libs that we will use\n",
        "import os\n",
        "import numpy as np\n",
        "import matplotlib.pyplot as plt\n",
        "import math\n",
        "from sklearn.utils import shuffle\n",
        "\n",
        "# To load the data we will use the script of Gaetan Marceau Caron\n",
        "# You can download it from the course webiste and move it to the same directory that contains this ipynb file\n",
        "import dataset_loader\n",
        "\n",
        "%matplotlib inline"
      ],
      "execution_count": 0,
      "outputs": []
    },
    {
      "cell_type": "markdown",
      "metadata": {
        "id": "0JSATjdRxM99",
        "colab_type": "text"
      },
      "source": [
        "# Data"
      ]
    },
    {
      "cell_type": "code",
      "metadata": {
        "id": "lRs3h2Q5xM-D",
        "colab_type": "code",
        "colab": {}
      },
      "source": [
        "# Download mnist dataset \n",
        "if(\"mnist.pkl.gz\" not in os.listdir(\".\")):\n",
        "    !wget http://deeplearning.net/data/mnist/mnist.pkl.gz\n",
        "\n",
        "# if you have it somewhere else, you can comment the lines above\n",
        "# and overwrite the path below\n",
        "mnist_path = \"./mnist.pkl.gz\""
      ],
      "execution_count": 0,
      "outputs": []
    },
    {
      "cell_type": "code",
      "metadata": {
        "id": "zO4SNOuSxM-T",
        "colab_type": "code",
        "colab": {}
      },
      "source": [
        "# load the 3 splits\n",
        "train_data, dev_data, test_data = dataset_loader.load_mnist(mnist_path)"
      ],
      "execution_count": 0,
      "outputs": []
    },
    {
      "cell_type": "code",
      "metadata": {
        "id": "j5577lwRxM-e",
        "colab_type": "code",
        "outputId": "50173fc4-6dfa-42fa-8625-355542639118",
        "colab": {
          "base_uri": "https://localhost:8080/",
          "height": 301
        }
      },
      "source": [
        "index = 900\n",
        "label = train_data[1][index]\n",
        "picture = train_data[0][index]\n",
        "\n",
        "print(\"label: %i\" % label)\n",
        "plt.imshow(picture.reshape(28,28), cmap='Greys')"
      ],
      "execution_count": 4,
      "outputs": [
        {
          "output_type": "stream",
          "text": [
            "label: 8\n"
          ],
          "name": "stdout"
        },
        {
          "output_type": "execute_result",
          "data": {
            "text/plain": [
              "<matplotlib.image.AxesImage at 0x7f052865e6a0>"
            ]
          },
          "metadata": {
            "tags": []
          },
          "execution_count": 4
        },
        {
          "output_type": "display_data",
          "data": {
            "image/png": "[encoded data removed]",
            "text/plain": [
              "<Figure size 432x288 with 1 Axes>"
            ]
          },
          "metadata": {
            "tags": []
          }
        }
      ]
    },
    {
      "cell_type": "markdown",
      "metadata": {
        "id": "v6-ey6MGxM-s",
        "colab_type": "text"
      },
      "source": [
        "# Computation nodes\n",
        "\n",
        "Instead of directly manipulating numpy arrays, we will manipulate abstraction that contains:\n",
        "- a value (i.e. a numpy array)\n",
        "- a bool indicating if we wish to compute the gradient with respect to the value\n",
        "- the gradient with respect to the value\n",
        "- the operation to call during backpropagation\n",
        "\n",
        "There will be two kinds of nodes:\n",
        "- Tensor: a generic computation node\n",
        "- Parameter: a computation node that is used to store parameters of the network. Parameters are always leaf nodes, i.e. they cannot be build from other computation nodes.\n",
        "\n",
        "Our implementation of the backward pass will be really simple and incorrect in the general case (i.e. won't work with computation graph with \"loops\").\n",
        "We will just apply the derivative function for a given tensor and then call the ones of its antecedents, recursively.\n",
        "This simple algorithm is good enough for this exercise.\n",
        "You may want to look at the implementation of the relu (given below) to understand what you have to do.\n",
        "\n",
        "Note that a real implementation of backprop will store temporary values during forward that can be used during backward to improve computation speed. We do not do that here.\n",
        "\n",
        "**Report:** give an example where this simple backprop implementation will fail and propose a solution (you don't need to implement it!)"
      ]
    },
    {
      "cell_type": "code",
      "metadata": {
        "id": "g392k34rxM-w",
        "colab_type": "code",
        "colab": {}
      },
      "source": [
        "class Tensor:\n",
        "    def __init__(self, data, require_grad=False):\n",
        "        # test type of data: should be np array\n",
        "        if isinstance(data, float):\n",
        "            data = np.array([data,])\n",
        "        if type(data) != np.ndarray:\n",
        "            raise RuntimeError(\"Input should be a numpy array\")\n",
        "\n",
        "        # store data for this tensor\n",
        "        self.data = data\n",
        "        self.require_grad = require_grad\n",
        "        \n",
        "        # this values should be set to enable autograd!\n",
        "        self.gradient = None\n",
        "        self.d = None\n",
        "        self.backptr = None\n",
        "        \n",
        "    def zero_grad(self):\n",
        "        \"\"\"\n",
        "        Set the gradient of thie tensor to 0\n",
        "        \"\"\"\n",
        "        if self.require_grad:\n",
        "            self.gradient = np.zeros_like(self.data)\n",
        "            \n",
        "    def accumulate_gradient(self, gradient):\n",
        "        \"\"\"\n",
        "        Accumulte gradient for this tensor\n",
        "        \"\"\"\n",
        "        if gradient.shape != self.data.shape:\n",
        "            raise RuntimeError(\"Invalid gradient dimension\")\n",
        "\n",
        "        if self.gradient is None:\n",
        "            self.gradient = np.copy(gradient)\n",
        "        else:\n",
        "            self.gradient += gradient\n",
        "            \n",
        "    def backward(self, g=None):\n",
        "        \"\"\"\n",
        "        The backward pass!\n",
        "        If g != None, then g is the gradient for the current node.\n",
        "        i.e. g will be != None only for the loss output.\n",
        "        \n",
        "        You should call the function stored in self.d with correct arguments,\n",
        "        and then recursively call the backward methods of tensors in the backptr list if:\n",
        "        1. they require a gradient\n",
        "        2. they are of type Tensor: check with isinstance(o, Tensor)\n",
        "        \"\"\"\n",
        "        if not self.require_grad:  # stop right now if this node does not require a gradient\n",
        "            return\n",
        "        \n",
        "        if g is not None:\n",
        "            if isinstance(g, float):\n",
        "                g = np.array([g])\n",
        "            if type(g) != np.ndarray:\n",
        "                raise RuntimeError(\"Gradient should be a numpy array\")\n",
        "            if g.shape != self.data.shape:\n",
        "                raise RuntimeError(\"Gradient of different size than the value!\")\n",
        "                \n",
        "            self.gradient = g\n",
        "\n",
        "        self.d(self.backptr, self.gradient)\n",
        "\n",
        "        for ptr in self.backptr:\n",
        "          if isinstance(ptr,Tensor) and ptr.require_grad and not isinstance(ptr,Parameter):\n",
        "            ptr.backward()\n",
        "    \n",
        "    \n",
        "class Parameter(Tensor):\n",
        "    \"\"\"\n",
        "    This class will be used to store parameters of the network only!\n",
        "    \"\"\"\n",
        "    def __init__(self, data, name=\"unamed\"):\n",
        "        super().__init__(data, require_grad=True)\n",
        "        self.name = name\n",
        "        self.velocity = 0.\n",
        "        \n",
        "    def backward(self):\n",
        "        raise RuntimeError(\"You cannot backprop from a Parameter node\")"
      ],
      "execution_count": 0,
      "outputs": []
    },
    {
      "cell_type": "markdown",
      "metadata": {
        "id": "3IqVXq2CxM-6",
        "colab_type": "text"
      },
      "source": [
        "# Functions\n",
        "\n",
        "Functions manipulate tensors and build the required information for autograd.\n",
        "A function returns a Tensor that should have require_grad = True if at least of the arguments require a gradient."
      ]
    },
    {
      "cell_type": "code",
      "metadata": {
        "id": "FfgTEZV6xM-9",
        "colab_type": "code",
        "colab": {}
      },
      "source": [
        "def any_require_grad(l):\n",
        "    \"\"\"\n",
        "    Input:\n",
        "    - l: an iterable (e.g. a list)\n",
        "    Ouput:\n",
        "    - True if any tensor in the input requires a gradient\n",
        "    \"\"\"\n",
        "    return any(t.require_grad for t in l)"
      ],
      "execution_count": 0,
      "outputs": []
    },
    {
      "cell_type": "code",
      "metadata": {
        "id": "LVXf6QHDxM_I",
        "colab_type": "code",
        "colab": {}
      },
      "source": [
        "# Here is an exemple with the ReLU\n",
        "def relu(x):\n",
        "    v = np.maximum(0, x.data)\n",
        "    \n",
        "    output = Tensor(v, require_grad=x.require_grad)\n",
        "    output.d = backward_relu\n",
        "    output.backptr = [x]\n",
        "    \n",
        "    return output\n",
        "\n",
        "def backward_relu(backptr, g):\n",
        "    x, = backptr\n",
        "    \n",
        "    # the gradient is accumulated in the arguments only if required\n",
        "    if x.require_grad:\n",
        "        x.accumulate_gradient(g * (x.data > 0))"
      ],
      "execution_count": 0,
      "outputs": []
    },
    {
      "cell_type": "code",
      "metadata": {
        "id": "uNjqBNSjxM_Y",
        "colab_type": "code",
        "colab": {}
      },
      "source": [
        "def tanh(x):\n",
        "    v = 2 / (1 + np.exp(-2*x.data)) - 1\n",
        "\n",
        "    output = Tensor(v, require_grad=x.require_grad)\n",
        "    output.d = backward_tanh\n",
        "    output.backptr = [x]\n",
        "\n",
        "    return output\n",
        "\n",
        "def backward_tanh(backptr, g):\n",
        "    x, = backptr\n",
        "\n",
        "    if x.require_grad:\n",
        "      x.accumulate_gradient(g * (1 - tanh(x).data**2))"
      ],
      "execution_count": 0,
      "outputs": []
    },
    {
      "cell_type": "markdown",
      "metadata": {
        "id": "CH1lUrHsxM_k",
        "colab_type": "text"
      },
      "source": [
        "Next, we implement the affine transform operation.\n",
        "You can reuse the code from the first lab exercise, with one difference: you have to compute the gradient with respect to x too!"
      ]
    },
    {
      "cell_type": "code",
      "metadata": {
        "id": "9yly37E8xM_q",
        "colab_type": "code",
        "colab": {}
      },
      "source": [
        "def affine_transform(W, b, x):\n",
        "    v = W.data @ x.data.reshape((-1,1)) + b.data.reshape((-1,1))\n",
        "\n",
        "    output = Tensor(v, require_grad=True)\n",
        "    output.d = backward_affine_transform\n",
        "    output.backptr = [W,b,x]\n",
        "\n",
        "    return output\n",
        "\n",
        "def backward_affine_transform(backptr, g):\n",
        "    # retrieve forward arguments\n",
        "    W, b, x = backptr\n",
        "    \n",
        "    # the gradient is accumulated in the arguments only if required\n",
        "    if W.require_grad:\n",
        "        W.accumulate_gradient(g.reshape(-1, 1) @ x.data.reshape(1, -1))\n",
        "    if b.require_grad:\n",
        "        b.accumulate_gradient(g)\n",
        "    if x.require_grad:\n",
        "        #print(W.data.shape, b.data.shape, x.data.shape, g.shape)\n",
        "        x.accumulate_gradient(W.data.T @ g)"
      ],
      "execution_count": 0,
      "outputs": []
    },
    {
      "cell_type": "code",
      "metadata": {
        "id": "jJXtm1jrxM_5",
        "colab_type": "code",
        "colab": {}
      },
      "source": [
        "# we use an underscore because this function does not manipulate tensors:\n",
        "# it is exactly the same as in the previous exercise\n",
        "def _softmax(x):\n",
        "    return np.exp(x - np.max(x)) / np.sum(np.exp(x-np.max(x)))\n",
        "\n",
        "def nll(x, gold):\n",
        "    v = -x.data[gold] + np.max(x.data) + np.log(np.sum(np.exp(x.data - np.max(x.data))))\n",
        "\n",
        "    output = Tensor(v, require_grad=True)\n",
        "    output.d = backward_nll\n",
        "    output.backptr = [x,gold]\n",
        "\n",
        "    return output\n",
        "\n",
        "def backward_nll(backptr, g):\n",
        "  x,gold = backptr\n",
        "\n",
        "  result = np.exp(x.data - np.max(x.data)) / np.sum(np.exp(x.data - np.max(x.data)))\n",
        "  result[gold] = -1 + result[gold]\n",
        "\n",
        "  if x.require_grad:\n",
        "        x.accumulate_gradient(result)"
      ],
      "execution_count": 0,
      "outputs": []
    },
    {
      "cell_type": "markdown",
      "metadata": {
        "id": "XZmYWIK7xNAB",
        "colab_type": "text"
      },
      "source": [
        "# Module\n",
        "\n",
        "Neural networks or parts of neural networks will be stored in Modules.\n",
        "They implement method to retrieve all parameters of the network and subnetwork."
      ]
    },
    {
      "cell_type": "code",
      "metadata": {
        "id": "QUBIUAMCxNAF",
        "colab_type": "code",
        "colab": {}
      },
      "source": [
        "class Module:\n",
        "    def __init__(self):\n",
        "        raise NotImplemented(\"\")\n",
        "        \n",
        "    def parameters(self):\n",
        "        ret = []\n",
        "        for name in dir(self):\n",
        "            o = self.__getattribute__(name)\n",
        "\n",
        "            if type(o) is Parameter:\n",
        "                ret.append(o)\n",
        "            if isinstance(o, Module) or isinstance(o, ModuleList):\n",
        "                ret.extend(o.parameters())\n",
        "        return ret\n",
        "\n",
        "# if you want to store a list of Parameters or Module,\n",
        "# you must store them in a ModuleList instead of a python list,\n",
        "# in order to collect the parameters correctly\n",
        "class ModuleList(list):\n",
        "    def parameters(self):\n",
        "        ret = []\n",
        "        for m in self:\n",
        "            if type(m) is Parameter:\n",
        "                ret.append(m)\n",
        "            elif isinstance(m, Module) or isinstance(m, ModuleList):\n",
        "                ret.extend(m.parameters())\n",
        "        return ret"
      ],
      "execution_count": 0,
      "outputs": []
    },
    {
      "cell_type": "markdown",
      "metadata": {
        "id": "QQHsi0foxNAN",
        "colab_type": "text"
      },
      "source": [
        "# Initialization and optimization"
      ]
    },
    {
      "cell_type": "code",
      "metadata": {
        "id": "LDH3HDFjxNAP",
        "colab_type": "code",
        "colab": {}
      },
      "source": [
        "def zero_init(b):\n",
        "    return np.zeros(b.shape[0]).reshape((-1,1))\n",
        "\n",
        "def glorot_init(W):\n",
        "  m = W.shape[0]\n",
        "  n = W.shape[1]\n",
        "  init_value = np.sqrt(6 / (m + n))\n",
        "  return np.random.uniform(-init_value, init_value, (m, n))\n",
        "\n",
        "def kaiming_init(W):\n",
        "  m = W.shape[0]\n",
        "  n = W.shape[1]\n",
        "  init_value = np.sqrt(6 / n)\n",
        "  return np.random.uniform(-init_value, init_value, (m, n))"
      ],
      "execution_count": 0,
      "outputs": []
    },
    {
      "cell_type": "code",
      "metadata": {
        "id": "FE8WpR5OxNAY",
        "colab_type": "code",
        "colab": {}
      },
      "source": [
        "# simple gradient descent optimizer\n",
        "class SGD:\n",
        "    def __init__(self, params, lr=0.1, momentum=0.9):\n",
        "        self.params = params\n",
        "        self.lr = lr\n",
        "        self.momentum = momentum\n",
        "        \n",
        "    def step(self):\n",
        "        for p in self.params:\n",
        "            old_velocity = p.velocity\n",
        "            p.velocity = (self.momentum*old_velocity) + ((1-self.momentum)*p.gradient)\n",
        "            p.data[:] = p.data - self.lr * p.velocity\n",
        "        \n",
        "    def zero_grad(self):\n",
        "        for p in self.params:\n",
        "            p.zero_grad()"
      ],
      "execution_count": 0,
      "outputs": []
    },
    {
      "cell_type": "markdown",
      "metadata": {
        "id": "BPQ3g6_gxNAg",
        "colab_type": "text"
      },
      "source": [
        "# Networks and training loop\n",
        "\n",
        "We first create a simple linear classifier, similar to the first lab exercise."
      ]
    },
    {
      "cell_type": "code",
      "metadata": {
        "id": "1WNliTbjxNAl",
        "colab_type": "code",
        "colab": {}
      },
      "source": [
        "class LinearNetwork(Module):\n",
        "    def __init__(self, dim_input, dim_output):\n",
        "        # build the parameters\n",
        "        self.W = Parameter(np.ndarray((dim_output, dim_input)))\n",
        "        self.b = Parameter(np.ndarray((dim_output,1)))\n",
        "        \n",
        "        self.init_parameters()\n",
        "        \n",
        "    def init_parameters(self):\n",
        "        # init parameters of the network (i.e W and b)\n",
        "        self.W.data = glorot_init(self.W.data)\n",
        "        self.b.data = zero_init(self.b.data)\n",
        "        \n",
        "    def forward(self, x):\n",
        "        return  affine_transform(self.W, self.b, x)"
      ],
      "execution_count": 0,
      "outputs": []
    },
    {
      "cell_type": "markdown",
      "metadata": {
        "id": "sRYbUjplxNAt",
        "colab_type": "text"
      },
      "source": [
        "We will train several neural networks.\n",
        "Therefore, we encapsulate the training loop in a function.\n",
        "\n",
        "**warning**: you have to call optimizer.zero_grad() before each backward pass to reinitialize the gradient of the parameters!"
      ]
    },
    {
      "cell_type": "code",
      "metadata": {
        "id": "0xXwNJjpT0fX",
        "colab_type": "code",
        "colab": {}
      },
      "source": [
        "def model_validation(X, Y, network):\n",
        "    tot_loss = 0.\n",
        "    accurancy = 0\n",
        "    \n",
        "    size = X.shape[0]\n",
        "    \n",
        "    for i in range(size):\n",
        "        x = Tensor(X[i], require_grad=False)\n",
        "        label = Y[i]\n",
        "\n",
        "        y = network.forward(x)\n",
        "      \n",
        "        loss = nll(y, label)\n",
        "        \n",
        "        prediction = np.argmax(_softmax(y.data))\n",
        "        \n",
        "        tot_loss += loss.data\n",
        "        accurancy += 1 if prediction == label else 0\n",
        "    \n",
        "    return accurancy/size*100, tot_loss/size"
      ],
      "execution_count": 0,
      "outputs": []
    },
    {
      "cell_type": "code",
      "metadata": {
        "id": "CRkmzIYWxNAz",
        "colab_type": "code",
        "colab": {}
      },
      "source": [
        "def training_loop(network, optimizer, train_data, dev_data, n_epochs=10):\n",
        "  X_train = train_data[0]\n",
        "  y_train = train_data[1]\n",
        "\n",
        "  X_dev = dev_data[0]\n",
        "  y_dev = dev_data[1]\n",
        "\n",
        "  train_size = X_train.shape[0]\n",
        "\n",
        "  dev_loss_list = []\n",
        "  dev_acc_list = []\n",
        "  epoch_list = []\n",
        "\n",
        "  for epoch in range(n_epochs):\n",
        "    X_train, y_train = shuffle(X_train, y_train)\n",
        "    \n",
        "    for i in range(train_size):\n",
        "      x = Tensor(X_train[i], require_grad=False)\n",
        "      y = network.forward(x)\n",
        "      \n",
        "      loss = nll(y, y_train[i])\n",
        "      optimizer.zero_grad()\n",
        "      loss.backward(1.)\n",
        "      optimizer.step()\n",
        "    \n",
        "    dev_accurancy, avg_dev_loss = model_validation(X_dev, y_dev, network)\n",
        "    epoch_list.append(epoch+1)\n",
        "    dev_loss_list.append(avg_dev_loss)\n",
        "    dev_acc_list.append(dev_accurancy)\n",
        "\n",
        "    print(\"Epoch: {:d}/{:d}\".format(epoch+1,n_epochs))\n",
        "    print (\"Dev Avg Loss:\", avg_dev_loss, \"\\t\\tDev Accurancy:\", dev_accurancy)\n",
        "    print()\n",
        "\n",
        "  return epoch_list, dev_loss_list, dev_acc_list"
      ],
      "execution_count": 0,
      "outputs": []
    },
    {
      "cell_type": "code",
      "metadata": {
        "id": "U0WfyPf-xNA9",
        "colab_type": "code",
        "outputId": "456e6fc8-8ae8-4781-a76b-529d76895625",
        "colab": {
          "base_uri": "https://localhost:8080/",
          "height": 290
        }
      },
      "source": [
        "dim_input = 28*28\n",
        "dim_output = 10\n",
        "\n",
        "network = LinearNetwork(dim_input, dim_output)\n",
        "optimizer = SGD(network.parameters(), 0.01, 0.9)\n",
        "\n",
        "epochs, losses, accs = training_loop(network, optimizer, train_data, dev_data, n_epochs=5)"
      ],
      "execution_count": 17,
      "outputs": [
        {
          "output_type": "stream",
          "text": [
            "Epoch: 1/5\n",
            "Dev Avg Loss: [0.29444965] \t\tDev Accurancy: 91.56\n",
            "\n",
            "Epoch: 2/5\n",
            "Dev Avg Loss: [0.27966955] \t\tDev Accurancy: 92.07\n",
            "\n",
            "Epoch: 3/5\n",
            "Dev Avg Loss: [0.27751897] \t\tDev Accurancy: 92.21000000000001\n",
            "\n",
            "Epoch: 4/5\n",
            "Dev Avg Loss: [0.28792397] \t\tDev Accurancy: 92.12\n",
            "\n",
            "Epoch: 5/5\n",
            "Dev Avg Loss: [0.27289629] \t\tDev Accurancy: 92.66\n",
            "\n"
          ],
          "name": "stdout"
        }
      ]
    },
    {
      "cell_type": "code",
      "metadata": {
        "id": "lfLy24UupHyi",
        "colab_type": "code",
        "outputId": "bbecc110-15c5-46cb-f5ee-f13d43f44700",
        "colab": {
          "base_uri": "https://localhost:8080/",
          "height": 567
        }
      },
      "source": [
        "plt.figure(figsize=(9,9))\n",
        "plt.plot(epochs,losses)\n",
        "plt.xlabel('Epoch')\n",
        "plt.ylabel('Dev Loss')\n",
        "plt.title('Linear Perceptron')\n",
        "plt.savefig('linear_loss_momentum.png')"
      ],
      "execution_count": 18,
      "outputs": [
        {
          "output_type": "display_data",
          "data": {
            "image/png": "[encoded data removed]",
            "text/plain": [
              "<Figure size 648x648 with 1 Axes>"
            ]
          },
          "metadata": {
            "tags": []
          }
        }
      ]
    },
    {
      "cell_type": "code",
      "metadata": {
        "id": "dXJ-kxvrpI1-",
        "colab_type": "code",
        "outputId": "559da563-d4f6-46a1-ffd1-97c0b6fb3ade",
        "colab": {
          "base_uri": "https://localhost:8080/",
          "height": 567
        }
      },
      "source": [
        "plt.figure(figsize=(9,9))\n",
        "plt.plot(epochs,accs)\n",
        "plt.xlabel('Epoch')\n",
        "plt.ylabel('Dev Accuracy')\n",
        "plt.title('Linear Perceptron')\n",
        "plt.savefig('linear_acc_momentum.png')"
      ],
      "execution_count": 19,
      "outputs": [
        {
          "output_type": "display_data",
          "data": {
            "image/png": "[encoded data removed]",
            "text/plain": [
              "<Figure size 648x648 with 1 Axes>"
            ]
          },
          "metadata": {
            "tags": []
          }
        }
      ]
    },
    {
      "cell_type": "markdown",
      "metadata": {
        "id": "HhVB3MCzxNBI",
        "colab_type": "text"
      },
      "source": [
        "After you finished the linear network, you can move to a deep network!\n",
        "The tanh argument can be used to switch between relu or tanh. Warning: use the correct initialization for a given activation!"
      ]
    },
    {
      "cell_type": "code",
      "metadata": {
        "id": "hMqGQwThxNBK",
        "colab_type": "code",
        "colab": {}
      },
      "source": [
        "class DeepNetwork(Module):\n",
        "    def __init__(self, dim_input, dim_output, hidden_dim, n_layers, tanh=False):\n",
        "        self.W = ModuleList()\n",
        "        self.b = ModuleList()\n",
        "        self.n_layers = n_layers\n",
        "        self.tanh = tanh\n",
        "        \n",
        "        for layer in range(n_layers):\n",
        "          if layer == 0:\n",
        "            weights = Parameter(np.ndarray((hidden_dim, dim_input)))\n",
        "          else:\n",
        "            weights = Parameter(np.ndarray((hidden_dim, hidden_dim)))\n",
        "            \n",
        "          bias = Parameter(np.ndarray((hidden_dim,1)))\n",
        "\n",
        "          self.W.append(weights)\n",
        "          self.b.append(bias)\n",
        "        \n",
        "        self.output_proj = Parameter(np.ndarray((dim_output, hidden_dim)))\n",
        "        self.output_bias = Parameter(np.ndarray((dim_output,1)))\n",
        "        \n",
        "        self.init_parameters()\n",
        "        \n",
        "    def init_parameters(self):\n",
        "        for weight in self.W.parameters():\n",
        "          if self.tanh: weight.data = glorot_init(weight.data)\n",
        "          else: weight.data = kaiming_init(weight.data)\n",
        "\n",
        "        for bias in self.b.parameters():\n",
        "          if self.tanh: bias.data = zero_init(bias.data)\n",
        "          else: bias.data = zero_init(bias.data) + 0.01\n",
        "\n",
        "        if self.tanh: self.output_proj.data = glorot_init(self.output_proj.data)\n",
        "        else: self.output_proj.data = kaiming_init(self.output_proj.data)\n",
        "\n",
        "        if self.tanh: self.output_bias.data = zero_init(self.output_bias.data)\n",
        "        else: self.output_bias.data = zero_init(self.output_bias.data) + 0.01\n",
        "\n",
        "    def forward(self, x):\n",
        "      z = x\n",
        "      for layer in range(self.n_layers):\n",
        "        z = affine_transform(self.W.parameters()[layer], self.b.parameters()[layer], z)\n",
        "        if self.tanh: z = tanh(z)\n",
        "        else: z = relu(z)\n",
        "\n",
        "      y = affine_transform(self.output_proj, self.output_bias, z)\n",
        "      return y"
      ],
      "execution_count": 0,
      "outputs": []
    },
    {
      "cell_type": "code",
      "metadata": {
        "id": "VHVAKmHqxNBS",
        "colab_type": "code",
        "outputId": "5da8cf3b-723a-432f-adb4-184a575ae183",
        "colab": {
          "base_uri": "https://localhost:8080/",
          "height": 562
        }
      },
      "source": [
        "dim_input = 28*28\n",
        "dim_output = 10\n",
        "\n",
        "network = DeepNetwork(dim_input, dim_output, 100, 1, tanh=False)\n",
        "optimizer = SGD(network.parameters(), 0.01, 0.9)\n",
        "\n",
        "epochs, losses, accs = training_loop(network, optimizer, train_data, dev_data, n_epochs=10)"
      ],
      "execution_count": 21,
      "outputs": [
        {
          "output_type": "stream",
          "text": [
            "Epoch: 1/10\n",
            "Dev Avg Loss: [0.13399486] \t\tDev Accurancy: 96.32\n",
            "\n",
            "Epoch: 2/10\n",
            "Dev Avg Loss: [0.14602446] \t\tDev Accurancy: 95.6\n",
            "\n",
            "Epoch: 3/10\n",
            "Dev Avg Loss: [0.09822314] \t\tDev Accurancy: 97.1\n",
            "\n",
            "Epoch: 4/10\n",
            "Dev Avg Loss: [0.10211476] \t\tDev Accurancy: 97.00999999999999\n",
            "\n",
            "Epoch: 5/10\n",
            "Dev Avg Loss: [0.09527821] \t\tDev Accurancy: 97.39\n",
            "\n",
            "Epoch: 6/10\n",
            "Dev Avg Loss: [0.09001732] \t\tDev Accurancy: 97.65\n",
            "\n",
            "Epoch: 7/10\n",
            "Dev Avg Loss: [0.08841551] \t\tDev Accurancy: 97.57000000000001\n",
            "\n",
            "Epoch: 8/10\n",
            "Dev Avg Loss: [0.09752081] \t\tDev Accurancy: 97.46000000000001\n",
            "\n",
            "Epoch: 9/10\n",
            "Dev Avg Loss: [0.0980719] \t\tDev Accurancy: 97.52\n",
            "\n",
            "Epoch: 10/10\n",
            "Dev Avg Loss: [0.09618353] \t\tDev Accurancy: 97.66\n",
            "\n"
          ],
          "name": "stdout"
        }
      ]
    },
    {
      "cell_type": "code",
      "metadata": {
        "id": "Li626lAtpTu0",
        "colab_type": "code",
        "outputId": "fb617430-1833-45c5-e3bb-531e75a1bf56",
        "colab": {
          "base_uri": "https://localhost:8080/",
          "height": 567
        }
      },
      "source": [
        "plt.figure(figsize=(9,9))\n",
        "plt.plot(epochs,losses)\n",
        "plt.xlabel('Epoch')\n",
        "plt.ylabel('Dev Loss')\n",
        "plt.title('Non Linear with ReLu activation')\n",
        "plt.savefig('relu_loss_momentum.png')"
      ],
      "execution_count": 22,
      "outputs": [
        {
          "output_type": "display_data",
          "data": {
            "image/png": "[encoded data removed]",
            "text/plain": [
              "<Figure size 648x648 with 1 Axes>"
            ]
          },
          "metadata": {
            "tags": []
          }
        }
      ]
    },
    {
      "cell_type": "code",
      "metadata": {
        "id": "Wo8fYaaspT9V",
        "colab_type": "code",
        "outputId": "601117cb-41bc-4beb-cce8-e7e689de2f1e",
        "colab": {
          "base_uri": "https://localhost:8080/",
          "height": 567
        }
      },
      "source": [
        "plt.figure(figsize=(9,9))\n",
        "plt.plot(epochs,accs)\n",
        "plt.xlabel('Epoch')\n",
        "plt.ylabel('Dev Accuracy')\n",
        "plt.title('Non Linear with ReLu activation')\n",
        "plt.savefig('relu_acc_momentum.png')"
      ],
      "execution_count": 23,
      "outputs": [
        {
          "output_type": "display_data",
          "data": {
            "image/png": "[encoded data removed]",
            "text/plain": [
              "<Figure size 648x648 with 1 Axes>"
            ]
          },
          "metadata": {
            "tags": []
          }
        }
      ]
    },
    {
      "cell_type": "code",
      "metadata": {
        "id": "Jn8C5f9NxNBd",
        "colab_type": "code",
        "outputId": "e46b80d0-750d-403b-809b-970b65149d55",
        "colab": {
          "base_uri": "https://localhost:8080/",
          "height": 562
        }
      },
      "source": [
        "dim_input = 28*28\n",
        "dim_output = 10\n",
        "\n",
        "network = DeepNetwork(dim_input, dim_output, 100, 1, tanh=True)\n",
        "optimizer = SGD(network.parameters(), 0.01, 0.9)\n",
        "\n",
        "epochs, losses, accs = training_loop(network, optimizer, train_data, dev_data, n_epochs=10)"
      ],
      "execution_count": 24,
      "outputs": [
        {
          "output_type": "stream",
          "text": [
            "Epoch: 1/10\n",
            "Dev Avg Loss: [0.14814536] \t\tDev Accurancy: 95.85000000000001\n",
            "\n",
            "Epoch: 2/10\n",
            "Dev Avg Loss: [0.10769449] \t\tDev Accurancy: 96.81\n",
            "\n",
            "Epoch: 3/10\n",
            "Dev Avg Loss: [0.10623905] \t\tDev Accurancy: 96.91\n",
            "\n",
            "Epoch: 4/10\n",
            "Dev Avg Loss: [0.09594154] \t\tDev Accurancy: 97.16\n",
            "\n",
            "Epoch: 5/10\n",
            "Dev Avg Loss: [0.09806019] \t\tDev Accurancy: 97.11999999999999\n",
            "\n",
            "Epoch: 6/10\n",
            "Dev Avg Loss: [0.08870717] \t\tDev Accurancy: 97.35000000000001\n",
            "\n",
            "Epoch: 7/10\n",
            "Dev Avg Loss: [0.09835131] \t\tDev Accurancy: 97.39999999999999\n",
            "\n",
            "Epoch: 8/10\n",
            "Dev Avg Loss: [0.09282664] \t\tDev Accurancy: 97.41\n",
            "\n",
            "Epoch: 9/10\n",
            "Dev Avg Loss: [0.09708989] \t\tDev Accurancy: 97.24000000000001\n",
            "\n",
            "Epoch: 10/10\n",
            "Dev Avg Loss: [0.08993347] \t\tDev Accurancy: 97.61\n",
            "\n"
          ],
          "name": "stdout"
        }
      ]
    },
    {
      "cell_type": "code",
      "metadata": {
        "id": "F_jivcyRpifK",
        "colab_type": "code",
        "colab": {
          "base_uri": "https://localhost:8080/",
          "height": 567
        },
        "outputId": "df1a5a40-8d39-4ecc-d29a-a76bd4fa528e"
      },
      "source": [
        "plt.figure(figsize=(9,9))\n",
        "plt.plot(epochs,losses)\n",
        "plt.xlabel('Epoch')\n",
        "plt.ylabel('Dev Loss')\n",
        "plt.title('Non Linear with Tanh activation')\n",
        "plt.savefig('tanh_loss_momentum.png')"
      ],
      "execution_count": 25,
      "outputs": [
        {
          "output_type": "display_data",
          "data": {
            "image/png": "[encoded data removed]",
            "text/plain": [
              "<Figure size 648x648 with 1 Axes>"
            ]
          },
          "metadata": {
            "tags": []
          }
        }
      ]
    },
    {
      "cell_type": "code",
      "metadata": {
        "id": "FISxMDRspijt",
        "colab_type": "code",
        "colab": {
          "base_uri": "https://localhost:8080/",
          "height": 567
        },
        "outputId": "f7d668c9-bd8a-40ee-cba3-9bb35d79adc4"
      },
      "source": [
        "plt.figure(figsize=(9,9))\n",
        "plt.plot(epochs,accs)\n",
        "plt.xlabel('Epoch')\n",
        "plt.ylabel('Dev Accuracy')\n",
        "plt.title('Non Linear with Tanh activation')\n",
        "plt.savefig('tanh_acc_momentum.png')"
      ],
      "execution_count": 27,
      "outputs": [
        {
          "output_type": "display_data",
          "data": {
            "image/png": "[encoded data removed]",
            "text/plain": [
              "<Figure size 648x648 with 1 Axes>"
            ]
          },
          "metadata": {
            "tags": []
          }
        }
      ]
    }
  ]
}