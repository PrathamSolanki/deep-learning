{
  "nbformat": 4,
  "nbformat_minor": 0,
  "metadata": {
    "kernelspec": {
      "display_name": "Python 3",
      "language": "python",
      "name": "python3"
    },
    "language_info": {
      "codemirror_mode": {
        "name": "ipython",
        "version": 3
      },
      "file_extension": ".py",
      "mimetype": "text/x-python",
      "name": "python",
      "nbconvert_exporter": "python",
      "pygments_lexer": "ipython3",
      "version": "3.7.4"
    },
    "colab": {
      "name": "lab_exercises_2.ipynb",
      "provenance": [],
      "collapsed_sections": []
    }
  },
  "cells": [
    {
      "cell_type": "markdown",
      "metadata": {
        "id": "qkoH4hIhxM9Y",
        "colab_type": "text"
      },
      "source": [
        "# Deep Learning - Lab Exercise 2\n",
        "\n",
        "**WARNING:** you must have finished the first exercise before this one as you will re-use parts of the code.\n",
        "\n",
        "In the first lab exercise, we built a simple linear classifier.\n",
        "Although it can give reasonable results on the MNIST dataset (~92.5% of accuracy), deeper neural networks can achieve more the 99% accuracy on this dataset.\n",
        "However, it can quickly become really impractical to explicitly code forward and backward passes.\n",
        "Hence, it is useful to rely on an auto-diff library where we specify the forward pass only, and the backward pass is automatically deduced from the computational graph structure.\n",
        "\n",
        "In this lab exercise, we will build a small and simple auto-diff lib that mimics the autograd mechanism from Pytorch (of course, we will simplify a lot!)\n",
        "There is two goal:\n",
        "- write the missing code\n",
        "- understand the general structure of an auto-diff lib by looking closely at the code. It will help you to understand how Pytorch works!"
      ]
    },
    {
      "cell_type": "code",
      "metadata": {
        "id": "kh_6yFowxM9j",
        "colab_type": "code",
        "colab": {}
      },
      "source": [
        "# import libs that we will use\n",
        "import os\n",
        "import numpy as np\n",
        "import pandas as pd\n",
        "import matplotlib.pyplot as plt\n",
        "import math\n",
        "from sklearn.utils import shuffle\n",
        "\n",
        "# To load the data we will use the script of Gaetan Marceau Caron\n",
        "# You can download it from the course webiste and move it to the same directory that contains this ipynb file\n",
        "import dataset_loader\n",
        "\n",
        "%matplotlib inline"
      ],
      "execution_count": 0,
      "outputs": []
    },
    {
      "cell_type": "markdown",
      "metadata": {
        "id": "0JSATjdRxM99",
        "colab_type": "text"
      },
      "source": [
        "# Data"
      ]
    },
    {
      "cell_type": "code",
      "metadata": {
        "id": "lRs3h2Q5xM-D",
        "colab_type": "code",
        "colab": {
          "base_uri": "https://localhost:8080/",
          "height": 217
        },
        "outputId": "20da07c8-1458-4fb3-da95-040b1754ca8b"
      },
      "source": [
        "# Download mnist dataset \n",
        "if(\"mnist.pkl.gz\" not in os.listdir(\".\")):\n",
        "    !wget http://deeplearning.net/data/mnist/mnist.pkl.gz\n",
        "\n",
        "# if you have it somewhere else, you can comment the lines above\n",
        "# and overwrite the path below\n",
        "mnist_path = \"./mnist.pkl.gz\""
      ],
      "execution_count": 2,
      "outputs": [
        {
          "output_type": "stream",
          "text": [
            "--2019-11-11 12:40:08--  http://deeplearning.net/data/mnist/mnist.pkl.gz\n",
            "Resolving deeplearning.net (deeplearning.net)... 132.204.26.28\n",
            "Connecting to deeplearning.net (deeplearning.net)|132.204.26.28|:80... connected.\n",
            "HTTP request sent, awaiting response... 200 OK\n",
            "Length: 16168813 (15M) [application/x-gzip]\n",
            "Saving to: ‘mnist.pkl.gz’\n",
            "\n",
            "mnist.pkl.gz        100%[===================>]  15.42M  4.14MB/s    in 4.4s    \n",
            "\n",
            "2019-11-11 12:40:13 (3.51 MB/s) - ‘mnist.pkl.gz’ saved [16168813/16168813]\n",
            "\n"
          ],
          "name": "stdout"
        }
      ]
    },
    {
      "cell_type": "code",
      "metadata": {
        "id": "zO4SNOuSxM-T",
        "colab_type": "code",
        "colab": {}
      },
      "source": [
        "# load the 3 splits\n",
        "train_data, dev_data, test_data = dataset_loader.load_mnist(mnist_path)"
      ],
      "execution_count": 0,
      "outputs": []
    },
    {
      "cell_type": "code",
      "metadata": {
        "id": "j5577lwRxM-e",
        "colab_type": "code",
        "outputId": "54c5794a-fcae-4f6f-bf6a-853d7ba75e18",
        "colab": {
          "base_uri": "https://localhost:8080/",
          "height": 301
        }
      },
      "source": [
        "index = 900\n",
        "label = train_data[1][index]\n",
        "picture = train_data[0][index]\n",
        "\n",
        "print(\"label: %i\" % label)\n",
        "plt.imshow(picture.reshape(28,28), cmap='Greys')"
      ],
      "execution_count": 4,
      "outputs": [
        {
          "output_type": "stream",
          "text": [
            "label: 4\n"
          ],
          "name": "stdout"
        },
        {
          "output_type": "execute_result",
          "data": {
            "text/plain": [
              "<matplotlib.image.AxesImage at 0x7f4710cca710>"
            ]
          },
          "metadata": {
            "tags": []
          },
          "execution_count": 4
        },
        {
          "output_type": "display_data",
          "data": {
            "image/png": "[encoded data removed]",
            "text/plain": [
              "<Figure size 432x288 with 1 Axes>"
            ]
          },
          "metadata": {
            "tags": []
          }
        }
      ]
    },
    {
      "cell_type": "markdown",
      "metadata": {
        "id": "v6-ey6MGxM-s",
        "colab_type": "text"
      },
      "source": [
        "# Computation nodes\n",
        "\n",
        "Instead of directly manipulating numpy arrays, we will manipulate abstraction that contains:\n",
        "- a value (i.e. a numpy array)\n",
        "- a bool indicating if we wish to compute the gradient with respect to the value\n",
        "- the gradient with respect to the value\n",
        "- the operation to call during backpropagation\n",
        "\n",
        "There will be two kinds of nodes:\n",
        "- Tensor: a generic computation node\n",
        "- Parameter: a computation node that is used to store parameters of the network. Parameters are always leaf nodes, i.e. they cannot be build from other computation nodes.\n",
        "\n",
        "Our implementation of the backward pass will be really simple and incorrect in the general case (i.e. won't work with computation graph with \"loops\").\n",
        "We will just apply the derivative function for a given tensor and then call the ones of its antecedents, recursively.\n",
        "This simple algorithm is good enough for this exercise.\n",
        "You may want to look at the implementation of the relu (given below) to understand what you have to do.\n",
        "\n",
        "Note that a real implementation of backprop will store temporary values during forward that can be used during backward to improve computation speed. We do not do that here.\n",
        "\n",
        "**Report:** give an example where this simple backprop implementation will fail and propose a solution (you don't need to implement it!)"
      ]
    },
    {
      "cell_type": "code",
      "metadata": {
        "id": "g392k34rxM-w",
        "colab_type": "code",
        "colab": {}
      },
      "source": [
        "class Tensor:\n",
        "    def __init__(self, data, require_grad=False):\n",
        "        # test type of data: should be np array\n",
        "        if isinstance(data, float):\n",
        "            data = np.array([data,])\n",
        "        if type(data) != np.ndarray:\n",
        "            raise RuntimeError(\"Input should be a numpy array\")\n",
        "\n",
        "        # store data for this tensor\n",
        "        self.data = data\n",
        "        self.require_grad = require_grad\n",
        "        \n",
        "        # this values should be set to enable autograd!\n",
        "        self.gradient = None\n",
        "        self.d = None\n",
        "        self.backptr = None\n",
        "        \n",
        "    def zero_grad(self):\n",
        "        \"\"\"\n",
        "        Set the gradient of thie tensor to 0\n",
        "        \"\"\"\n",
        "        if self.require_grad:\n",
        "            self.gradient = np.zeros_like(self.data)\n",
        "            \n",
        "    def accumulate_gradient(self, gradient):\n",
        "        \"\"\"\n",
        "        Accumulte gradient for this tensor\n",
        "        \"\"\"\n",
        "        if gradient.shape != self.data.shape:\n",
        "            raise RuntimeError(\"Invalid gradient dimension\")\n",
        "\n",
        "        if self.gradient is None:\n",
        "            self.gradient = np.copy(gradient)\n",
        "        else:\n",
        "            self.gradient += gradient\n",
        "            \n",
        "    def backward(self, g=None):\n",
        "        \"\"\"\n",
        "        The backward pass!\n",
        "        If g != None, then g is the gradient for the current node.\n",
        "        i.e. g will be != None only for the loss output.\n",
        "        \n",
        "        You should call the function stored in self.d with correct arguments,\n",
        "        and then recursively call the backward methods of tensors in the backptr list if:\n",
        "        1. they require a gradient\n",
        "        2. they are of type Tensor: check with isinstance(o, Tensor)\n",
        "        \"\"\"\n",
        "        if not self.require_grad:  # stop right now if this node does not require a gradient\n",
        "            return\n",
        "        \n",
        "        if g is not None:\n",
        "            if isinstance(g, float):\n",
        "                g = np.array([g])\n",
        "            if type(g) != np.ndarray:\n",
        "                raise RuntimeError(\"Gradient should be a numpy array\")\n",
        "            if g.shape != self.data.shape:\n",
        "                raise RuntimeError(\"Gradient of different size than the value!\")\n",
        "                \n",
        "            self.gradient = g\n",
        "\n",
        "        self.d(self.backptr, self.gradient)\n",
        "\n",
        "        for ptr in self.backptr:\n",
        "          if isinstance(ptr,Tensor) and ptr.require_grad and not isinstance(ptr,Parameter):\n",
        "            ptr.backward()\n",
        "    \n",
        "    \n",
        "class Parameter(Tensor):\n",
        "    \"\"\"\n",
        "    This class will be used to store parameters of the network only!\n",
        "    \"\"\"\n",
        "    def __init__(self, data, name=\"unamed\"):\n",
        "        super().__init__(data, require_grad=True)\n",
        "        self.name = name\n",
        "        \n",
        "    def backward(self):\n",
        "        raise RuntimeError(\"You cannot backprop from a Parameter node\")"
      ],
      "execution_count": 0,
      "outputs": []
    },
    {
      "cell_type": "markdown",
      "metadata": {
        "id": "3IqVXq2CxM-6",
        "colab_type": "text"
      },
      "source": [
        "# Functions\n",
        "\n",
        "Functions manipulate tensors and build the required information for autograd.\n",
        "A function returns a Tensor that should have require_grad = True if at least of the arguments require a gradient."
      ]
    },
    {
      "cell_type": "code",
      "metadata": {
        "id": "FfgTEZV6xM-9",
        "colab_type": "code",
        "colab": {}
      },
      "source": [
        "def any_require_grad(l):\n",
        "    \"\"\"\n",
        "    Input:\n",
        "    - l: an iterable (e.g. a list)\n",
        "    Ouput:\n",
        "    - True if any tensor in the input requires a gradient\n",
        "    \"\"\"\n",
        "    return any(t.require_grad for t in l)"
      ],
      "execution_count": 0,
      "outputs": []
    },
    {
      "cell_type": "code",
      "metadata": {
        "id": "LVXf6QHDxM_I",
        "colab_type": "code",
        "colab": {}
      },
      "source": [
        "# Here is an exemple with the ReLU\n",
        "def relu(x):\n",
        "    v = np.maximum(0, x.data)\n",
        "    \n",
        "    output = Tensor(v, require_grad=x.require_grad)\n",
        "    output.d = backward_relu\n",
        "    output.backptr = [x]\n",
        "    \n",
        "    return output\n",
        "\n",
        "def backward_relu(backptr, g):\n",
        "    x, = backptr\n",
        "    \n",
        "    # the gradient is accumulated in the arguments only if required\n",
        "    if x.require_grad:\n",
        "        x.accumulate_gradient(g * (x.data > 0))"
      ],
      "execution_count": 0,
      "outputs": []
    },
    {
      "cell_type": "code",
      "metadata": {
        "id": "uNjqBNSjxM_Y",
        "colab_type": "code",
        "colab": {}
      },
      "source": [
        "def tanh(x):\n",
        "    v = 2 / (1 + np.exp(-2*x.data)) - 1\n",
        "\n",
        "    output = Tensor(v, require_grad=x.require_grad)\n",
        "    output.d = backward_tanh\n",
        "    output.backptr = [x]\n",
        "\n",
        "    return output\n",
        "\n",
        "def backward_tanh(backptr, g):\n",
        "    x, = backptr\n",
        "\n",
        "    if x.require_grad:\n",
        "      x.accumulate_gradient(g * (1 - tanh(x).data**2))"
      ],
      "execution_count": 0,
      "outputs": []
    },
    {
      "cell_type": "markdown",
      "metadata": {
        "id": "CH1lUrHsxM_k",
        "colab_type": "text"
      },
      "source": [
        "Next, we implement the affine transform operation.\n",
        "You can reuse the code from the first lab exercise, with one difference: you have to compute the gradient with respect to x too!"
      ]
    },
    {
      "cell_type": "code",
      "metadata": {
        "id": "9yly37E8xM_q",
        "colab_type": "code",
        "colab": {}
      },
      "source": [
        "def affine_transform(W, b, x):\n",
        "    v = W.data @ x.data.reshape((-1,1)) + b.data.reshape((-1,1))\n",
        "\n",
        "    output = Tensor(v, require_grad=True)\n",
        "    output.d = backward_affine_transform\n",
        "    output.backptr = [W,b,x]\n",
        "\n",
        "    return output\n",
        "\n",
        "def backward_affine_transform(backptr, g):\n",
        "    # retrieve forward arguments\n",
        "    W, b, x = backptr\n",
        "    \n",
        "    # the gradient is accumulated in the arguments only if required\n",
        "    if W.require_grad:\n",
        "        W.accumulate_gradient(g.reshape(-1, 1) @ x.data.reshape(1, -1))\n",
        "    if b.require_grad:\n",
        "        b.accumulate_gradient(g)\n",
        "    if x.require_grad:\n",
        "        #print(W.data.shape, b.data.shape, x.data.shape, g.shape)\n",
        "        x.accumulate_gradient(W.data.T @ g)"
      ],
      "execution_count": 0,
      "outputs": []
    },
    {
      "cell_type": "code",
      "metadata": {
        "id": "jJXtm1jrxM_5",
        "colab_type": "code",
        "colab": {}
      },
      "source": [
        "# we use an underscore because this function does not manipulate tensors:\n",
        "# it is exactly the same as in the previous exercise\n",
        "def _softmax(x):\n",
        "    return np.exp(x - np.max(x)) / np.sum(np.exp(x-np.max(x)))\n",
        "\n",
        "def nll(x, gold):\n",
        "    v = -x.data[gold] + np.max(x.data) + np.log(np.sum(np.exp(x.data - np.max(x.data))))\n",
        "\n",
        "    output = Tensor(v, require_grad=True)\n",
        "    output.d = backward_nll\n",
        "    output.backptr = [x,gold]\n",
        "\n",
        "    return output\n",
        "\n",
        "def backward_nll(backptr, g):\n",
        "  x,gold = backptr\n",
        "\n",
        "  result = np.exp(x.data - np.max(x.data)) / np.sum(np.exp(x.data - np.max(x.data)))\n",
        "  result[gold] = -1 + result[gold]\n",
        "\n",
        "  if x.require_grad:\n",
        "        x.accumulate_gradient(result)"
      ],
      "execution_count": 0,
      "outputs": []
    },
    {
      "cell_type": "markdown",
      "metadata": {
        "id": "XZmYWIK7xNAB",
        "colab_type": "text"
      },
      "source": [
        "# Module\n",
        "\n",
        "Neural networks or parts of neural networks will be stored in Modules.\n",
        "They implement method to retrieve all parameters of the network and subnetwork."
      ]
    },
    {
      "cell_type": "code",
      "metadata": {
        "id": "QUBIUAMCxNAF",
        "colab_type": "code",
        "colab": {}
      },
      "source": [
        "class Module:\n",
        "    def __init__(self):\n",
        "        raise NotImplemented(\"\")\n",
        "        \n",
        "    def parameters(self):\n",
        "        ret = []\n",
        "        for name in dir(self):\n",
        "            o = self.__getattribute__(name)\n",
        "\n",
        "            if type(o) is Parameter:\n",
        "                ret.append(o)\n",
        "            if isinstance(o, Module) or isinstance(o, ModuleList):\n",
        "                ret.extend(o.parameters())\n",
        "        return ret\n",
        "\n",
        "# if you want to store a list of Parameters or Module,\n",
        "# you must store them in a ModuleList instead of a python list,\n",
        "# in order to collect the parameters correctly\n",
        "class ModuleList(list):\n",
        "    def parameters(self):\n",
        "        ret = []\n",
        "        for m in self:\n",
        "            if type(m) is Parameter:\n",
        "                ret.append(m)\n",
        "            elif isinstance(m, Module) or isinstance(m, ModuleList):\n",
        "                ret.extend(m.parameters())\n",
        "        return ret"
      ],
      "execution_count": 0,
      "outputs": []
    },
    {
      "cell_type": "markdown",
      "metadata": {
        "id": "QQHsi0foxNAN",
        "colab_type": "text"
      },
      "source": [
        "# Initialization and optimization"
      ]
    },
    {
      "cell_type": "code",
      "metadata": {
        "id": "LDH3HDFjxNAP",
        "colab_type": "code",
        "colab": {}
      },
      "source": [
        "def zero_init(b):\n",
        "    return np.zeros(b.shape[0]).reshape((-1,1))\n",
        "\n",
        "def glorot_init(W):\n",
        "  m = W.shape[0]\n",
        "  n = W.shape[1]\n",
        "  init_value = np.sqrt(6 / (m + n))\n",
        "  return np.random.uniform(-init_value, init_value, (m, n))\n",
        "\n",
        "def kaiming_init(W):\n",
        "  m = W.shape[0]\n",
        "  n = W.shape[1]\n",
        "  init_value = np.sqrt(6 / n)\n",
        "  return np.random.uniform(-init_value, init_value, (m, n))"
      ],
      "execution_count": 0,
      "outputs": []
    },
    {
      "cell_type": "code",
      "metadata": {
        "id": "FE8WpR5OxNAY",
        "colab_type": "code",
        "colab": {}
      },
      "source": [
        "# simple gradient descent optimizer\n",
        "class SGD:\n",
        "    def __init__(self, params, lr=0.1):\n",
        "        self.params = params\n",
        "        self.lr = lr\n",
        "        \n",
        "    def step(self):\n",
        "        for p in self.params:\n",
        "            p.data[:] = p.data - self.lr * p.gradient\n",
        "        \n",
        "    def zero_grad(self):\n",
        "        for p in self.params:\n",
        "            p.zero_grad()"
      ],
      "execution_count": 0,
      "outputs": []
    },
    {
      "cell_type": "markdown",
      "metadata": {
        "id": "BPQ3g6_gxNAg",
        "colab_type": "text"
      },
      "source": [
        "# Networks and training loop\n",
        "\n",
        "We first create a simple linear classifier, similar to the first lab exercise."
      ]
    },
    {
      "cell_type": "code",
      "metadata": {
        "id": "1WNliTbjxNAl",
        "colab_type": "code",
        "colab": {}
      },
      "source": [
        "class LinearNetwork(Module):\n",
        "    def __init__(self, dim_input, dim_output):\n",
        "        # build the parameters\n",
        "        self.W = Parameter(np.ndarray((dim_output, dim_input)))\n",
        "        self.b = Parameter(np.ndarray((dim_output,1)))\n",
        "        \n",
        "        self.init_parameters()\n",
        "        \n",
        "    def init_parameters(self):\n",
        "        # init parameters of the network (i.e W and b)\n",
        "        self.W.data = glorot_init(self.W.data)\n",
        "        self.b.data = zero_init(self.b.data)\n",
        "        \n",
        "    def forward(self, x):\n",
        "        return  affine_transform(self.W, self.b, x)"
      ],
      "execution_count": 0,
      "outputs": []
    },
    {
      "cell_type": "markdown",
      "metadata": {
        "id": "sRYbUjplxNAt",
        "colab_type": "text"
      },
      "source": [
        "We will train several neural networks.\n",
        "Therefore, we encapsulate the training loop in a function.\n",
        "\n",
        "**warning**: you have to call optimizer.zero_grad() before each backward pass to reinitialize the gradient of the parameters!"
      ]
    },
    {
      "cell_type": "code",
      "metadata": {
        "id": "0xXwNJjpT0fX",
        "colab_type": "code",
        "colab": {}
      },
      "source": [
        "def model_validation(X, Y, network):\n",
        "    tot_loss = 0.\n",
        "    accurancy = 0\n",
        "    \n",
        "    size = X.shape[0]\n",
        "    \n",
        "    for i in range(size):\n",
        "        x = Tensor(X[i], require_grad=False)\n",
        "        label = Y[i]\n",
        "\n",
        "        y = network.forward(x)\n",
        "      \n",
        "        loss = nll(y, label)\n",
        "        \n",
        "        prediction = np.argmax(_softmax(y.data))\n",
        "        \n",
        "        tot_loss += loss.data\n",
        "        accurancy += 1 if prediction == label else 0\n",
        "    \n",
        "    return accurancy/size*100, tot_loss/size"
      ],
      "execution_count": 0,
      "outputs": []
    },
    {
      "cell_type": "code",
      "metadata": {
        "id": "CRkmzIYWxNAz",
        "colab_type": "code",
        "colab": {}
      },
      "source": [
        "def training_loop(network, optimizer, train_data, dev_data, n_epochs=10):\n",
        "  X_train = train_data[0]\n",
        "  y_train = train_data[1]\n",
        "\n",
        "  X_dev = dev_data[0]\n",
        "  y_dev = dev_data[1]\n",
        "\n",
        "  X_test = test_data[0]\n",
        "  y_test = test_data[1]\n",
        "\n",
        "  train_size = X_train.shape[0]\n",
        "\n",
        "  dev_loss_list = []\n",
        "  dev_acc_list = []\n",
        "  epoch_list = []\n",
        "\n",
        "  for epoch in range(n_epochs):\n",
        "    X_train, y_train = shuffle(X_train, y_train)\n",
        "    \n",
        "    for i in range(train_size):\n",
        "      x = Tensor(X_train[i], require_grad=False)\n",
        "      y = network.forward(x)\n",
        "      \n",
        "      loss = nll(y, y_train[i])\n",
        "      optimizer.zero_grad()\n",
        "      loss.backward(1.)\n",
        "      optimizer.step()\n",
        "    \n",
        "    dev_accurancy, avg_dev_loss = model_validation(X_dev, y_dev, network)\n",
        "    epoch_list.append(epoch+1)\n",
        "    dev_loss_list.append(avg_dev_loss)\n",
        "    dev_acc_list.append(dev_accurancy)\n",
        "\n",
        "    print(\"Epoch: {:d}/{:d}\".format(epoch+1,n_epochs))\n",
        "    print (\"Dev Avg Loss:\", avg_dev_loss, \"\\t\\tDev Accurancy:\", dev_accurancy)\n",
        "    print()\n",
        "\n",
        "  test_accuracy, test_loss = model_validation(X_test, y_test, network)\n",
        "\n",
        "  return epoch_list, dev_loss_list, dev_acc_list, test_accuracy, test_loss"
      ],
      "execution_count": 0,
      "outputs": []
    },
    {
      "cell_type": "code",
      "metadata": {
        "id": "U0WfyPf-xNA9",
        "colab_type": "code",
        "outputId": "03436fc7-d6c4-4213-a11c-e3b693e716b1",
        "colab": {
          "base_uri": "https://localhost:8080/",
          "height": 290
        }
      },
      "source": [
        "dim_input = 28*28\n",
        "dim_output = 10\n",
        "\n",
        "network = LinearNetwork(dim_input, dim_output)\n",
        "optimizer = SGD(network.parameters(), 0.01)\n",
        "\n",
        "epochs, losses, accs, test_accuracy_linear_sgd, test_loss_linear_sgd = training_loop(network, optimizer, train_data, dev_data, n_epochs=5)"
      ],
      "execution_count": 17,
      "outputs": [
        {
          "output_type": "stream",
          "text": [
            "Epoch: 1/5\n",
            "Dev Avg Loss: [0.30833428] \t\tDev Accurancy: 91.16\n",
            "\n",
            "Epoch: 2/5\n",
            "Dev Avg Loss: [0.27792518] \t\tDev Accurancy: 92.19000000000001\n",
            "\n",
            "Epoch: 3/5\n",
            "Dev Avg Loss: [0.27417329] \t\tDev Accurancy: 92.41\n",
            "\n",
            "Epoch: 4/5\n",
            "Dev Avg Loss: [0.2738952] \t\tDev Accurancy: 92.54\n",
            "\n",
            "Epoch: 5/5\n",
            "Dev Avg Loss: [0.2798852] \t\tDev Accurancy: 92.04\n",
            "\n"
          ],
          "name": "stdout"
        }
      ]
    },
    {
      "cell_type": "code",
      "metadata": {
        "id": "lfLy24UupHyi",
        "colab_type": "code",
        "outputId": "4994cebb-61b9-4fac-f209-c57bdf561b14",
        "colab": {
          "base_uri": "https://localhost:8080/",
          "height": 567
        }
      },
      "source": [
        "plt.figure(figsize=(9,9))\n",
        "plt.plot(epochs,losses)\n",
        "plt.xlabel('Epoch')\n",
        "plt.ylabel('Dev Loss')\n",
        "plt.title('Linear Perceptron')\n",
        "plt.savefig('linear_loss.png')"
      ],
      "execution_count": 18,
      "outputs": [
        {
          "output_type": "display_data",
          "data": {
            "image/png": "[encoded data removed]",
            "text/plain": [
              "<Figure size 648x648 with 1 Axes>"
            ]
          },
          "metadata": {
            "tags": []
          }
        }
      ]
    },
    {
      "cell_type": "code",
      "metadata": {
        "id": "dXJ-kxvrpI1-",
        "colab_type": "code",
        "outputId": "b5320f50-3e61-422b-afe4-7d85615d946d",
        "colab": {
          "base_uri": "https://localhost:8080/",
          "height": 567
        }
      },
      "source": [
        "plt.figure(figsize=(9,9))\n",
        "plt.plot(epochs,accs)\n",
        "plt.xlabel('Epoch')\n",
        "plt.ylabel('Dev Accuracy')\n",
        "plt.title('Linear Perceptron')\n",
        "plt.savefig('linear_acc.png')"
      ],
      "execution_count": 19,
      "outputs": [
        {
          "output_type": "display_data",
          "data": {
            "image/png": "[encoded data removed]",
            "text/plain": [
              "<Figure size 648x648 with 1 Axes>"
            ]
          },
          "metadata": {
            "tags": []
          }
        }
      ]
    },
    {
      "cell_type": "markdown",
      "metadata": {
        "id": "HhVB3MCzxNBI",
        "colab_type": "text"
      },
      "source": [
        "After you finished the linear network, you can move to a deep network!\n",
        "The tanh argument can be used to switch between relu or tanh. Warning: use the correct initialization for a given activation!"
      ]
    },
    {
      "cell_type": "code",
      "metadata": {
        "id": "hMqGQwThxNBK",
        "colab_type": "code",
        "colab": {}
      },
      "source": [
        "class DeepNetwork(Module):\n",
        "    def __init__(self, dim_input, dim_output, hidden_dim, n_layers, tanh=False):\n",
        "        self.W = ModuleList()\n",
        "        self.b = ModuleList()\n",
        "        self.n_layers = n_layers\n",
        "        self.tanh = tanh\n",
        "        \n",
        "        for layer in range(n_layers):\n",
        "          if layer == 0:\n",
        "            weights = Parameter(np.ndarray((hidden_dim, dim_input)))\n",
        "          else:\n",
        "            weights = Parameter(np.ndarray((hidden_dim, hidden_dim)))\n",
        "            \n",
        "          bias = Parameter(np.ndarray((hidden_dim,1)))\n",
        "\n",
        "          self.W.append(weights)\n",
        "          self.b.append(bias)\n",
        "        \n",
        "        self.output_proj = Parameter(np.ndarray((dim_output, hidden_dim)))\n",
        "        self.output_bias = Parameter(np.ndarray((dim_output,1)))\n",
        "        \n",
        "        self.init_parameters()\n",
        "        \n",
        "    def init_parameters(self):\n",
        "        for weight in self.W.parameters():\n",
        "          if self.tanh: weight.data = glorot_init(weight.data)\n",
        "          else: weight.data = kaiming_init(weight.data)\n",
        "\n",
        "        for bias in self.b.parameters():\n",
        "          if self.tanh: bias.data = zero_init(bias.data)\n",
        "          else: bias.data = zero_init(bias.data) + 0.01\n",
        "\n",
        "        if self.tanh: self.output_proj.data = glorot_init(self.output_proj.data)\n",
        "        else: self.output_proj.data = kaiming_init(self.output_proj.data)\n",
        "\n",
        "        if self.tanh: self.output_bias.data = zero_init(self.output_bias.data)\n",
        "        else: self.output_bias.data = zero_init(self.output_bias.data) + 0.01\n",
        "\n",
        "    def forward(self, x):\n",
        "      z = x\n",
        "      for layer in range(self.n_layers):\n",
        "        z = affine_transform(self.W.parameters()[layer], self.b.parameters()[layer], z)\n",
        "        if self.tanh: z = tanh(z)\n",
        "        else: z = relu(z)\n",
        "\n",
        "      y = affine_transform(self.output_proj, self.output_bias, z)\n",
        "      return y"
      ],
      "execution_count": 0,
      "outputs": []
    },
    {
      "cell_type": "code",
      "metadata": {
        "id": "VHVAKmHqxNBS",
        "colab_type": "code",
        "outputId": "907e3e73-ee1c-4200-b74d-8209873dabe5",
        "colab": {
          "base_uri": "https://localhost:8080/",
          "height": 562
        }
      },
      "source": [
        "dim_input = 28*28\n",
        "dim_output = 10\n",
        "\n",
        "network = DeepNetwork(dim_input, dim_output, 100, 1, tanh=False)\n",
        "optimizer = SGD(network.parameters(), 0.01)\n",
        "\n",
        "epochs, losses, accs, test_accuracy_relu_sgd, test_loss_relu_sgd = training_loop(network, optimizer, train_data, dev_data, n_epochs=10)"
      ],
      "execution_count": 21,
      "outputs": [
        {
          "output_type": "stream",
          "text": [
            "Epoch: 1/10\n",
            "Dev Avg Loss: [0.1195308] \t\tDev Accurancy: 96.6\n",
            "\n",
            "Epoch: 2/10\n",
            "Dev Avg Loss: [0.09484102] \t\tDev Accurancy: 97.11\n",
            "\n",
            "Epoch: 3/10\n",
            "Dev Avg Loss: [0.11341724] \t\tDev Accurancy: 96.72\n",
            "\n",
            "Epoch: 4/10\n",
            "Dev Avg Loss: [0.08774129] \t\tDev Accurancy: 97.23\n",
            "\n",
            "Epoch: 5/10\n",
            "Dev Avg Loss: [0.09436429] \t\tDev Accurancy: 97.36\n",
            "\n",
            "Epoch: 6/10\n",
            "Dev Avg Loss: [0.09507823] \t\tDev Accurancy: 97.35000000000001\n",
            "\n",
            "Epoch: 7/10\n",
            "Dev Avg Loss: [0.09251908] \t\tDev Accurancy: 97.52\n",
            "\n",
            "Epoch: 8/10\n",
            "Dev Avg Loss: [0.07903653] \t\tDev Accurancy: 97.8\n",
            "\n",
            "Epoch: 9/10\n",
            "Dev Avg Loss: [0.0845888] \t\tDev Accurancy: 97.81\n",
            "\n",
            "Epoch: 10/10\n",
            "Dev Avg Loss: [0.08438893] \t\tDev Accurancy: 97.64\n",
            "\n"
          ],
          "name": "stdout"
        }
      ]
    },
    {
      "cell_type": "code",
      "metadata": {
        "id": "Li626lAtpTu0",
        "colab_type": "code",
        "outputId": "05156b8c-db67-4a88-bfca-75566752e5e8",
        "colab": {
          "base_uri": "https://localhost:8080/",
          "height": 567
        }
      },
      "source": [
        "plt.figure(figsize=(9,9))\n",
        "plt.plot(epochs,losses)\n",
        "plt.xlabel('Epoch')\n",
        "plt.ylabel('Dev Loss')\n",
        "plt.title('Non Linear with ReLu activation')\n",
        "plt.savefig('relu_loss.png')"
      ],
      "execution_count": 22,
      "outputs": [
        {
          "output_type": "display_data",
          "data": {
            "image/png": "[encoded data removed]",
            "text/plain": [
              "<Figure size 648x648 with 1 Axes>"
            ]
          },
          "metadata": {
            "tags": []
          }
        }
      ]
    },
    {
      "cell_type": "code",
      "metadata": {
        "id": "Wo8fYaaspT9V",
        "colab_type": "code",
        "outputId": "685486cc-d23a-4b44-f087-e594c5a41c03",
        "colab": {
          "base_uri": "https://localhost:8080/",
          "height": 567
        }
      },
      "source": [
        "plt.figure(figsize=(9,9))\n",
        "plt.plot(epochs,accs)\n",
        "plt.xlabel('Epoch')\n",
        "plt.ylabel('Dev Accuracy')\n",
        "plt.title('Non Linear with ReLu activation')\n",
        "plt.savefig('relu_acc.png')"
      ],
      "execution_count": 23,
      "outputs": [
        {
          "output_type": "display_data",
          "data": {
            "image/png": "[encoded data removed]",
            "text/plain": [
              "<Figure size 648x648 with 1 Axes>"
            ]
          },
          "metadata": {
            "tags": []
          }
        }
      ]
    },
    {
      "cell_type": "code",
      "metadata": {
        "id": "Jn8C5f9NxNBd",
        "colab_type": "code",
        "outputId": "c8bf3311-4f0d-42ec-d38f-897185b39414",
        "colab": {
          "base_uri": "https://localhost:8080/",
          "height": 562
        }
      },
      "source": [
        "dim_input = 28*28\n",
        "dim_output = 10\n",
        "\n",
        "network = DeepNetwork(dim_input, dim_output, 100, 1, tanh=True)\n",
        "optimizer = SGD(network.parameters(), 0.01)\n",
        "\n",
        "epochs, losses, accs, test_accuracy_tanh_sgd, test_loss_tanh_sgd = training_loop(network, optimizer, train_data, dev_data, n_epochs=10)"
      ],
      "execution_count": 24,
      "outputs": [
        {
          "output_type": "stream",
          "text": [
            "Epoch: 1/10\n",
            "Dev Avg Loss: [0.17156768] \t\tDev Accurancy: 94.96\n",
            "\n",
            "Epoch: 2/10\n",
            "Dev Avg Loss: [0.12329781] \t\tDev Accurancy: 96.54\n",
            "\n",
            "Epoch: 3/10\n",
            "Dev Avg Loss: [0.10545632] \t\tDev Accurancy: 96.97\n",
            "\n",
            "Epoch: 4/10\n",
            "Dev Avg Loss: [0.10214222] \t\tDev Accurancy: 96.98\n",
            "\n",
            "Epoch: 5/10\n",
            "Dev Avg Loss: [0.09772325] \t\tDev Accurancy: 97.15\n",
            "\n",
            "Epoch: 6/10\n",
            "Dev Avg Loss: [0.08879298] \t\tDev Accurancy: 97.28\n",
            "\n",
            "Epoch: 7/10\n",
            "Dev Avg Loss: [0.09061633] \t\tDev Accurancy: 97.39\n",
            "\n",
            "Epoch: 8/10\n",
            "Dev Avg Loss: [0.08687683] \t\tDev Accurancy: 97.52\n",
            "\n",
            "Epoch: 9/10\n",
            "Dev Avg Loss: [0.09496647] \t\tDev Accurancy: 97.44\n",
            "\n",
            "Epoch: 10/10\n",
            "Dev Avg Loss: [0.08609804] \t\tDev Accurancy: 97.5\n",
            "\n"
          ],
          "name": "stdout"
        }
      ]
    },
    {
      "cell_type": "code",
      "metadata": {
        "id": "F_jivcyRpifK",
        "colab_type": "code",
        "outputId": "64fcfd70-9848-44cb-dd16-ac6a24b86d9e",
        "colab": {
          "base_uri": "https://localhost:8080/",
          "height": 567
        }
      },
      "source": [
        "plt.figure(figsize=(9,9))\n",
        "plt.plot(epochs,losses)\n",
        "plt.xlabel('Epoch')\n",
        "plt.ylabel('Dev Loss')\n",
        "plt.title('Non Linear with Tanh activation')\n",
        "plt.savefig('tanh_loss.png')"
      ],
      "execution_count": 25,
      "outputs": [
        {
          "output_type": "display_data",
          "data": {
            "image/png": "[encoded data removed]",
            "text/plain": [
              "<Figure size 648x648 with 1 Axes>"
            ]
          },
          "metadata": {
            "tags": []
          }
        }
      ]
    },
    {
      "cell_type": "code",
      "metadata": {
        "id": "FISxMDRspijt",
        "colab_type": "code",
        "outputId": "7c5da9cd-99ce-4b5b-a903-5411950c741e",
        "colab": {
          "base_uri": "https://localhost:8080/",
          "height": 567
        }
      },
      "source": [
        "plt.figure(figsize=(9,9))\n",
        "plt.plot(epochs,accs)\n",
        "plt.xlabel('Epoch')\n",
        "plt.ylabel('Dev Accuracy')\n",
        "plt.title('Non Linear with Tanh activation')\n",
        "plt.savefig('tanh_acc.png')"
      ],
      "execution_count": 26,
      "outputs": [
        {
          "output_type": "display_data",
          "data": {
            "image/png": "[encoded data removed]",
            "text/plain": [
              "<Figure size 648x648 with 1 Axes>"
            ]
          },
          "metadata": {
            "tags": []
          }
        }
      ]
    },
    {
      "cell_type": "code",
      "metadata": {
        "id": "pQp8lIK6dCna",
        "colab_type": "code",
        "colab": {
          "base_uri": "https://localhost:8080/",
          "height": 143
        },
        "outputId": "cef5ef0c-a2a7-4384-a0ef-3159ce5cd749"
      },
      "source": [
        "cols = ['Model', 'Accuracy', 'Avg. Loss']\n",
        "test_results = pd.DataFrame(columns=cols)\n",
        "test_results = test_results.append(pd.DataFrame([['Linear Classifier with SGD',test_accuracy_linear_sgd,test_loss_linear_sgd[0]]], columns=cols))\n",
        "test_results = test_results.append(pd.DataFrame([['Non-linear with ReLu with with SGD',test_accuracy_relu_sgd,test_loss_relu_sgd[0]]], columns=cols))\n",
        "test_results = test_results.append(pd.DataFrame([['Non-linear with Tanh with with SGD',test_accuracy_tanh_sgd,test_loss_tanh_sgd[0]]], columns=cols))\n",
        "test_results.head()"
      ],
      "execution_count": 29,
      "outputs": [
        {
          "output_type": "execute_result",
          "data": {
            "text/html": [
              "<div>\n",
              "<style scoped>\n",
              "    .dataframe tbody tr th:only-of-type {\n",
              "        vertical-align: middle;\n",
              "    }\n",
              "\n",
              "    .dataframe tbody tr th {\n",
              "        vertical-align: top;\n",
              "    }\n",
              "\n",
              "    .dataframe thead th {\n",
              "        text-align: right;\n",
              "    }\n",
              "</style>\n",
              "<table border=\"1\" class=\"dataframe\">\n",
              "  <thead>\n",
              "    <tr style=\"text-align: right;\">\n",
              "      <th></th>\n",
              "      <th>Model</th>\n",
              "      <th>Accuracy</th>\n",
              "      <th>Avg. Loss</th>\n",
              "    </tr>\n",
              "  </thead>\n",
              "  <tbody>\n",
              "    <tr>\n",
              "      <th>0</th>\n",
              "      <td>Linear Classifier with SGD</td>\n",
              "      <td>91.81</td>\n",
              "      <td>0.284202</td>\n",
              "    </tr>\n",
              "    <tr>\n",
              "      <th>0</th>\n",
              "      <td>Non-linear with ReLu with with SGD</td>\n",
              "      <td>97.79</td>\n",
              "      <td>0.080797</td>\n",
              "    </tr>\n",
              "    <tr>\n",
              "      <th>0</th>\n",
              "      <td>Non-linear with Tanh with with SGD</td>\n",
              "      <td>97.74</td>\n",
              "      <td>0.076775</td>\n",
              "    </tr>\n",
              "  </tbody>\n",
              "</table>\n",
              "</div>"
            ],
            "text/plain": [
              "                                Model  Accuracy  Avg. Loss\n",
              "0          Linear Classifier with SGD     91.81   0.284202\n",
              "0  Non-linear with ReLu with with SGD     97.79   0.080797\n",
              "0  Non-linear with Tanh with with SGD     97.74   0.076775"
            ]
          },
          "metadata": {
            "tags": []
          },
          "execution_count": 29
        }
      ]
    },
    {
      "cell_type": "markdown",
      "metadata": {
        "id": "FgKBceGWxNB4",
        "colab_type": "text"
      },
      "source": [
        "# Bonus\n",
        "\n",
        "You can try to implement a momentum SGD optimizer!\n",
        "Note that you have to keep track of the velocity for each parameter in the optimizer."
      ]
    },
    {
      "cell_type": "markdown",
      "metadata": {
        "id": "gP7KHMAJZqIw",
        "colab_type": "text"
      },
      "source": [
        "- Implemented in a separate notebook."
      ]
    }
  ]
}