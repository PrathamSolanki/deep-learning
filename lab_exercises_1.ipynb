{
 "cells": [
  {
   "cell_type": "markdown",
   "metadata": {},
   "source": [
    "# Practical classes\n",
    "\n",
    "All exercices will be in Python. It is important that you keep track of exercices and structure you code correctly (e.g. create funcions that you can re-use later)\n",
    "\n",
    "We will use Jupyter notebooks (formerly known as IPython). You can read the following courses for help:\n",
    "* Python and numpy: http://cs231n.github.io/python-numpy-tutorial/\n",
    "* Jupyter / IPython : http://cs231n.github.io/ipython-tutorial/\n",
    "\n",
    "To run this notebook:\n",
    "* create a directory somewhere on your filesystem\n",
    "* download the .ipynb from the course website: http://teaching.caio-corro.fr/2019-2020/OPT8/\n",
    "* move the .ipynb into the directory\n",
    "* from a terminal:\n",
    "    * cd /directory/path\n",
    "    * jupyter notebook\n",
    "\n",
    "Each group must send me their work by e-mail (one mail per group) before next course:\n",
    "* complete the code with comments\n",
    "* quick report on what's going one, experimental results etc.\n",
    "\n",
    "If you don't want to use the notebook, send me the python code + a PDF with plots and answers.\n",
    "\n",
    "\n",
    "# Neural network: first experiments with a linear model\n",
    "\n",
    "In this first lab exercise we will code a neural network using numpy, without a neural network library.\n",
    "Next week, the lab exercise will be to extend this program with hidden layers and activation functions.\n",
    "\n",
    "The task is digit recognition: the neural network has to predict which digit in $\\{0...9\\}$ is written in the input picture. We will use the [MNIST](http://yann.lecun.com/exdb/mnist/) dataset, a standard benchmark in machine learning.\n",
    "\n",
    "The model is a simple linear  classifier $o = \\operatorname{softmax}(Wx + b)$ where:\n",
    "* $x$ is an input image that is represented as a column vector, each value being the \"color\" of a pixel\n",
    "* $W$ and $b$ are the parameters of the classifier\n",
    "* $\\operatorname{softmax}$ transforms the output weight (logits) into probabilities\n",
    "* $o$ is column vector that contains the probability of each category\n",
    "\n",
    "We will train this model via stochastic gradient descent by minimizing the negative log-likelihood of the data:\n",
    "$$\n",
    "    \\hat{W}, \\hat{b} = \\operatorname{argmin}_{W, b} \\sum_{x, y} - \\log p(y | x)\n",
    "$$\n",
    "Although this is a linear model, it classifies raw data without any manual feature extraction step."
   ]
  },
  {
   "cell_type": "code",
   "execution_count": 1,
   "metadata": {},
   "outputs": [],
   "source": [
    "# import libs that we will use\n",
    "import os\n",
    "import sys\n",
    "import numpy as np\n",
    "import matplotlib.pyplot as plt\n",
    "import math\n",
    "from sklearn.utils import shuffle\n",
    "import pickle\n",
    "import pandas as pd\n",
    "\n",
    "# To load the data we will use the script of Gaetan Marceau Caron\n",
    "# You can download it from the course webiste and move it to the same directory that contains this ipynb file\n",
    "import dataset_loader\n",
    "\n",
    "%matplotlib inline"
   ]
  },
  {
   "cell_type": "markdown",
   "metadata": {},
   "source": [
    "# 1. Data"
   ]
  },
  {
   "cell_type": "code",
   "execution_count": 2,
   "metadata": {},
   "outputs": [],
   "source": [
    "# Download mnist dataset \n",
    "if(\"mnist.pkl.gz\" not in os.listdir(\".\")):\n",
    "    !wget http://deeplearning.net/data/mnist/mnist.pkl.gz\n",
    "\n",
    "# if you have it somewhere else, you can comment the lines above\n",
    "# and overwrite the path below\n",
    "mnist_path = \"./mnist.pkl.gz\""
   ]
  },
  {
   "cell_type": "code",
   "execution_count": 3,
   "metadata": {},
   "outputs": [],
   "source": [
    "# load the 3 splits\n",
    "train_data, dev_data, test_data = dataset_loader.load_mnist(mnist_path)\n",
    "\n",
    "X_train = train_data[0]\n",
    "y_train = train_data[1]\n",
    "\n",
    "X_dev = dev_data[0]\n",
    "y_dev = dev_data[1]\n",
    "\n",
    "X_test = test_data[0]\n",
    "y_test = test_data[1]"
   ]
  },
  {
   "cell_type": "markdown",
   "metadata": {},
   "source": [
    "Each dataset is a list with two elemets:\n",
    "* data[0] contains images\n",
    "* data[1] contains labels\n",
    "\n",
    "Data is stored as numpy.ndarray. You can use data[0][i] to retrieve image number i and data[1][i] to retrieve its label."
   ]
  },
  {
   "cell_type": "code",
   "execution_count": 4,
   "metadata": {},
   "outputs": [
    {
     "name": "stdout",
     "output_type": "stream",
     "text": [
      "(50000, 784)\n",
      "(50000,)\n"
     ]
    }
   ],
   "source": [
    "print(train_data[0].shape)\n",
    "print(train_data[1].shape)"
   ]
  },
  {
   "cell_type": "code",
   "execution_count": 5,
   "metadata": {},
   "outputs": [
    {
     "name": "stdout",
     "output_type": "stream",
     "text": [
      "label: 2\n"
     ]
    },
    {
     "data": {
      "text/plain": [
       "<matplotlib.image.AxesImage at 0x19a145e0160>"
      ]
     },
     "execution_count": 5,
     "metadata": {},
     "output_type": "execute_result"
    },
    {
     "data": {
      "image/png": "[encoded data removed]",
      "text/plain": [
       "<Figure size 432x288 with 1 Axes>"
      ]
     },
     "metadata": {
      "needs_background": "light"
     },
     "output_type": "display_data"
    }
   ],
   "source": [
    "index = 900\n",
    "label = train_data[1][index]\n",
    "picture = train_data[0][index]\n",
    "\n",
    "print(\"label: %i\" % label)\n",
    "plt.imshow(picture.reshape(28,28), cmap='Greys')"
   ]
  },
  {
   "cell_type": "markdown",
   "metadata": {},
   "source": [
    "**Question:** What are the characteristics of training data? (number of samples, dimension of input, number of labels)\n",
    "\n",
    "The documentation of ndarray class is available here: https://docs.scipy.org/doc/numpy/reference/generated/numpy.ndarray.html"
   ]
  },
  {
   "cell_type": "code",
   "execution_count": 6,
   "metadata": {},
   "outputs": [],
   "source": [
    "def getDimDataset(data):\n",
    "    n_training = data[0].shape[0]\n",
    "    n_feature = data[0].shape[1]\n",
    "    n_label = data[1].shape[0]\n",
    "    return n_training, n_feature, n_label"
   ]
  },
  {
   "cell_type": "code",
   "execution_count": 7,
   "metadata": {},
   "outputs": [
    {
     "data": {
      "text/plain": [
       "(50000, 784, 50000)"
      ]
     },
     "execution_count": 7,
     "metadata": {},
     "output_type": "execute_result"
    }
   ],
   "source": [
    "getDimDataset(train_data)"
   ]
  },
  {
   "cell_type": "markdown",
   "metadata": {},
   "source": [
    "# 1. Building functions\n",
    "\n",
    "We now need to build functions that are required for the neural network.\n",
    "$$\n",
    "    o = \\operatorname{softmax}(Wx + b) \\\\\n",
    "    L(x, y) = -\\log p(y | x) = -\\log o[y]\n",
    "$$\n",
    "\n",
    "Note that in numpy, operator @ is used for matrix multiplication while * is used for element-wise multiplication.\n",
    "The documentation for linear algebra in numpy is available here: https://docs.scipy.org/doc/numpy/reference/routines.linalg.html\n",
    "\n",
    "The first operation is the affine transformation $v = Wx + b$.\n",
    "To compute the gradient, it is often convenient to write the forward pass as $v[i] = b[i] + \\sum_j W[i, j] x[j]$."
   ]
  },
  {
   "cell_type": "code",
   "execution_count": 8,
   "metadata": {},
   "outputs": [],
   "source": [
    "# Input:\n",
    "# - W: projection matrix\n",
    "# - b: bias\n",
    "# - x: input features\n",
    "# Output:\n",
    "# - vector\n",
    "def affine_transform(W, b, x):\n",
    "    v = W @ x + b\n",
    "    return v\n",
    "\n",
    "# Input:\n",
    "# - W: projection matrix\n",
    "# - b: bias\n",
    "# - x: input features\n",
    "# - g: incoming gradient\n",
    "# Output:\n",
    "# - g_W: gradient wrt W\n",
    "# - g_b: gradient wrt b\n",
    "def backward_affine_transform(W, b, x, g):\n",
    "    g_W = g.reshape(-1, 1) @ x.reshape(1, -1)\n",
    "    g_b = g\n",
    "    return g_W, g_b"
   ]
  },
  {
   "cell_type": "markdown",
   "metadata": {},
   "source": [
    "The next cell is a (too simple) test of affine_transform and backward_affine_transform.\n",
    "It should run without error if your implementation is correct."
   ]
  },
  {
   "cell_type": "code",
   "execution_count": 9,
   "metadata": {},
   "outputs": [],
   "source": [
    "W = np.asarray([[ 0.63024213,  0.53679375, -0.92079597],\n",
    " [-0.1155045,   0.62780356, -0.67961305],\n",
    " [ 0.08465286, -0.06561815, -0.39778322],\n",
    " [ 0.8242268,   0.58907262, -0.52208052],\n",
    " [-0.43894227, -0.56993247,  0.09520727]])\n",
    "b = np.asarray([ 0.42706842,  0.69636598, -0.85611933, -0.08682553,  0.83160079])\n",
    "x = np.asarray([-0.32809223, -0.54751413,  0.81949319])\n",
    "\n",
    "o_gold = np.asarray([-0.82819732, -0.16640748, -1.17394705, -1.10761496,  1.36568213])\n",
    "g = np.asarray([-0.08938868,  0.44083873, -0.2260743,  -0.96196726, -0.53428805])\n",
    "g_W_gold = np.asarray([[ 0.02932773,  0.04894156, -0.07325341],\n",
    " [-0.14463576, -0.24136543,  0.36126434],\n",
    " [ 0.07417322,  0.12377887, -0.18526635],\n",
    " [ 0.31561399,  0.52669067, -0.78832562],\n",
    " [ 0.17529576,  0.29253025, -0.43784542]])\n",
    "g_b_gold = np.asarray([-0.08938868,  0.44083873, -0.2260743,  -0.96196726, -0.53428805])\n",
    "\n",
    "\n",
    "# quick test of the forward pass\n",
    "o = affine_transform(W, b, x)\n",
    "if o.shape != o_gold.shape:\n",
    "    raise RuntimeError(\"Unexpected output dimension: got %s, expected %s\" % (str(o.shape), str(o_gold.shape)))\n",
    "if not np.allclose(o, o_gold):\n",
    "    raise RuntimeError(\"Output of the affine_transform function is incorrect\")\n",
    "    \n",
    "# quick test if the backward pass\n",
    "g_W, g_b = backward_affine_transform(W, b, x, g)\n",
    "if g_W.shape != g_W_gold.shape:\n",
    "        raise RuntimeError(\"Unexpected gradient dimension for W: got %s, expected %s\" % (str(g_W.shape), str(g_W_gold.shape)))\n",
    "if g_b.shape != g_b_gold.shape:\n",
    "        raise RuntimeError(\"Unexpected gradient dimension for b: got %s, expected %s\" % (str(g_b.shape), str(g_b_gold.shape)))\n",
    "if not np.allclose(g_W, g_W_gold):\n",
    "    raise RuntimeError(\"Gradient of W is incorrect\")\n",
    "if not np.allclose(g_b, g_b_gold):\n",
    "    raise RuntimeError(\"Gradient of b is incorrect\")"
   ]
  },
  {
   "cell_type": "markdown",
   "metadata": {},
   "source": [
    "The softmax function:\n",
    "$$\n",
    "     o = \\operatorname{softmax}(w)\n",
    "$$\n",
    "where $w$ is a vector of logits in $\\mathbb R$ and $o$ a vector of probabilities such that:\n",
    "$$\n",
    "    o[i] = \\frac{\\exp(w[i])}{\\sum_j \\exp(w[j])}\n",
    "$$\n",
    "We do not need to implement the backward for this experiment."
   ]
  },
  {
   "cell_type": "code",
   "execution_count": 10,
   "metadata": {},
   "outputs": [],
   "source": [
    "# Input:\n",
    "# - x: vector of logits\n",
    "# Output\n",
    "# - vector of probabilities\n",
    "def softmax(x):\n",
    "    return np.exp(x - np.max(x)) / np.sum(np.exp(x-np.max(x)))"
   ]
  },
  {
   "cell_type": "markdown",
   "metadata": {},
   "source": [
    "**WARNING:** is your implementation numerically stable?\n",
    "\n",
    "The $\\exp$ function results in computations that overflows (i.e. results in numbers that cannot be represented with floating point numbers).\n",
    "Therefore, it is always convenient to use the following trick to improve stability: https://timvieira.github.io/blog/post/2014/02/11/exp-normalize-trick/"
   ]
  },
  {
   "cell_type": "code",
   "execution_count": 11,
   "metadata": {},
   "outputs": [
    {
     "name": "stdout",
     "output_type": "stream",
     "text": [
      "[1. 0. 0.]\n"
     ]
    }
   ],
   "source": [
    "# Example for testing the numerical stability of softmax\n",
    "# It should return [1., 0. ,0.], not [nan, 0., 0.]\n",
    "z = [1000000,1,100]\n",
    "print(softmax(z))"
   ]
  },
  {
   "cell_type": "markdown",
   "metadata": {},
   "source": [
    "**Question**: from the result of the cell above, what can you say about the softmax output, even when it is stable?"
   ]
  },
  {
   "cell_type": "code",
   "execution_count": 12,
   "metadata": {},
   "outputs": [],
   "source": [
    "# Just too simple test for the softmax function\n",
    "x = np.asarray([0.92424884, -0.92381088, -0.74666024, -0.87705478, -0.54797015])\n",
    "y_gold = np.asarray([0.57467369, 0.09053556, 0.10808233, 0.09486917, 0.13183925])\n",
    "\n",
    "y = softmax(x)\n",
    "if not np.allclose(y, y_gold):\n",
    "    raise RuntimeError(\"Output of the softmax function is incorrect\")"
   ]
  },
  {
   "cell_type": "markdown",
   "metadata": {},
   "source": [
    "Finally, we build the loss function and its gradient for training the network.\n",
    "\n",
    "The loss function is the negative log-likelihood defined as:\n",
    "$$\n",
    "    \\mathcal L(x, gold) = -\\log \\frac{\\exp(x[gold])}{\\sum_j \\exp(x[j])} = -x[gold] + \\log \\sum_j \\exp(x[j])\n",
    "$$\n",
    "This function is also called the cross-entropy loss (in Pytorch, different names are used dependending if the inputs are probabilities or raw logits).\n",
    "\n",
    "Similarly to the softmax, we have to rely on the log-sum-exp trick to stabilize the computation: https://timvieira.github.io/blog/post/2014/02/11/exp-normalize-trick/"
   ]
  },
  {
   "cell_type": "code",
   "execution_count": 13,
   "metadata": {},
   "outputs": [],
   "source": [
    "# Input:\n",
    "# - x: vector of logits\n",
    "# - gold: index of the gold class\n",
    "# Output:\n",
    "# - scalare equal to -log(softmax(x)[gold])\n",
    "def nll(x, gold):\n",
    "    return -x[gold] + np.max(x) + np.log(np.sum(np.exp(x - np.max(x))))\n",
    "\n",
    "# Input:\n",
    "# - x: vector of logits\n",
    "# - gold: index of the gold class\n",
    "# - gradient (scalar)\n",
    "# Output:\n",
    "# - gradient wrt x\n",
    "def backward_nll(x, gold, g):\n",
    "    result = np.exp(x - np.max(x)) / np.sum(np.exp(x - np.max(x)))\n",
    "    result[gold] = -1 + result[gold]\n",
    "    return result"
   ]
  },
  {
   "cell_type": "code",
   "execution_count": 14,
   "metadata": {},
   "outputs": [],
   "source": [
    "# test\n",
    "x = np.asarray([-0.13590009, -0.83649656,  0.03130881,  0.42559402,  0.08488182])\n",
    "y_gold = 1.5695014420179738\n",
    "g_gold = np.asarray([ 0.17609875,  0.08739591, -0.79185107,  0.30875221,  0.2196042 ])\n",
    "\n",
    "y = nll(x, 2)\n",
    "g = backward_nll(x, 2, 1.)\n",
    "\n",
    "if not np.allclose(y, y_gold):\n",
    "    raise RuntimeError(\"Output is incorrect\")\n",
    "\n",
    "if g.shape != g_gold.shape:\n",
    "        raise RuntimeError(\"Unexpected gradient dimension: got %s, expected %s\" % (str(g.shape), str(g_gold.shape)))\n",
    "if not np.allclose(g, g_gold):\n",
    "    raise RuntimeError(\"Gradient is incorrect\")"
   ]
  },
  {
   "cell_type": "markdown",
   "metadata": {},
   "source": [
    "The following code test the implementation of the gradient using finite-difference approximation, see: https://timvieira.github.io/blog/post/2017/04/21/how-to-test-gradient-implementations/\n",
    "\n",
    "Your implementation should pass this test."
   ]
  },
  {
   "cell_type": "code",
   "execution_count": 15,
   "metadata": {},
   "outputs": [],
   "source": [
    "# this is python re-implementation of the test from the Dynet library\n",
    "# https://github.com/clab/dynet/blob/master/dynet/grad-check.cc\n",
    "\n",
    "def is_almost_equal(grad, computed_grad):\n",
    "    #print(grad, computed_grad)\n",
    "    f = abs(grad - computed_grad)\n",
    "    m = max(abs(grad), abs(computed_grad))\n",
    "\n",
    "    if f > 0.01 and m > 0.:\n",
    "        f /= m\n",
    "\n",
    "    if f > 0.01 or math.isnan(f):\n",
    "        return False\n",
    "    else:\n",
    "        return True\n",
    "\n",
    "def check_gradient(function, weights, true_grad, alpha = 1e-3):\n",
    "    # because input can be of any dimension,\n",
    "    # we build a view of the underlying data with the .shape(-1) method\n",
    "    # then we can access any element of the tensor as a elements of a list\n",
    "    # with a single dimension\n",
    "    weights_view = weights.reshape(-1)\n",
    "    true_grad_view = true_grad.reshape(-1)\n",
    "    for i in range(weights_view.shape[0]):\n",
    "        old = weights_view[i]\n",
    "\n",
    "        weights_view[i] = old - alpha\n",
    "        value_left = function(weights).reshape(-1)\n",
    "\n",
    "        weights_view[i] = old + alpha\n",
    "        value_right = function(weights).reshape(-1)\n",
    "\n",
    "        weights_view[i] = old\n",
    "        grad = (value_right - value_left) / (2. * alpha)\n",
    "        \n",
    "        #print(grad, true_grad)\n",
    "        if not is_almost_equal(grad, true_grad_view[i]):\n",
    "            return False\n",
    "\n",
    "        return True"
   ]
  },
  {
   "cell_type": "code",
   "execution_count": 16,
   "metadata": {},
   "outputs": [
    {
     "name": "stdout",
     "output_type": "stream",
     "text": [
      "True\n",
      "True\n",
      "True\n"
     ]
    }
   ],
   "source": [
    "# Test the affine transformation\n",
    "\n",
    "x = np.random.uniform(-1, 1, (5,))\n",
    "W = np.random.uniform(-1, 1, (3, 5))\n",
    "b = np.random.uniform(-1, 1, (3,))\n",
    "\n",
    "for i in range(3):\n",
    "    y = affine_transform(W, b, x)\n",
    "    g = np.zeros_like(y)\n",
    "    g[i] = 1.\n",
    "    g_W, _ = backward_affine_transform(W, b, x, g)\n",
    "    print(check_gradient(lambda W: affine_transform(W, b, x)[i], W, g_W))"
   ]
  },
  {
   "cell_type": "code",
   "execution_count": 17,
   "metadata": {},
   "outputs": [
    {
     "name": "stdout",
     "output_type": "stream",
     "text": [
      "True\n",
      "True\n",
      "True\n",
      "True\n",
      "True\n"
     ]
    }
   ],
   "source": [
    "# test the negative likelihood loss\n",
    "\n",
    "x = np.random.uniform(-1, 1, (5,))\n",
    "\n",
    "for gold in range(5):\n",
    "    y = nll(x, gold)\n",
    "    g_y = backward_nll(x, gold, 1.)\n",
    "\n",
    "    print(check_gradient(lambda x: nll(x, gold), x, g_y))"
   ]
  },
  {
   "cell_type": "markdown",
   "metadata": {},
   "source": [
    "# 2. Parameter initialization\n",
    "\n",
    "We are now going to build the function that will be used to initialize the parameters of the neural network before training.\n",
    "Note that for parameter initialization you must use **in-place** operations:"
   ]
  },
  {
   "cell_type": "code",
   "execution_count": 18,
   "metadata": {},
   "outputs": [],
   "source": [
    "# create a random ndarray\n",
    "a = np.random.uniform(-1, 1, (5,))\n",
    "\n",
    "# this does not change the data of the ndarray created above!\n",
    "# it creates a new ndarray and replace the reference stored in a\n",
    "a = np.zeros((5, ))\n",
    "\n",
    "# this will change the underlying data of the ndarray that a points to\n",
    "a[:] = 0\n",
    "\n",
    "# similarly, this creates a new array and change the object pointed by a\n",
    "a = a + 1\n",
    "\n",
    "# while this change the underlying data of a\n",
    "a += 1"
   ]
  },
  {
   "cell_type": "markdown",
   "metadata": {},
   "source": [
    "For an affine transformation, it is common to:\n",
    "* initialize the bias to 0\n",
    "* initialize the projection matrix with Glorot initialization (also known as Xavier initialization)\n",
    "\n",
    "The formula for Glorot initialization can be found in equation 16 (page 5) of the original paper: http://proceedings.mlr.press/v9/glorot10a/glorot10a.pdf"
   ]
  },
  {
   "cell_type": "code",
   "execution_count": 19,
   "metadata": {},
   "outputs": [],
   "source": [
    "def zero_init(dim):\n",
    "    return np.zeros(dim)\n",
    "\n",
    "def glorot_init(m, n):\n",
    "    init_value = np.sqrt(6 / (m + n))\n",
    "    return np.random.uniform(-init_value, init_value, (m, n))"
   ]
  },
  {
   "cell_type": "markdown",
   "metadata": {},
   "source": [
    "# 3. Building and training the neural network\n",
    "\n",
    "In our simple example, creating the neural network is simply instantiating the parameters $W$ and $b$.\n",
    "They must be ndarray object with the correct dimensions."
   ]
  },
  {
   "cell_type": "code",
   "execution_count": 20,
   "metadata": {},
   "outputs": [],
   "source": [
    "def create_parameters(dim_input, dim_output):\n",
    "    W = glorot_init(dim_output, dim_input)\n",
    "    b = zero_init(dim_output)\n",
    "    \n",
    "    return W, b"
   ]
  },
  {
   "cell_type": "markdown",
   "metadata": {},
   "source": [
    "The recent success of deep learning is (partly) due to the ability to train very big neural networks.\n",
    "However, researchers became interested in building small neural networks to improve computational efficiency and memory usage.\n",
    "Therefore, we often want to compare neural networks by their number of parameters, i.e. the size of the memory required to store the parameters."
   ]
  },
  {
   "cell_type": "code",
   "execution_count": 21,
   "metadata": {},
   "outputs": [],
   "source": [
    "def print_n_parameters(W, b):\n",
    "    n = W.size + b.size\n",
    "    print(\"Number of parameters: %i\" % (n))"
   ]
  },
  {
   "cell_type": "markdown",
   "metadata": {},
   "source": [
    "We can now create the neural network and print its number of parameters:"
   ]
  },
  {
   "cell_type": "code",
   "execution_count": 22,
   "metadata": {
    "scrolled": true
   },
   "outputs": [
    {
     "name": "stdout",
     "output_type": "stream",
     "text": [
      "Number of parameters: 7850\n"
     ]
    }
   ],
   "source": [
    "dim_input = train_data[0].shape[1]\n",
    "dim_output = 10\n",
    "\n",
    "W, b = create_parameters(dim_input, dim_output)\n",
    "print_n_parameters(W, b)"
   ]
  },
  {
   "cell_type": "markdown",
   "metadata": {},
   "source": [
    "Finally, the training loop!\n",
    "\n",
    "The training loop should be structured as follows:\n",
    "* we do **epochs** over the data, i.e. one epoch is one loop over the dataset\n",
    "* at each epoch, we first loop over the data and update the network parameters with respect to the loss gradient\n",
    "* at the end of each epoch, we evaluate the network on the dev dataset\n",
    "* after all epochs are done, we evaluate our network on the test dataset and compare its performance with the performance on dev\n",
    "\n",
    "During training, it is useful to print the following information:\n",
    "* the mean loss over the epoch: it should be decreasing!\n",
    "* the accuracy on the dev set: it should be increasing!\n",
    "* the accuracy on the train set: it shoud be increasing!\n",
    "\n",
    "If you observe a decreasing loss (+increasing accuracy on test data) but decreasing accuracy on dev data, your network is overfitting!\n",
    "\n",
    "Once you have build **and tested** this a simple training loop, you should introduce the following improvements:\n",
    "* instead of evaluating on dev after each loop on the training data, you can also evaluate on dev n times per epoch\n",
    "* shuffle the data before each epoch\n",
    "* instead of memorizing the parameters of the last epoch only, you should have a copy of the parameters that produced the best value on dev data during training and evaluate on test with those instead of the parameters after the last epoch\n",
    "* learning rate decay: if you do not observe improvement on dev, you can try to reduce the step size\n",
    "\n",
    "After you conducted (successful?) experiments, you should write a report with results."
   ]
  },
  {
   "cell_type": "code",
   "execution_count": 23,
   "metadata": {},
   "outputs": [],
   "source": [
    "def model_validation(X, y, model_params):\n",
    "    W = model_params[0]\n",
    "    b = model_params[1]\n",
    "    \n",
    "    tot_loss = 0.\n",
    "    accurancy = 0\n",
    "    \n",
    "    size = X.shape[0]\n",
    "    \n",
    "    for i in range(size):\n",
    "        x = X[i]\n",
    "        label = y[i]\n",
    "        \n",
    "        # Prediction\n",
    "        net_out = affine_transform(W, b, x)\n",
    "        loss = nll(net_out, label)\n",
    "\n",
    "        prediction = np.argmax(net_out)\n",
    "        \n",
    "        tot_loss += loss\n",
    "        accurancy += 1 if prediction == label else 0\n",
    "    \n",
    "    return accurancy/size, tot_loss/size"
   ]
  },
  {
   "cell_type": "code",
   "execution_count": 24,
   "metadata": {},
   "outputs": [],
   "source": [
    "def stats_backup(filename, *argv):\n",
    "    with open(filename, \"a\") as f:\n",
    "        line = [str(x) for x in argv]\n",
    "        f.write(','.join(line) + \"\\n\")"
   ]
  },
  {
   "cell_type": "code",
   "execution_count": 25,
   "metadata": {},
   "outputs": [],
   "source": [
    "def weights_backup(params_filename, model_params):\n",
    "    with open(params_filename, \"wb\") as f:\n",
    "        pickle.dump(model_params, f)"
   ]
  },
  {
   "cell_type": "code",
   "execution_count": 26,
   "metadata": {},
   "outputs": [],
   "source": [
    "def write_description(filename, description):\n",
    "    with open(filename, \"w\") as f:\n",
    "        f.write(description +\"\\n\")"
   ]
  },
  {
   "cell_type": "markdown",
   "metadata": {},
   "source": [
    "# Model 1:\n",
    "\n",
    "- Static Step Size of 0.01\n",
    "- 50 Epochs\n",
    "- We save the params with best loss on dev set"
   ]
  },
  {
   "cell_type": "code",
   "execution_count": 27,
   "metadata": {},
   "outputs": [],
   "source": [
    "# Init of backup files\n",
    "filename = \"train_1.csv\"\n",
    "params_filename = \"train_1.pkl\"\n",
    "write_description(\"train_1.txt\", \"Static Step Size 0.01\")\n",
    "\n",
    "with open(filename, \"w\") as f:\n",
    "    f.write(\"Avg Train Loss,Avg Dev Loss,Train Accurancy,Dev Accurancy\\n\")"
   ]
  },
  {
   "cell_type": "code",
   "execution_count": 28,
   "metadata": {
    "scrolled": true
   },
   "outputs": [
    {
     "name": "stdout",
     "output_type": "stream",
     "text": [
      "Epoch: 0\n",
      "Train Avg loss: 0.3758103832767125 \tTest Avg Loss: 0.30517886641041125\n",
      "Train Accurancy: 0.89152 \tTest Accurancy: 0.9131\n",
      "Epoch: 1\n",
      "Train Avg loss: 0.3096451035580698 \tTest Avg Loss: 0.28139747677053634\n",
      "Train Accurancy: 0.91192 \tTest Accurancy: 0.9197\n",
      "Epoch: 2\n",
      "Train Avg loss: 0.29770651490315303 \tTest Avg Loss: 0.2766622529243541\n",
      "Train Accurancy: 0.91486 \tTest Accurancy: 0.9212\n",
      "Epoch: 3\n",
      "Train Avg loss: 0.29062456755533966 \tTest Avg Loss: 0.27615594529534604\n",
      "Train Accurancy: 0.91882 \tTest Accurancy: 0.9241\n",
      "Epoch: 4\n",
      "Train Avg loss: 0.284634377969595 \tTest Avg Loss: 0.27215390783591825\n",
      "Train Accurancy: 0.91986 \tTest Accurancy: 0.9254\n",
      "Epoch: 5\n",
      "Train Avg loss: 0.2826619009273743 \tTest Avg Loss: 0.27888094407961245\n",
      "Train Accurancy: 0.92078 \tTest Accurancy: 0.9225\n",
      "Epoch: 6\n",
      "Train Avg loss: 0.2798888366225141 \tTest Avg Loss: 0.2756915013923493\n",
      "Train Accurancy: 0.92104 \tTest Accurancy: 0.9232\n",
      "Epoch: 7\n",
      "Train Avg loss: 0.27684543026455843 \tTest Avg Loss: 0.2761233902870709\n",
      "Train Accurancy: 0.9226 \tTest Accurancy: 0.9246\n",
      "Epoch: 8\n",
      "Train Avg loss: 0.27515125603801227 \tTest Avg Loss: 0.28195788711286196\n",
      "Train Accurancy: 0.92232 \tTest Accurancy: 0.922\n",
      "Epoch: 9\n",
      "Train Avg loss: 0.2725693006730882 \tTest Avg Loss: 0.27496762620338855\n",
      "Train Accurancy: 0.92306 \tTest Accurancy: 0.9249\n",
      "Epoch: 10\n",
      "Train Avg loss: 0.27126707413549184 \tTest Avg Loss: 0.27804510867552173\n",
      "Train Accurancy: 0.9231 \tTest Accurancy: 0.9233\n",
      "Epoch: 11\n",
      "Train Avg loss: 0.27005403082135493 \tTest Avg Loss: 0.2697162249055389\n",
      "Train Accurancy: 0.92442 \tTest Accurancy: 0.9276\n",
      "Epoch: 12\n",
      "Train Avg loss: 0.26856542786855464 \tTest Avg Loss: 0.2704606713694637\n",
      "Train Accurancy: 0.92348 \tTest Accurancy: 0.9286\n",
      "Epoch: 13\n",
      "Train Avg loss: 0.26814149338767407 \tTest Avg Loss: 0.27493894073534336\n",
      "Train Accurancy: 0.92406 \tTest Accurancy: 0.9256\n",
      "Epoch: 14\n",
      "Train Avg loss: 0.26552900066254465 \tTest Avg Loss: 0.27895162640033067\n",
      "Train Accurancy: 0.92518 \tTest Accurancy: 0.9227\n",
      "Epoch: 15\n",
      "Train Avg loss: 0.2646474587248678 \tTest Avg Loss: 0.2768993551601546\n",
      "Train Accurancy: 0.92534 \tTest Accurancy: 0.9254\n",
      "Epoch: 16\n",
      "Train Avg loss: 0.26473172432985537 \tTest Avg Loss: 0.27742377286132563\n",
      "Train Accurancy: 0.9255 \tTest Accurancy: 0.9223\n",
      "Epoch: 17\n",
      "Train Avg loss: 0.2633653822767151 \tTest Avg Loss: 0.28070053210998397\n",
      "Train Accurancy: 0.9262 \tTest Accurancy: 0.9242\n",
      "Epoch: 18\n",
      "Train Avg loss: 0.2629798772414544 \tTest Avg Loss: 0.2786768156906327\n",
      "Train Accurancy: 0.92644 \tTest Accurancy: 0.9231\n",
      "Epoch: 19\n",
      "Train Avg loss: 0.26181055307946527 \tTest Avg Loss: 0.2751504986210373\n",
      "Train Accurancy: 0.92568 \tTest Accurancy: 0.9238\n",
      "Epoch: 20\n",
      "Train Avg loss: 0.2612963423215888 \tTest Avg Loss: 0.28997791120314426\n",
      "Train Accurancy: 0.92688 \tTest Accurancy: 0.92\n",
      "Epoch: 21\n",
      "Train Avg loss: 0.26127000319462407 \tTest Avg Loss: 0.2823167614967027\n",
      "Train Accurancy: 0.9257 \tTest Accurancy: 0.9223\n",
      "Epoch: 22\n",
      "Train Avg loss: 0.2603293581156819 \tTest Avg Loss: 0.27616607447813346\n",
      "Train Accurancy: 0.9269 \tTest Accurancy: 0.9282\n",
      "Epoch: 23\n",
      "Train Avg loss: 0.2601350274976161 \tTest Avg Loss: 0.2741334298912259\n",
      "Train Accurancy: 0.9276 \tTest Accurancy: 0.9272\n",
      "Epoch: 24\n",
      "Train Avg loss: 0.2586885310500689 \tTest Avg Loss: 0.27973470033447023\n",
      "Train Accurancy: 0.92704 \tTest Accurancy: 0.9243\n",
      "Epoch: 25\n",
      "Train Avg loss: 0.25870242239127583 \tTest Avg Loss: 0.2747801858854967\n",
      "Train Accurancy: 0.9264 \tTest Accurancy: 0.9253\n",
      "Epoch: 26\n",
      "Train Avg loss: 0.25825293513757874 \tTest Avg Loss: 0.2786766326402353\n",
      "Train Accurancy: 0.92754 \tTest Accurancy: 0.9247\n",
      "Epoch: 27\n",
      "Train Avg loss: 0.25702975547160073 \tTest Avg Loss: 0.27867607107469833\n",
      "Train Accurancy: 0.9272 \tTest Accurancy: 0.9254\n",
      "Epoch: 28\n",
      "Train Avg loss: 0.25719167794771175 \tTest Avg Loss: 0.2804042150407079\n",
      "Train Accurancy: 0.928 \tTest Accurancy: 0.9225\n",
      "Epoch: 29\n",
      "Train Avg loss: 0.2559944962363502 \tTest Avg Loss: 0.27778851380526126\n",
      "Train Accurancy: 0.92768 \tTest Accurancy: 0.9257\n",
      "Epoch: 30\n",
      "Train Avg loss: 0.255911406563028 \tTest Avg Loss: 0.27827577657414904\n",
      "Train Accurancy: 0.92742 \tTest Accurancy: 0.9261\n",
      "Epoch: 31\n",
      "Train Avg loss: 0.2558228034451484 \tTest Avg Loss: 0.2921193278327565\n",
      "Train Accurancy: 0.92836 \tTest Accurancy: 0.9191\n",
      "Epoch: 32\n",
      "Train Avg loss: 0.25524813779334254 \tTest Avg Loss: 0.2776861138222445\n",
      "Train Accurancy: 0.92794 \tTest Accurancy: 0.9268\n",
      "Epoch: 33\n",
      "Train Avg loss: 0.25390372197550193 \tTest Avg Loss: 0.27830254323026515\n",
      "Train Accurancy: 0.92954 \tTest Accurancy: 0.9242\n",
      "Epoch: 34\n",
      "Train Avg loss: 0.2549431165931976 \tTest Avg Loss: 0.28116995685146606\n",
      "Train Accurancy: 0.92824 \tTest Accurancy: 0.9233\n",
      "Epoch: 35\n",
      "Train Avg loss: 0.2536432288367904 \tTest Avg Loss: 0.2967392752853028\n",
      "Train Accurancy: 0.9286 \tTest Accurancy: 0.9193\n",
      "Epoch: 36\n",
      "Train Avg loss: 0.2532564113201337 \tTest Avg Loss: 0.2870592525788843\n",
      "Train Accurancy: 0.9285 \tTest Accurancy: 0.9217\n",
      "Epoch: 37\n",
      "Train Avg loss: 0.2534121952190238 \tTest Avg Loss: 0.27481764889585175\n",
      "Train Accurancy: 0.92956 \tTest Accurancy: 0.9275\n",
      "Epoch: 38\n",
      "Train Avg loss: 0.2533297238631383 \tTest Avg Loss: 0.27661145064806403\n",
      "Train Accurancy: 0.92864 \tTest Accurancy: 0.9257\n",
      "Epoch: 39\n",
      "Train Avg loss: 0.2531573205834704 \tTest Avg Loss: 0.2790671129995033\n",
      "Train Accurancy: 0.92886 \tTest Accurancy: 0.9255\n",
      "Epoch: 40\n",
      "Train Avg loss: 0.25226377111426684 \tTest Avg Loss: 0.29453489353586054\n",
      "Train Accurancy: 0.929 \tTest Accurancy: 0.921\n",
      "Epoch: 41\n",
      "Train Avg loss: 0.25202369017185394 \tTest Avg Loss: 0.2744499781725992\n",
      "Train Accurancy: 0.92834 \tTest Accurancy: 0.9294\n",
      "Epoch: 42\n",
      "Train Avg loss: 0.2524993762305357 \tTest Avg Loss: 0.2810590568455917\n",
      "Train Accurancy: 0.92872 \tTest Accurancy: 0.9267\n",
      "Epoch: 43\n",
      "Train Avg loss: 0.2517427908043404 \tTest Avg Loss: 0.2817462776440304\n",
      "Train Accurancy: 0.92974 \tTest Accurancy: 0.9247\n",
      "Epoch: 44\n",
      "Train Avg loss: 0.25163850596011655 \tTest Avg Loss: 0.2798327395253568\n",
      "Train Accurancy: 0.92836 \tTest Accurancy: 0.9237\n",
      "Epoch: 45\n",
      "Train Avg loss: 0.25049660147472785 \tTest Avg Loss: 0.28079454765980516\n",
      "Train Accurancy: 0.9296 \tTest Accurancy: 0.9232\n",
      "Epoch: 46\n",
      "Train Avg loss: 0.25140590522762063 \tTest Avg Loss: 0.2932688115943888\n",
      "Train Accurancy: 0.9291 \tTest Accurancy: 0.921\n",
      "Epoch: 47\n",
      "Train Avg loss: 0.25077201675748345 \tTest Avg Loss: 0.28330200427385643\n",
      "Train Accurancy: 0.92896 \tTest Accurancy: 0.9252\n",
      "Epoch: 48\n",
      "Train Avg loss: 0.2503013330127145 \tTest Avg Loss: 0.2838598533645093\n",
      "Train Accurancy: 0.92892 \tTest Accurancy: 0.924\n",
      "Epoch: 49\n",
      "Train Avg loss: 0.2504409534496847 \tTest Avg Loss: 0.29957038791359303\n",
      "Train Accurancy: 0.92882 \tTest Accurancy: 0.9172\n"
     ]
    }
   ],
   "source": [
    "n_epochs = 50 # number of epochs\n",
    "step = 0.01 # step size for gradient updates\n",
    "\n",
    "train_size = X_train.shape[0]\n",
    "\n",
    "W, b = create_parameters(dim_input, dim_output)\n",
    "model_params = [W, b]\n",
    "\n",
    "for epoch in range(n_epochs):\n",
    "    best_loss = sys.float_info.max\n",
    "        \n",
    "    X_train, y_train = shuffle(X_train, y_train)\n",
    "    \n",
    "    tot_loss = 0.\n",
    "    train_accurancy = 0\n",
    "    \n",
    "    for i in range(train_size):\n",
    "        x = X_train[i]\n",
    "        label = y_train[i]\n",
    "        \n",
    "        # Prediction\n",
    "        net_out = affine_transform(W, b, x)\n",
    "        loss = nll(net_out, label)\n",
    "        \n",
    "        prediction = np.argmax(net_out)\n",
    "        \n",
    "        # Backpropagation\n",
    "        gradient_loss = backward_nll(net_out, label, 1.)\n",
    "        gradient_w, gradient_b = backward_affine_transform(W, b, x, gradient_loss)\n",
    "\n",
    "        W -= step*gradient_w\n",
    "        b -= step*gradient_b\n",
    "        \n",
    "        # Training statistics\n",
    "        tot_loss += loss\n",
    "        train_accurancy += 1 if prediction == label else 0\n",
    "    \n",
    "    dev_accurancy, dev_avg_loss = model_validation(X_dev, y_dev, model_params)\n",
    "    \n",
    "    if dev_avg_loss < best_loss: \n",
    "        best_loss = dev_avg_loss\n",
    "        best_params = model_params\n",
    "    \n",
    "    print(\"Epoch:\", epoch)\n",
    "    print (\"Train Avg loss:\", tot_loss/train_size, \"\\tTest Avg Loss:\", dev_avg_loss)\n",
    "    print (\"Train Accurancy:\", train_accurancy/train_size, \"\\tTest Accurancy:\", dev_accurancy)\n",
    "    stats_backup(filename, tot_loss/train_size, dev_avg_loss, train_accurancy/train_size, dev_accurancy)\n",
    "    weights_backup(params_filename, best_params)"
   ]
  },
  {
   "cell_type": "code",
   "execution_count": 30,
   "metadata": {},
   "outputs": [
    {
     "data": {
      "image/png": "[encoded data removed]",
      "text/plain": [
       "<Figure size 1368x648 with 2 Axes>"
      ]
     },
     "metadata": {
      "needs_background": "light"
     },
     "output_type": "display_data"
    }
   ],
   "source": [
    "# Plot the training suite\n",
    "with open (\"train_1.txt\", \"r\") as f:\n",
    "    description = f.read()\n",
    "\n",
    "df = pd.read_csv(\"train_1.csv\")\n",
    "df['Epoch'] = df.index\n",
    "\n",
    "figure, axs = plt.subplots(1, 2, figsize=(19,9))\n",
    "figure.suptitle(description, fontsize=20)\n",
    "\n",
    "df.plot(kind=\"line\", x=\"Epoch\", y=\"Avg Train Loss\", color=\"blue\", ax=axs[0])\n",
    "df.plot(kind=\"line\", x=\"Epoch\", y=\"Avg Dev Loss\", color=\"red\", ax=axs[0])\n",
    "\n",
    "df.plot(kind=\"line\", x=\"Epoch\", y=\"Train Accurancy\", color=\"blue\", ax=axs[1])\n",
    "df.plot(kind=\"line\", x=\"Epoch\", y=\"Dev Accurancy\", color=\"red\", ax=axs[1])\n",
    "\n",
    "plt.savefig('train_1.png')"
   ]
  },
  {
   "cell_type": "markdown",
   "metadata": {},
   "source": [
    "# Model 2:\n",
    "\n",
    "- Decaying Step Size\n",
    "- 65 Epochs\n",
    "- We save the params with best loss on dev set"
   ]
  },
  {
   "cell_type": "code",
   "execution_count": 31,
   "metadata": {},
   "outputs": [],
   "source": [
    "# Init of backup files\n",
    "filename = \"train_2.csv\"\n",
    "params_filename = \"train_2.pkl\"\n",
    "write_description(\"train_2.txt\", \"Dynamic Step Size between [0.01,0.00001]\")\n",
    "\n",
    "with open(filename, \"w\") as f:\n",
    "    f.write(\"Avg Train Loss,Avg Dev Loss,Train Accurancy,Dev Accurancy\\n\")"
   ]
  },
  {
   "cell_type": "code",
   "execution_count": 32,
   "metadata": {
    "scrolled": true
   },
   "outputs": [
    {
     "name": "stdout",
     "output_type": "stream",
     "text": [
      "Epoch: 0\n",
      "Train Avg loss: 0.37605936223540887 \tTest Avg Loss: 0.28601789810035166\n",
      "Train Accurancy: 0.89228 \tTest Accurancy: 0.9206\n",
      "Epoch: 1\n",
      "Train Avg loss: 0.3099079856465894 \tTest Avg Loss: 0.28355359393734053\n",
      "Train Accurancy: 0.91238 \tTest Accurancy: 0.9193\n",
      "Epoch: 2\n",
      "Train Avg loss: 0.29821321298438697 \tTest Avg Loss: 0.2764564142670413\n",
      "Train Accurancy: 0.9158 \tTest Accurancy: 0.9245\n",
      "Epoch: 3\n",
      "Train Avg loss: 0.2909182885960433 \tTest Avg Loss: 0.27708751429196754\n",
      "Train Accurancy: 0.91756 \tTest Accurancy: 0.923\n",
      "Epoch: 4\n",
      "Train Avg loss: 0.2854005006926783 \tTest Avg Loss: 0.28579891056058726\n",
      "Train Accurancy: 0.91892 \tTest Accurancy: 0.9193\n",
      "Epoch: 5\n",
      "Train Avg loss: 0.2675312002018354 \tTest Avg Loss: 0.26852230204034155\n",
      "Train Accurancy: 0.9253 \tTest Accurancy: 0.9278\n",
      "Epoch: 6\n",
      "Train Avg loss: 0.2659593876024699 \tTest Avg Loss: 0.2628908229538898\n",
      "Train Accurancy: 0.92564 \tTest Accurancy: 0.9296\n",
      "Epoch: 7\n",
      "Train Avg loss: 0.2639882394018575 \tTest Avg Loss: 0.26408131535481605\n",
      "Train Accurancy: 0.92622 \tTest Accurancy: 0.9278\n",
      "Epoch: 8\n",
      "Train Avg loss: 0.2626950888436524 \tTest Avg Loss: 0.26215383942973164\n",
      "Train Accurancy: 0.92678 \tTest Accurancy: 0.9272\n",
      "Epoch: 9\n",
      "Train Avg loss: 0.2613632037840448 \tTest Avg Loss: 0.26301735420191663\n",
      "Train Accurancy: 0.92662 \tTest Accurancy: 0.9278\n",
      "Epoch: 10\n",
      "Train Avg loss: 0.26080579513285007 \tTest Avg Loss: 0.2620892551721357\n",
      "Train Accurancy: 0.92668 \tTest Accurancy: 0.9281\n",
      "Epoch: 11\n",
      "Train Avg loss: 0.2599030044150893 \tTest Avg Loss: 0.25962463294114874\n",
      "Train Accurancy: 0.92674 \tTest Accurancy: 0.9301\n",
      "Epoch: 12\n",
      "Train Avg loss: 0.2582389748113999 \tTest Avg Loss: 0.26508508147314674\n",
      "Train Accurancy: 0.92752 \tTest Accurancy: 0.928\n",
      "Epoch: 13\n",
      "Train Avg loss: 0.2578384286706871 \tTest Avg Loss: 0.26578793848625853\n",
      "Train Accurancy: 0.9276 \tTest Accurancy: 0.9269\n",
      "Epoch: 14\n",
      "Train Avg loss: 0.2572845486077081 \tTest Avg Loss: 0.2615402347686733\n",
      "Train Accurancy: 0.92862 \tTest Accurancy: 0.9282\n",
      "Epoch: 15\n",
      "Train Avg loss: 0.24466490142069178 \tTest Avg Loss: 0.2589847704018693\n",
      "Train Accurancy: 0.93142 \tTest Accurancy: 0.9285\n",
      "Epoch: 16\n",
      "Train Avg loss: 0.24362127566492306 \tTest Avg Loss: 0.25828272299320204\n",
      "Train Accurancy: 0.93218 \tTest Accurancy: 0.9296\n",
      "Epoch: 17\n",
      "Train Avg loss: 0.2431967984891549 \tTest Avg Loss: 0.25789124796670865\n",
      "Train Accurancy: 0.93224 \tTest Accurancy: 0.9293\n",
      "Epoch: 18\n",
      "Train Avg loss: 0.2429133605999493 \tTest Avg Loss: 0.2576550894893975\n",
      "Train Accurancy: 0.9325 \tTest Accurancy: 0.9299\n",
      "Epoch: 19\n",
      "Train Avg loss: 0.2427330637775051 \tTest Avg Loss: 0.2576146108670943\n",
      "Train Accurancy: 0.9328 \tTest Accurancy: 0.9298\n",
      "Epoch: 20\n",
      "Train Avg loss: 0.24260517596856157 \tTest Avg Loss: 0.2574287555601797\n",
      "Train Accurancy: 0.93278 \tTest Accurancy: 0.93\n",
      "Epoch: 21\n",
      "Train Avg loss: 0.2424206272423571 \tTest Avg Loss: 0.25743587386457967\n",
      "Train Accurancy: 0.93282 \tTest Accurancy: 0.9305\n",
      "Epoch: 22\n",
      "Train Avg loss: 0.24239282907051155 \tTest Avg Loss: 0.2572742942530306\n",
      "Train Accurancy: 0.93268 \tTest Accurancy: 0.9305\n",
      "Epoch: 23\n",
      "Train Avg loss: 0.24225433322396805 \tTest Avg Loss: 0.2574046046528963\n",
      "Train Accurancy: 0.93292 \tTest Accurancy: 0.9305\n",
      "Epoch: 24\n",
      "Train Avg loss: 0.24224024584707957 \tTest Avg Loss: 0.25733909673679106\n",
      "Train Accurancy: 0.93296 \tTest Accurancy: 0.9305\n",
      "Epoch: 25\n",
      "Train Avg loss: 0.24335670394401382 \tTest Avg Loss: 0.258058402874058\n",
      "Train Accurancy: 0.93264 \tTest Accurancy: 0.9299\n",
      "Epoch: 26\n",
      "Train Avg loss: 0.24315117793078422 \tTest Avg Loss: 0.2578341215468244\n",
      "Train Accurancy: 0.9327 \tTest Accurancy: 0.93\n",
      "Epoch: 27\n",
      "Train Avg loss: 0.24300669151838236 \tTest Avg Loss: 0.25782952409989385\n",
      "Train Accurancy: 0.93238 \tTest Accurancy: 0.9311\n",
      "Epoch: 28\n",
      "Train Avg loss: 0.24300411228875116 \tTest Avg Loss: 0.25740063801011365\n",
      "Train Accurancy: 0.93288 \tTest Accurancy: 0.9306\n",
      "Epoch: 29\n",
      "Train Avg loss: 0.242852960331892 \tTest Avg Loss: 0.2585665474379923\n",
      "Train Accurancy: 0.93274 \tTest Accurancy: 0.9309\n",
      "Epoch: 30\n",
      "Train Avg loss: 0.242846563724126 \tTest Avg Loss: 0.25782390526608623\n",
      "Train Accurancy: 0.9326 \tTest Accurancy: 0.9302\n",
      "Epoch: 31\n",
      "Train Avg loss: 0.2427706099960583 \tTest Avg Loss: 0.2571302398202427\n",
      "Train Accurancy: 0.93278 \tTest Accurancy: 0.9305\n",
      "Epoch: 32\n",
      "Train Avg loss: 0.24269627093116997 \tTest Avg Loss: 0.2585508972248113\n",
      "Train Accurancy: 0.93308 \tTest Accurancy: 0.9295\n",
      "Epoch: 33\n",
      "Train Avg loss: 0.24252342623133205 \tTest Avg Loss: 0.25822692120435176\n",
      "Train Accurancy: 0.93292 \tTest Accurancy: 0.9294\n",
      "Epoch: 34\n",
      "Train Avg loss: 0.2425276308624834 \tTest Avg Loss: 0.25759045244409245\n",
      "Train Accurancy: 0.93258 \tTest Accurancy: 0.9305\n",
      "Epoch: 35\n",
      "Train Avg loss: 0.2412683386044072 \tTest Avg Loss: 0.25749946333993196\n",
      "Train Accurancy: 0.9335 \tTest Accurancy: 0.9301\n",
      "Epoch: 36\n",
      "Train Avg loss: 0.24114034119697844 \tTest Avg Loss: 0.25756858047544795\n",
      "Train Accurancy: 0.93306 \tTest Accurancy: 0.9306\n",
      "Epoch: 37\n",
      "Train Avg loss: 0.24110166888542436 \tTest Avg Loss: 0.2578056305700395\n",
      "Train Accurancy: 0.93316 \tTest Accurancy: 0.9305\n",
      "Epoch: 38\n",
      "Train Avg loss: 0.24113667752809 \tTest Avg Loss: 0.25747020114444197\n",
      "Train Accurancy: 0.93288 \tTest Accurancy: 0.9301\n",
      "Epoch: 39\n",
      "Train Avg loss: 0.2411061447077593 \tTest Avg Loss: 0.25746441824989597\n",
      "Train Accurancy: 0.93312 \tTest Accurancy: 0.93\n",
      "Epoch: 40\n",
      "Train Avg loss: 0.24110168822182684 \tTest Avg Loss: 0.2575716719252467\n",
      "Train Accurancy: 0.93334 \tTest Accurancy: 0.9301\n",
      "Epoch: 41\n",
      "Train Avg loss: 0.24106891123875662 \tTest Avg Loss: 0.2575656989030386\n",
      "Train Accurancy: 0.93322 \tTest Accurancy: 0.9302\n",
      "Epoch: 42\n",
      "Train Avg loss: 0.24103864556819374 \tTest Avg Loss: 0.25763152749383855\n",
      "Train Accurancy: 0.93332 \tTest Accurancy: 0.9304\n",
      "Epoch: 43\n",
      "Train Avg loss: 0.24099930115814833 \tTest Avg Loss: 0.25771378507649445\n",
      "Train Accurancy: 0.93324 \tTest Accurancy: 0.9308\n",
      "Epoch: 44\n",
      "Train Avg loss: 0.24105537911095104 \tTest Avg Loss: 0.25757242427824106\n",
      "Train Accurancy: 0.93316 \tTest Accurancy: 0.9301\n",
      "Epoch: 45\n",
      "Train Avg loss: 0.24083474527488186 \tTest Avg Loss: 0.2575749837765723\n",
      "Train Accurancy: 0.93338 \tTest Accurancy: 0.9299\n",
      "Epoch: 46\n",
      "Train Avg loss: 0.24084255616958244 \tTest Avg Loss: 0.25756672405938275\n",
      "Train Accurancy: 0.93336 \tTest Accurancy: 0.9299\n",
      "Epoch: 47\n",
      "Train Avg loss: 0.24082937181666833 \tTest Avg Loss: 0.25756132335280435\n",
      "Train Accurancy: 0.93314 \tTest Accurancy: 0.9298\n",
      "Epoch: 48\n",
      "Train Avg loss: 0.240805705108882 \tTest Avg Loss: 0.2575792000756544\n",
      "Train Accurancy: 0.93314 \tTest Accurancy: 0.93\n",
      "Epoch: 49\n",
      "Train Avg loss: 0.2408144278705763 \tTest Avg Loss: 0.25753707326738245\n",
      "Train Accurancy: 0.93332 \tTest Accurancy: 0.9302\n",
      "Epoch: 50\n",
      "Train Avg loss: 0.24080984773595512 \tTest Avg Loss: 0.25756995481374595\n",
      "Train Accurancy: 0.93318 \tTest Accurancy: 0.9298\n",
      "Epoch: 51\n",
      "Train Avg loss: 0.24080131310110606 \tTest Avg Loss: 0.2575665510306367\n",
      "Train Accurancy: 0.9332 \tTest Accurancy: 0.93\n",
      "Epoch: 52\n",
      "Train Avg loss: 0.24078855232517427 \tTest Avg Loss: 0.2575852647596355\n",
      "Train Accurancy: 0.9332 \tTest Accurancy: 0.9301\n",
      "Epoch: 53\n",
      "Train Avg loss: 0.2407844192236656 \tTest Avg Loss: 0.2575952226115065\n",
      "Train Accurancy: 0.93334 \tTest Accurancy: 0.9299\n",
      "Epoch: 54\n",
      "Train Avg loss: 0.24077795508331798 \tTest Avg Loss: 0.2575754793910472\n",
      "Train Accurancy: 0.93308 \tTest Accurancy: 0.93\n",
      "Epoch: 55\n",
      "Train Avg loss: 0.24061919958240055 \tTest Avg Loss: 0.2575691710320019\n",
      "Train Accurancy: 0.93318 \tTest Accurancy: 0.9299\n",
      "Epoch: 56\n",
      "Train Avg loss: 0.24061631000308933 \tTest Avg Loss: 0.2575593963680103\n",
      "Train Accurancy: 0.9332 \tTest Accurancy: 0.93\n",
      "Epoch: 57\n",
      "Train Avg loss: 0.2406142153637303 \tTest Avg Loss: 0.2575587428897383\n",
      "Train Accurancy: 0.93318 \tTest Accurancy: 0.93\n",
      "Epoch: 58\n",
      "Train Avg loss: 0.24061291359449816 \tTest Avg Loss: 0.25755766506418115\n",
      "Train Accurancy: 0.93318 \tTest Accurancy: 0.93\n",
      "Epoch: 59\n",
      "Train Avg loss: 0.24060929556446659 \tTest Avg Loss: 0.2575509047100109\n",
      "Train Accurancy: 0.93328 \tTest Accurancy: 0.93\n",
      "Epoch: 60\n",
      "Train Avg loss: 0.24060963299812138 \tTest Avg Loss: 0.2575530240033793\n",
      "Train Accurancy: 0.93324 \tTest Accurancy: 0.93\n",
      "Epoch: 61\n",
      "Train Avg loss: 0.24060813903949585 \tTest Avg Loss: 0.2575536871027361\n",
      "Train Accurancy: 0.93314 \tTest Accurancy: 0.93\n",
      "Epoch: 62\n",
      "Train Avg loss: 0.24060712833535913 \tTest Avg Loss: 0.25755388033559484\n",
      "Train Accurancy: 0.9332 \tTest Accurancy: 0.93\n",
      "Epoch: 63\n",
      "Train Avg loss: 0.24060519256976048 \tTest Avg Loss: 0.2575518604555352\n",
      "Train Accurancy: 0.9332 \tTest Accurancy: 0.93\n"
     ]
    },
    {
     "name": "stdout",
     "output_type": "stream",
     "text": [
      "Epoch: 64\n",
      "Train Avg loss: 0.24060399194904872 \tTest Avg Loss: 0.25754763585399615\n",
      "Train Accurancy: 0.9332 \tTest Accurancy: 0.9298\n"
     ]
    }
   ],
   "source": [
    "n_epochs = 65 # number of epochs\n",
    "\n",
    "train_size = X_train.shape[0]\n",
    "\n",
    "W, b = create_parameters(dim_input, dim_output)\n",
    "model_params = [W, b]\n",
    "\n",
    "for epoch in range(n_epochs):\n",
    "    best_loss = sys.float_info.max\n",
    "    \n",
    "    if epoch <= 4: step = 0.01\n",
    "    elif (epoch >= 5) and (epoch <= 14): step = 0.005\n",
    "    elif (epoch >= 15) and (epoch <= 24): step = 0.0001\n",
    "    elif (epoch >= 25) and (epoch <= 34): step = 0.0005\n",
    "    elif (epoch >= 35) and (epoch <= 44): step = 0.0001\n",
    "    elif (epoch >= 45) and (epoch <= 54): step = 0.00005\n",
    "    elif (epoch >= 55) and (epoch <= 64): step = 0.00001\n",
    "        \n",
    "    X_train, y_train = shuffle(X_train, y_train)\n",
    "    \n",
    "    tot_loss = 0.\n",
    "    train_accurancy = 0\n",
    "    \n",
    "    for i in range(train_size):\n",
    "        x = X_train[i]\n",
    "        label = y_train[i]\n",
    "        \n",
    "        # Prediction\n",
    "        net_out = affine_transform(W, b, x)\n",
    "        loss = nll(net_out, label)\n",
    "        \n",
    "        prediction = np.argmax(net_out)\n",
    "        \n",
    "        # Backpropagation\n",
    "        gradient_loss = backward_nll(net_out, label, 1.)\n",
    "        gradient_w, gradient_b = backward_affine_transform(W, b, x, gradient_loss)\n",
    "\n",
    "        W -= step*gradient_w\n",
    "        b -= step*gradient_b\n",
    "        \n",
    "        # Training statistics\n",
    "        tot_loss += loss\n",
    "        train_accurancy += 1 if prediction == label else 0\n",
    "    \n",
    "    dev_accurancy, dev_avg_loss = model_validation(X_dev, y_dev, model_params)\n",
    "    \n",
    "    if dev_avg_loss < best_loss: \n",
    "        best_loss = dev_avg_loss\n",
    "        best_params = [W, b]\n",
    "    \n",
    "    print(\"Epoch:\", epoch)\n",
    "    print (\"Train Avg loss:\", tot_loss/train_size, \"\\tTest Avg Loss:\", dev_avg_loss)\n",
    "    print (\"Train Accurancy:\", train_accurancy/train_size, \"\\tTest Accurancy:\", dev_accurancy)\n",
    "    stats_backup(filename, tot_loss/train_size, dev_avg_loss, train_accurancy/train_size, dev_accurancy)\n",
    "    weights_backup(params_filename, best_params)"
   ]
  },
  {
   "cell_type": "code",
   "execution_count": 34,
   "metadata": {},
   "outputs": [
    {
     "data": {
      "image/png": "[encoded data removed]",
      "text/plain": [
       "<Figure size 1368x648 with 2 Axes>"
      ]
     },
     "metadata": {
      "needs_background": "light"
     },
     "output_type": "display_data"
    }
   ],
   "source": [
    "# Plot the training suite\n",
    "with open (\"train_2.txt\", \"r\") as f:\n",
    "    description = f.read()\n",
    "\n",
    "df = pd.read_csv(\"train_2.csv\")\n",
    "df['Epoch'] = df.index\n",
    "\n",
    "figure, axs = plt.subplots(1, 2, figsize=(19,9))\n",
    "figure.suptitle(description, fontsize=20)\n",
    "\n",
    "df.plot(kind=\"line\", x=\"Epoch\", y=\"Avg Train Loss\", color=\"blue\", ax=axs[0])\n",
    "df.plot(kind=\"line\", x=\"Epoch\", y=\"Avg Dev Loss\", color=\"red\", ax=axs[0])\n",
    "\n",
    "df.plot(kind=\"line\", x=\"Epoch\", y=\"Train Accurancy\", color=\"blue\", ax=axs[1])\n",
    "df.plot(kind=\"line\", x=\"Epoch\", y=\"Dev Accurancy\", color=\"red\", ax=axs[1])\n",
    "\n",
    "plt.savefig('train_1.png')"
   ]
  },
  {
   "cell_type": "code",
   "execution_count": null,
   "metadata": {},
   "outputs": [],
   "source": [
    "print(\"Model\\tAccurancy\\tAvg Loss\")\n",
    "\n",
    "with open(\"train_1.pkl\", \"rb\") as f:\n",
    "    model_params = pickle.load(f)\n",
    "\n",
    "test_acc, test_loss = model_validation(X_test, y_test, model_params)\n",
    "print (\"1\", \"%.3f\"%test_acc, \"\\t%.3f\"%test_loss, sep=\"\\t\")\n",
    "\n",
    "with open(\"train_2.pkl\", \"rb\") as f:\n",
    "    model_params = pickle.load(f)\n",
    "\n",
    "test_acc, test_loss = model_validation(X_test, y_test, model_params)\n",
    "print (\"2\", \"%.3f\"%test_acc, \"\\t%.3f\"%test_loss, sep=\"\\t\")"
   ]
  }
 ],
 "metadata": {
  "anaconda-cloud": {},
  "kernelspec": {
   "display_name": "Python 3",
   "language": "python",
   "name": "python3"
  },
  "language_info": {
   "codemirror_mode": {
    "name": "ipython",
    "version": 3
   },
   "file_extension": ".py",
   "mimetype": "text/x-python",
   "name": "python",
   "nbconvert_exporter": "python",
   "pygments_lexer": "ipython3",
   "version": "3.6.9"
  }
 },
 "nbformat": 4,
 "nbformat_minor": 1
}
