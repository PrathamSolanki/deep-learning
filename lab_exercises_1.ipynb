{
  "nbformat": 4,
  "nbformat_minor": 0,
  "metadata": {
    "anaconda-cloud": {},
    "kernelspec": {
      "display_name": "Python 3",
      "language": "python",
      "name": "python3"
    },
    "language_info": {
      "codemirror_mode": {
        "name": "ipython",
        "version": 3
      },
      "file_extension": ".py",
      "mimetype": "text/x-python",
      "name": "python",
      "nbconvert_exporter": "python",
      "pygments_lexer": "ipython3",
      "version": "3.6.9"
    },
    "colab": {
      "name": "lab_exercises_1.ipynb",
      "provenance": []
    }
  },
  "cells": [
    {
      "cell_type": "markdown",
      "metadata": {
        "id": "k3v77vohgrzH",
        "colab_type": "text"
      },
      "source": [
        "# Practical classes\n",
        "\n",
        "All exercices will be in Python. It is important that you keep track of exercices and structure you code correctly (e.g. create funcions that you can re-use later)\n",
        "\n",
        "We will use Jupyter notebooks (formerly known as IPython). You can read the following courses for help:\n",
        "* Python and numpy: http://cs231n.github.io/python-numpy-tutorial/\n",
        "* Jupyter / IPython : http://cs231n.github.io/ipython-tutorial/\n",
        "\n",
        "To run this notebook:\n",
        "* create a directory somewhere on your filesystem\n",
        "* download the .ipynb from the course website: http://teaching.caio-corro.fr/2019-2020/OPT8/\n",
        "* move the .ipynb into the directory\n",
        "* from a terminal:\n",
        "    * cd /directory/path\n",
        "    * jupyter notebook\n",
        "\n",
        "Each group must send me their work by e-mail (one mail per group) before next course:\n",
        "* complete the code with comments\n",
        "* quick report on what's going one, experimental results etc.\n",
        "\n",
        "If you don't want to use the notebook, send me the python code + a PDF with plots and answers.\n",
        "\n",
        "\n",
        "# Neural network: first experiments with a linear model\n",
        "\n",
        "In this first lab exercise we will code a neural network using numpy, without a neural network library.\n",
        "Next week, the lab exercise will be to extend this program with hidden layers and activation functions.\n",
        "\n",
        "The task is digit recognition: the neural network has to predict which digit in $\\{0...9\\}$ is written in the input picture. We will use the [MNIST](http://yann.lecun.com/exdb/mnist/) dataset, a standard benchmark in machine learning.\n",
        "\n",
        "The model is a simple linear  classifier $o = \\operatorname{softmax}(Wx + b)$ where:\n",
        "* $x$ is an input image that is represented as a column vector, each value being the \"color\" of a pixel\n",
        "* $W$ and $b$ are the parameters of the classifier\n",
        "* $\\operatorname{softmax}$ transforms the output weight (logits) into probabilities\n",
        "* $o$ is column vector that contains the probability of each category\n",
        "\n",
        "We will train this model via stochastic gradient descent by minimizing the negative log-likelihood of the data:\n",
        "$$\n",
        "    \\hat{W}, \\hat{b} = \\operatorname{argmin}_{W, b} \\sum_{x, y} - \\log p(y | x)\n",
        "$$\n",
        "Although this is a linear model, it classifies raw data without any manual feature extraction step."
      ]
    },
    {
      "cell_type": "code",
      "metadata": {
        "id": "UZWAOa7ngrzN",
        "colab_type": "code",
        "colab": {}
      },
      "source": [
        "# import libs that we will use\n",
        "import os\n",
        "import sys\n",
        "import numpy as np\n",
        "import matplotlib.pyplot as plt\n",
        "import math\n",
        "from sklearn.utils import shuffle\n",
        "import pickle\n",
        "import pandas as pd\n",
        "\n",
        "# To load the data we will use the script of Gaetan Marceau Caron\n",
        "# You can download it from the course webiste and move it to the same directory that contains this ipynb file\n",
        "import dataset_loader\n",
        "\n",
        "%matplotlib inline"
      ],
      "execution_count": 0,
      "outputs": []
    },
    {
      "cell_type": "markdown",
      "metadata": {
        "id": "yOR9-Ng5grzb",
        "colab_type": "text"
      },
      "source": [
        "# 1. Data"
      ]
    },
    {
      "cell_type": "code",
      "metadata": {
        "id": "f778J6HNgrzd",
        "colab_type": "code",
        "colab": {}
      },
      "source": [
        "# Download mnist dataset \n",
        "if(\"mnist.pkl.gz\" not in os.listdir(\".\")):\n",
        "    !wget http://deeplearning.net/data/mnist/mnist.pkl.gz\n",
        "\n",
        "# if you have it somewhere else, you can comment the lines above\n",
        "# and overwrite the path below\n",
        "mnist_path = \"./mnist.pkl.gz\""
      ],
      "execution_count": 0,
      "outputs": []
    },
    {
      "cell_type": "code",
      "metadata": {
        "id": "jvOfYYKSgrzn",
        "colab_type": "code",
        "colab": {}
      },
      "source": [
        "# load the 3 splits\n",
        "train_data, dev_data, test_data = dataset_loader.load_mnist(mnist_path)\n",
        "\n",
        "X_train = train_data[0]\n",
        "y_train = train_data[1]\n",
        "\n",
        "X_dev = dev_data[0]\n",
        "y_dev = dev_data[1]\n",
        "\n",
        "X_test = test_data[0]\n",
        "y_test = test_data[1]"
      ],
      "execution_count": 0,
      "outputs": []
    },
    {
      "cell_type": "markdown",
      "metadata": {
        "id": "s4cZLil8grzt",
        "colab_type": "text"
      },
      "source": [
        "Each dataset is a list with two elemets:\n",
        "* data[0] contains images\n",
        "* data[1] contains labels\n",
        "\n",
        "Data is stored as numpy.ndarray. You can use data[0][i] to retrieve image number i and data[1][i] to retrieve its label."
      ]
    },
    {
      "cell_type": "code",
      "metadata": {
        "id": "g9USThPagrzu",
        "colab_type": "code",
        "outputId": "989a5845-dae9-4aea-a17f-4ad18f58521e",
        "colab": {
          "base_uri": "https://localhost:8080/",
          "height": 53
        }
      },
      "source": [
        "print(train_data[0].shape)\n",
        "print(train_data[1].shape)"
      ],
      "execution_count": 4,
      "outputs": [
        {
          "output_type": "stream",
          "text": [
            "(50000, 784)\n",
            "(50000,)\n"
          ],
          "name": "stdout"
        }
      ]
    },
    {
      "cell_type": "code",
      "metadata": {
        "id": "g0SLOGtwgrz2",
        "colab_type": "code",
        "outputId": "7c9a5cbe-1340-4bc5-a714-eb7b54275825",
        "colab": {
          "base_uri": "https://localhost:8080/",
          "height": 301
        }
      },
      "source": [
        "index = 900\n",
        "label = train_data[1][index]\n",
        "picture = train_data[0][index]\n",
        "\n",
        "print(\"label: %i\" % label)\n",
        "plt.imshow(picture.reshape(28,28), cmap='Greys')"
      ],
      "execution_count": 5,
      "outputs": [
        {
          "output_type": "stream",
          "text": [
            "label: 9\n"
          ],
          "name": "stdout"
        },
        {
          "output_type": "execute_result",
          "data": {
            "text/plain": [
              "<matplotlib.image.AxesImage at 0x7f2455d9f128>"
            ]
          },
          "metadata": {
            "tags": []
          },
          "execution_count": 5
        },
        {
          "output_type": "display_data",
          "data": {
            "image/png": "[encoded data removed]",
            "text/plain": [
              "<Figure size 432x288 with 1 Axes>"
            ]
          },
          "metadata": {
            "tags": []
          }
        }
      ]
    },
    {
      "cell_type": "markdown",
      "metadata": {
        "id": "7bA2mUXXgr0A",
        "colab_type": "text"
      },
      "source": [
        "**Question:** What are the characteristics of training data? (number of samples, dimension of input, number of labels)\n",
        "\n",
        "The documentation of ndarray class is available here: https://docs.scipy.org/doc/numpy/reference/generated/numpy.ndarray.html"
      ]
    },
    {
      "cell_type": "code",
      "metadata": {
        "id": "JV9pgUuigr0F",
        "colab_type": "code",
        "colab": {}
      },
      "source": [
        "def getDimDataset(data):\n",
        "    n_training = data[0].shape[0]\n",
        "    n_feature = data[0].shape[1]\n",
        "    n_label = data[1].shape[0]\n",
        "    return n_training, n_feature, n_label"
      ],
      "execution_count": 0,
      "outputs": []
    },
    {
      "cell_type": "code",
      "metadata": {
        "id": "e3W1Z1Xmgr0T",
        "colab_type": "code",
        "outputId": "4ede7fef-914e-45bf-bb47-26ead8038509",
        "colab": {
          "base_uri": "https://localhost:8080/",
          "height": 35
        }
      },
      "source": [
        "getDimDataset(train_data)"
      ],
      "execution_count": 7,
      "outputs": [
        {
          "output_type": "execute_result",
          "data": {
            "text/plain": [
              "(50000, 784, 50000)"
            ]
          },
          "metadata": {
            "tags": []
          },
          "execution_count": 7
        }
      ]
    },
    {
      "cell_type": "markdown",
      "metadata": {
        "id": "d0m8RxDdgr0p",
        "colab_type": "text"
      },
      "source": [
        "# 1. Building functions\n",
        "\n",
        "We now need to build functions that are required for the neural network.\n",
        "$$\n",
        "    o = \\operatorname{softmax}(Wx + b) \\\\\n",
        "    L(x, y) = -\\log p(y | x) = -\\log o[y]\n",
        "$$\n",
        "\n",
        "Note that in numpy, operator @ is used for matrix multiplication while * is used for element-wise multiplication.\n",
        "The documentation for linear algebra in numpy is available here: https://docs.scipy.org/doc/numpy/reference/routines.linalg.html\n",
        "\n",
        "The first operation is the affine transformation $v = Wx + b$.\n",
        "To compute the gradient, it is often convenient to write the forward pass as $v[i] = b[i] + \\sum_j W[i, j] x[j]$."
      ]
    },
    {
      "cell_type": "code",
      "metadata": {
        "id": "SFHcLHzegr0u",
        "colab_type": "code",
        "colab": {}
      },
      "source": [
        "# Input:\n",
        "# - W: projection matrix\n",
        "# - b: bias\n",
        "# - x: input features\n",
        "# Output:\n",
        "# - vector\n",
        "def affine_transform(W, b, x):\n",
        "    v = W @ x + b\n",
        "    return v\n",
        "\n",
        "# Input:\n",
        "# - W: projection matrix\n",
        "# - b: bias\n",
        "# - x: input features\n",
        "# - g: incoming gradient\n",
        "# Output:\n",
        "# - g_W: gradient wrt W\n",
        "# - g_b: gradient wrt b\n",
        "def backward_affine_transform(W, b, x, g):\n",
        "    g_W = g.reshape(-1, 1) @ x.reshape(1, -1)\n",
        "    g_b = g\n",
        "    return g_W, g_b"
      ],
      "execution_count": 0,
      "outputs": []
    },
    {
      "cell_type": "markdown",
      "metadata": {
        "id": "mljDtWcFgr08",
        "colab_type": "text"
      },
      "source": [
        "The next cell is a (too simple) test of affine_transform and backward_affine_transform.\n",
        "It should run without error if your implementation is correct."
      ]
    },
    {
      "cell_type": "code",
      "metadata": {
        "id": "bHY7W7mTgr0_",
        "colab_type": "code",
        "colab": {}
      },
      "source": [
        "W = np.asarray([[ 0.63024213,  0.53679375, -0.92079597],\n",
        " [-0.1155045,   0.62780356, -0.67961305],\n",
        " [ 0.08465286, -0.06561815, -0.39778322],\n",
        " [ 0.8242268,   0.58907262, -0.52208052],\n",
        " [-0.43894227, -0.56993247,  0.09520727]])\n",
        "b = np.asarray([ 0.42706842,  0.69636598, -0.85611933, -0.08682553,  0.83160079])\n",
        "x = np.asarray([-0.32809223, -0.54751413,  0.81949319])\n",
        "\n",
        "o_gold = np.asarray([-0.82819732, -0.16640748, -1.17394705, -1.10761496,  1.36568213])\n",
        "g = np.asarray([-0.08938868,  0.44083873, -0.2260743,  -0.96196726, -0.53428805])\n",
        "g_W_gold = np.asarray([[ 0.02932773,  0.04894156, -0.07325341],\n",
        " [-0.14463576, -0.24136543,  0.36126434],\n",
        " [ 0.07417322,  0.12377887, -0.18526635],\n",
        " [ 0.31561399,  0.52669067, -0.78832562],\n",
        " [ 0.17529576,  0.29253025, -0.43784542]])\n",
        "g_b_gold = np.asarray([-0.08938868,  0.44083873, -0.2260743,  -0.96196726, -0.53428805])\n",
        "\n",
        "\n",
        "# quick test of the forward pass\n",
        "o = affine_transform(W, b, x)\n",
        "if o.shape != o_gold.shape:\n",
        "    raise RuntimeError(\"Unexpected output dimension: got %s, expected %s\" % (str(o.shape), str(o_gold.shape)))\n",
        "if not np.allclose(o, o_gold):\n",
        "    raise RuntimeError(\"Output of the affine_transform function is incorrect\")\n",
        "    \n",
        "# quick test if the backward pass\n",
        "g_W, g_b = backward_affine_transform(W, b, x, g)\n",
        "if g_W.shape != g_W_gold.shape:\n",
        "        raise RuntimeError(\"Unexpected gradient dimension for W: got %s, expected %s\" % (str(g_W.shape), str(g_W_gold.shape)))\n",
        "if g_b.shape != g_b_gold.shape:\n",
        "        raise RuntimeError(\"Unexpected gradient dimension for b: got %s, expected %s\" % (str(g_b.shape), str(g_b_gold.shape)))\n",
        "if not np.allclose(g_W, g_W_gold):\n",
        "    raise RuntimeError(\"Gradient of W is incorrect\")\n",
        "if not np.allclose(g_b, g_b_gold):\n",
        "    raise RuntimeError(\"Gradient of b is incorrect\")"
      ],
      "execution_count": 0,
      "outputs": []
    },
    {
      "cell_type": "markdown",
      "metadata": {
        "id": "uSFul_7bgr1K",
        "colab_type": "text"
      },
      "source": [
        "The softmax function:\n",
        "$$\n",
        "     o = \\operatorname{softmax}(w)\n",
        "$$\n",
        "where $w$ is a vector of logits in $\\mathbb R$ and $o$ a vector of probabilities such that:\n",
        "$$\n",
        "    o[i] = \\frac{\\exp(w[i])}{\\sum_j \\exp(w[j])}\n",
        "$$\n",
        "We do not need to implement the backward for this experiment."
      ]
    },
    {
      "cell_type": "code",
      "metadata": {
        "id": "Mj2jTnS5gr1M",
        "colab_type": "code",
        "colab": {}
      },
      "source": [
        "# Input:\n",
        "# - x: vector of logits\n",
        "# Output\n",
        "# - vector of probabilities\n",
        "def softmax(x):\n",
        "    return np.exp(x - np.max(x)) / np.sum(np.exp(x-np.max(x)))"
      ],
      "execution_count": 0,
      "outputs": []
    },
    {
      "cell_type": "markdown",
      "metadata": {
        "id": "BBadPn7Ugr1V",
        "colab_type": "text"
      },
      "source": [
        "**WARNING:** is your implementation numerically stable?\n",
        "\n",
        "The $\\exp$ function results in computations that overflows (i.e. results in numbers that cannot be represented with floating point numbers).\n",
        "Therefore, it is always convenient to use the following trick to improve stability: https://timvieira.github.io/blog/post/2014/02/11/exp-normalize-trick/"
      ]
    },
    {
      "cell_type": "code",
      "metadata": {
        "id": "_tfQsPJmgr1Y",
        "colab_type": "code",
        "outputId": "8d451a3a-9f45-454a-b344-b5dcf45e02d7",
        "colab": {
          "base_uri": "https://localhost:8080/",
          "height": 35
        }
      },
      "source": [
        "# Example for testing the numerical stability of softmax\n",
        "# It should return [1., 0. ,0.], not [nan, 0., 0.]\n",
        "z = [1000000,1,100]\n",
        "print(softmax(z))"
      ],
      "execution_count": 11,
      "outputs": [
        {
          "output_type": "stream",
          "text": [
            "[1. 0. 0.]\n"
          ],
          "name": "stdout"
        }
      ]
    },
    {
      "cell_type": "markdown",
      "metadata": {
        "id": "rSVeIBRAgr1h",
        "colab_type": "text"
      },
      "source": [
        "**Question**: from the result of the cell above, what can you say about the softmax output, even when it is stable?"
      ]
    },
    {
      "cell_type": "code",
      "metadata": {
        "id": "MPDILMYngr1k",
        "colab_type": "code",
        "colab": {}
      },
      "source": [
        "# Just too simple test for the softmax function\n",
        "x = np.asarray([0.92424884, -0.92381088, -0.74666024, -0.87705478, -0.54797015])\n",
        "y_gold = np.asarray([0.57467369, 0.09053556, 0.10808233, 0.09486917, 0.13183925])\n",
        "\n",
        "y = softmax(x)\n",
        "if not np.allclose(y, y_gold):\n",
        "    raise RuntimeError(\"Output of the softmax function is incorrect\")"
      ],
      "execution_count": 0,
      "outputs": []
    },
    {
      "cell_type": "markdown",
      "metadata": {
        "id": "Zei4EB86gr1u",
        "colab_type": "text"
      },
      "source": [
        "Finally, we build the loss function and its gradient for training the network.\n",
        "\n",
        "The loss function is the negative log-likelihood defined as:\n",
        "$$\n",
        "    \\mathcal L(x, gold) = -\\log \\frac{\\exp(x[gold])}{\\sum_j \\exp(x[j])} = -x[gold] + \\log \\sum_j \\exp(x[j])\n",
        "$$\n",
        "This function is also called the cross-entropy loss (in Pytorch, different names are used dependending if the inputs are probabilities or raw logits).\n",
        "\n",
        "Similarly to the softmax, we have to rely on the log-sum-exp trick to stabilize the computation: https://timvieira.github.io/blog/post/2014/02/11/exp-normalize-trick/"
      ]
    },
    {
      "cell_type": "code",
      "metadata": {
        "id": "hQw1EVzWgr1y",
        "colab_type": "code",
        "colab": {}
      },
      "source": [
        "# Input:\n",
        "# - x: vector of logits\n",
        "# - gold: index of the gold class\n",
        "# Output:\n",
        "# - scalare equal to -log(softmax(x)[gold])\n",
        "def nll(x, gold):\n",
        "    return -x[gold] + np.max(x) + np.log(np.sum(np.exp(x - np.max(x))))\n",
        "\n",
        "# Input:\n",
        "# - x: vector of logits\n",
        "# - gold: index of the gold class\n",
        "# - gradient (scalar)\n",
        "# Output:\n",
        "# - gradient wrt x\n",
        "def backward_nll(x, gold, g):\n",
        "    result = np.exp(x - np.max(x)) / np.sum(np.exp(x - np.max(x)))\n",
        "    result[gold] = -1 + result[gold]\n",
        "    return result"
      ],
      "execution_count": 0,
      "outputs": []
    },
    {
      "cell_type": "code",
      "metadata": {
        "id": "3E_Kf0grgr15",
        "colab_type": "code",
        "colab": {}
      },
      "source": [
        "# test\n",
        "x = np.asarray([-0.13590009, -0.83649656,  0.03130881,  0.42559402,  0.08488182])\n",
        "y_gold = 1.5695014420179738\n",
        "g_gold = np.asarray([ 0.17609875,  0.08739591, -0.79185107,  0.30875221,  0.2196042 ])\n",
        "\n",
        "y = nll(x, 2)\n",
        "g = backward_nll(x, 2, 1.)\n",
        "\n",
        "if not np.allclose(y, y_gold):\n",
        "    raise RuntimeError(\"Output is incorrect\")\n",
        "\n",
        "if g.shape != g_gold.shape:\n",
        "        raise RuntimeError(\"Unexpected gradient dimension: got %s, expected %s\" % (str(g.shape), str(g_gold.shape)))\n",
        "if not np.allclose(g, g_gold):\n",
        "    raise RuntimeError(\"Gradient is incorrect\")"
      ],
      "execution_count": 0,
      "outputs": []
    },
    {
      "cell_type": "markdown",
      "metadata": {
        "id": "-3eJjk4Pgr2C",
        "colab_type": "text"
      },
      "source": [
        "The following code test the implementation of the gradient using finite-difference approximation, see: https://timvieira.github.io/blog/post/2017/04/21/how-to-test-gradient-implementations/\n",
        "\n",
        "Your implementation should pass this test."
      ]
    },
    {
      "cell_type": "code",
      "metadata": {
        "id": "6yBh1vaIgr2E",
        "colab_type": "code",
        "colab": {}
      },
      "source": [
        "# this is python re-implementation of the test from the Dynet library\n",
        "# https://github.com/clab/dynet/blob/master/dynet/grad-check.cc\n",
        "\n",
        "def is_almost_equal(grad, computed_grad):\n",
        "    #print(grad, computed_grad)\n",
        "    f = abs(grad - computed_grad)\n",
        "    m = max(abs(grad), abs(computed_grad))\n",
        "\n",
        "    if f > 0.01 and m > 0.:\n",
        "        f /= m\n",
        "\n",
        "    if f > 0.01 or math.isnan(f):\n",
        "        return False\n",
        "    else:\n",
        "        return True\n",
        "\n",
        "def check_gradient(function, weights, true_grad, alpha = 1e-3):\n",
        "    # because input can be of any dimension,\n",
        "    # we build a view of the underlying data with the .shape(-1) method\n",
        "    # then we can access any element of the tensor as a elements of a list\n",
        "    # with a single dimension\n",
        "    weights_view = weights.reshape(-1)\n",
        "    true_grad_view = true_grad.reshape(-1)\n",
        "    for i in range(weights_view.shape[0]):\n",
        "        old = weights_view[i]\n",
        "\n",
        "        weights_view[i] = old - alpha\n",
        "        value_left = function(weights).reshape(-1)\n",
        "\n",
        "        weights_view[i] = old + alpha\n",
        "        value_right = function(weights).reshape(-1)\n",
        "\n",
        "        weights_view[i] = old\n",
        "        grad = (value_right - value_left) / (2. * alpha)\n",
        "        \n",
        "        #print(grad, true_grad)\n",
        "        if not is_almost_equal(grad, true_grad_view[i]):\n",
        "            return False\n",
        "\n",
        "        return True"
      ],
      "execution_count": 0,
      "outputs": []
    },
    {
      "cell_type": "code",
      "metadata": {
        "id": "iA4SLN7Egr2N",
        "colab_type": "code",
        "outputId": "d8e5cf68-1286-45c0-c750-8feb4bcf3475",
        "colab": {
          "base_uri": "https://localhost:8080/",
          "height": 72
        }
      },
      "source": [
        "# Test the affine transformation\n",
        "\n",
        "x = np.random.uniform(-1, 1, (5,))\n",
        "W = np.random.uniform(-1, 1, (3, 5))\n",
        "b = np.random.uniform(-1, 1, (3,))\n",
        "\n",
        "for i in range(3):\n",
        "    y = affine_transform(W, b, x)\n",
        "    g = np.zeros_like(y)\n",
        "    g[i] = 1.\n",
        "    g_W, _ = backward_affine_transform(W, b, x, g)\n",
        "    print(check_gradient(lambda W: affine_transform(W, b, x)[i], W, g_W))"
      ],
      "execution_count": 16,
      "outputs": [
        {
          "output_type": "stream",
          "text": [
            "True\n",
            "True\n",
            "True\n"
          ],
          "name": "stdout"
        }
      ]
    },
    {
      "cell_type": "code",
      "metadata": {
        "id": "BUbs8ZxJgr2W",
        "colab_type": "code",
        "outputId": "8c0e75a5-7687-4f22-bb3b-3834c81af98f",
        "colab": {
          "base_uri": "https://localhost:8080/",
          "height": 108
        }
      },
      "source": [
        "# test the negative likelihood loss\n",
        "\n",
        "x = np.random.uniform(-1, 1, (5,))\n",
        "\n",
        "for gold in range(5):\n",
        "    y = nll(x, gold)\n",
        "    g_y = backward_nll(x, gold, 1.)\n",
        "\n",
        "    print(check_gradient(lambda x: nll(x, gold), x, g_y))"
      ],
      "execution_count": 17,
      "outputs": [
        {
          "output_type": "stream",
          "text": [
            "True\n",
            "True\n",
            "True\n",
            "True\n",
            "True\n"
          ],
          "name": "stdout"
        }
      ]
    },
    {
      "cell_type": "markdown",
      "metadata": {
        "id": "qnrep7u_gr2i",
        "colab_type": "text"
      },
      "source": [
        "# 2. Parameter initialization\n",
        "\n",
        "We are now going to build the function that will be used to initialize the parameters of the neural network before training.\n",
        "Note that for parameter initialization you must use **in-place** operations:"
      ]
    },
    {
      "cell_type": "code",
      "metadata": {
        "id": "PKt2finygr2l",
        "colab_type": "code",
        "colab": {}
      },
      "source": [
        "# create a random ndarray\n",
        "a = np.random.uniform(-1, 1, (5,))\n",
        "\n",
        "# this does not change the data of the ndarray created above!\n",
        "# it creates a new ndarray and replace the reference stored in a\n",
        "a = np.zeros((5, ))\n",
        "\n",
        "# this will change the underlying data of the ndarray that a points to\n",
        "a[:] = 0\n",
        "\n",
        "# similarly, this creates a new array and change the object pointed by a\n",
        "a = a + 1\n",
        "\n",
        "# while this change the underlying data of a\n",
        "a += 1"
      ],
      "execution_count": 0,
      "outputs": []
    },
    {
      "cell_type": "markdown",
      "metadata": {
        "id": "4W26FZLlgr3N",
        "colab_type": "text"
      },
      "source": [
        "For an affine transformation, it is common to:\n",
        "* initialize the bias to 0\n",
        "* initialize the projection matrix with Glorot initialization (also known as Xavier initialization)\n",
        "\n",
        "The formula for Glorot initialization can be found in equation 16 (page 5) of the original paper: http://proceedings.mlr.press/v9/glorot10a/glorot10a.pdf"
      ]
    },
    {
      "cell_type": "code",
      "metadata": {
        "id": "As8jwFASgr3R",
        "colab_type": "code",
        "colab": {}
      },
      "source": [
        "def zero_init(dim):\n",
        "    return np.zeros(dim)\n",
        "\n",
        "def glorot_init(m, n):\n",
        "    init_value = np.sqrt(6 / (m + n))\n",
        "    return np.random.uniform(-init_value, init_value, (m, n))"
      ],
      "execution_count": 0,
      "outputs": []
    },
    {
      "cell_type": "markdown",
      "metadata": {
        "id": "_glpG9jvgr3d",
        "colab_type": "text"
      },
      "source": [
        "# 3. Building and training the neural network\n",
        "\n",
        "In our simple example, creating the neural network is simply instantiating the parameters $W$ and $b$.\n",
        "They must be ndarray object with the correct dimensions."
      ]
    },
    {
      "cell_type": "code",
      "metadata": {
        "id": "GhvD235kgr3h",
        "colab_type": "code",
        "colab": {}
      },
      "source": [
        "def create_parameters(dim_input, dim_output):\n",
        "    W = glorot_init(dim_output, dim_input)\n",
        "    b = zero_init(dim_output)\n",
        "    \n",
        "    return W, b"
      ],
      "execution_count": 0,
      "outputs": []
    },
    {
      "cell_type": "markdown",
      "metadata": {
        "id": "1PzU2j_Egr3r",
        "colab_type": "text"
      },
      "source": [
        "The recent success of deep learning is (partly) due to the ability to train very big neural networks.\n",
        "However, researchers became interested in building small neural networks to improve computational efficiency and memory usage.\n",
        "Therefore, we often want to compare neural networks by their number of parameters, i.e. the size of the memory required to store the parameters."
      ]
    },
    {
      "cell_type": "code",
      "metadata": {
        "id": "dt0kWWY9gr3u",
        "colab_type": "code",
        "colab": {}
      },
      "source": [
        "def print_n_parameters(W, b):\n",
        "    n = W.size + b.size\n",
        "    print(\"Number of parameters: %i\" % (n))"
      ],
      "execution_count": 0,
      "outputs": []
    },
    {
      "cell_type": "markdown",
      "metadata": {
        "id": "C_hX3gdlgr37",
        "colab_type": "text"
      },
      "source": [
        "We can now create the neural network and print its number of parameters:"
      ]
    },
    {
      "cell_type": "code",
      "metadata": {
        "scrolled": true,
        "id": "8CuDXdd7gr3-",
        "colab_type": "code",
        "outputId": "6f85aa3b-2204-4ed7-e7d6-443081c4b722",
        "colab": {
          "base_uri": "https://localhost:8080/",
          "height": 35
        }
      },
      "source": [
        "dim_input = train_data[0].shape[1]\n",
        "dim_output = 10\n",
        "\n",
        "W, b = create_parameters(dim_input, dim_output)\n",
        "print_n_parameters(W, b)"
      ],
      "execution_count": 22,
      "outputs": [
        {
          "output_type": "stream",
          "text": [
            "Number of parameters: 7850\n"
          ],
          "name": "stdout"
        }
      ]
    },
    {
      "cell_type": "markdown",
      "metadata": {
        "id": "tVDZbqdCgr4L",
        "colab_type": "text"
      },
      "source": [
        "Finally, the training loop!\n",
        "\n",
        "The training loop should be structured as follows:\n",
        "* we do **epochs** over the data, i.e. one epoch is one loop over the dataset\n",
        "* at each epoch, we first loop over the data and update the network parameters with respect to the loss gradient\n",
        "* at the end of each epoch, we evaluate the network on the dev dataset\n",
        "* after all epochs are done, we evaluate our network on the test dataset and compare its performance with the performance on dev\n",
        "\n",
        "During training, it is useful to print the following information:\n",
        "* the mean loss over the epoch: it should be decreasing!\n",
        "* the accuracy on the dev set: it should be increasing!\n",
        "* the accuracy on the train set: it shoud be increasing!\n",
        "\n",
        "If you observe a decreasing loss (+increasing accuracy on test data) but decreasing accuracy on dev data, your network is overfitting!\n",
        "\n",
        "Once you have build **and tested** this a simple training loop, you should introduce the following improvements:\n",
        "* instead of evaluating on dev after each loop on the training data, you can also evaluate on dev n times per epoch\n",
        "* shuffle the data before each epoch\n",
        "* instead of memorizing the parameters of the last epoch only, you should have a copy of the parameters that produced the best value on dev data during training and evaluate on test with those instead of the parameters after the last epoch\n",
        "* learning rate decay: if you do not observe improvement on dev, you can try to reduce the step size\n",
        "\n",
        "After you conducted (successful?) experiments, you should write a report with results."
      ]
    },
    {
      "cell_type": "code",
      "metadata": {
        "id": "BWwGDCFKgr4O",
        "colab_type": "code",
        "colab": {}
      },
      "source": [
        "def model_validation(X, y, model_params):\n",
        "    W = model_params[0]\n",
        "    b = model_params[1]\n",
        "    \n",
        "    tot_loss = 0.\n",
        "    accurancy = 0\n",
        "    \n",
        "    size = X.shape[0]\n",
        "    \n",
        "    for i in range(size):\n",
        "        x = X[i]\n",
        "        label = y[i]\n",
        "        \n",
        "        # Prediction\n",
        "        net_out = affine_transform(W, b, x)\n",
        "        loss = nll(net_out, label)\n",
        "\n",
        "        prediction = np.argmax(net_out)\n",
        "        \n",
        "        tot_loss += loss\n",
        "        accurancy += 1 if prediction == label else 0\n",
        "    \n",
        "    return accurancy/size, tot_loss/size"
      ],
      "execution_count": 0,
      "outputs": []
    },
    {
      "cell_type": "code",
      "metadata": {
        "id": "bVJ0aoeVgr4e",
        "colab_type": "code",
        "colab": {}
      },
      "source": [
        "def stats_backup(filename, *argv):\n",
        "    with open(filename, \"a\") as f:\n",
        "        line = [str(x) for x in argv]\n",
        "        f.write(','.join(line) + \"\\n\")"
      ],
      "execution_count": 0,
      "outputs": []
    },
    {
      "cell_type": "code",
      "metadata": {
        "id": "ia8Ky1Q2gr4o",
        "colab_type": "code",
        "colab": {}
      },
      "source": [
        "def weights_backup(params_filename, model_params):\n",
        "    with open(params_filename, \"wb\") as f:\n",
        "        pickle.dump(model_params, f)"
      ],
      "execution_count": 0,
      "outputs": []
    },
    {
      "cell_type": "code",
      "metadata": {
        "id": "2Y3OJub7gr4w",
        "colab_type": "code",
        "colab": {}
      },
      "source": [
        "def write_description(filename, description):\n",
        "    with open(filename, \"w\") as f:\n",
        "        f.write(description +\"\\n\")"
      ],
      "execution_count": 0,
      "outputs": []
    },
    {
      "cell_type": "markdown",
      "metadata": {
        "id": "LxkytZ-Ugr45",
        "colab_type": "text"
      },
      "source": [
        "# Model 1:\n",
        "\n",
        "- Static Step Size of 0.01\n",
        "- 50 Epochs\n",
        "- We save the params with best loss on dev set"
      ]
    },
    {
      "cell_type": "code",
      "metadata": {
        "id": "6fHd2tFhgr47",
        "colab_type": "code",
        "colab": {}
      },
      "source": [
        "# Init of backup files\n",
        "filename = \"train_1.csv\"\n",
        "params_filename = \"train_1.pkl\"\n",
        "write_description(\"train_1.txt\", \"Static Step Size 0.01\")\n",
        "\n",
        "with open(filename, \"w\") as f:\n",
        "    f.write(\"Avg Train Loss,Avg Dev Loss,Train Accurancy,Dev Accurancy\\n\")"
      ],
      "execution_count": 0,
      "outputs": []
    },
    {
      "cell_type": "code",
      "metadata": {
        "scrolled": true,
        "id": "LMTeaV6Ngr5E",
        "colab_type": "code",
        "outputId": "e8603606-ec2d-4af0-aef3-1db534de54da",
        "colab": {
          "base_uri": "https://localhost:8080/",
          "height": 1000
        }
      },
      "source": [
        "n_epochs = 50 # number of epochs\n",
        "step = 0.01 # step size for gradient updates\n",
        "\n",
        "train_size = X_train.shape[0]\n",
        "\n",
        "W, b = create_parameters(dim_input, dim_output)\n",
        "model_params = [W, b]\n",
        "\n",
        "for epoch in range(n_epochs):\n",
        "    best_loss = sys.float_info.max\n",
        "        \n",
        "    X_train, y_train = shuffle(X_train, y_train)\n",
        "    \n",
        "    tot_loss = 0.\n",
        "    train_accurancy = 0\n",
        "    \n",
        "    for i in range(train_size):\n",
        "        x = X_train[i]\n",
        "        label = y_train[i]\n",
        "        \n",
        "        # Prediction\n",
        "        net_out = affine_transform(W, b, x)\n",
        "        loss = nll(net_out, label)\n",
        "        \n",
        "        prediction = np.argmax(net_out)\n",
        "        \n",
        "        # Backpropagation\n",
        "        gradient_loss = backward_nll(net_out, label, 1.)\n",
        "        gradient_w, gradient_b = backward_affine_transform(W, b, x, gradient_loss)\n",
        "\n",
        "        W -= step*gradient_w\n",
        "        b -= step*gradient_b\n",
        "        \n",
        "        # Training statistics\n",
        "        tot_loss += loss\n",
        "        train_accurancy += 1 if prediction == label else 0\n",
        "    \n",
        "    dev_accurancy, dev_avg_loss = model_validation(X_dev, y_dev, model_params)\n",
        "    \n",
        "    if dev_avg_loss < best_loss: \n",
        "        best_loss = dev_avg_loss\n",
        "        best_params = model_params\n",
        "    \n",
        "    print(\"Epoch:\", epoch)\n",
        "    print (\"Train Avg loss:\", tot_loss/train_size, \"\\tTest Avg Loss:\", dev_avg_loss)\n",
        "    print (\"Train Accurancy:\", train_accurancy/train_size, \"\\tTest Accurancy:\", dev_accurancy)\n",
        "    stats_backup(filename, tot_loss/train_size, dev_avg_loss, train_accurancy/train_size, dev_accurancy)\n",
        "    weights_backup(params_filename, best_params)"
      ],
      "execution_count": 28,
      "outputs": [
        {
          "output_type": "stream",
          "text": [
            "Epoch: 0\n",
            "Train Avg loss: 0.3775195305105292 \tTest Avg Loss: 0.30233437125344287\n",
            "Train Accurancy: 0.8933 \tTest Accurancy: 0.9127\n",
            "Epoch: 1\n",
            "Train Avg loss: 0.3104273145166531 \tTest Avg Loss: 0.2800040395053739\n",
            "Train Accurancy: 0.91258 \tTest Accurancy: 0.9203\n",
            "Epoch: 2\n",
            "Train Avg loss: 0.2982517457547769 \tTest Avg Loss: 0.27903494429241865\n",
            "Train Accurancy: 0.91532 \tTest Accurancy: 0.9227\n",
            "Epoch: 3\n",
            "Train Avg loss: 0.290326150526404 \tTest Avg Loss: 0.2725570745960225\n",
            "Train Accurancy: 0.91774 \tTest Accurancy: 0.9252\n",
            "Epoch: 4\n",
            "Train Avg loss: 0.28619327438845904 \tTest Avg Loss: 0.2866885767831935\n",
            "Train Accurancy: 0.91952 \tTest Accurancy: 0.9205\n",
            "Epoch: 5\n",
            "Train Avg loss: 0.2819275318235494 \tTest Avg Loss: 0.2745345926962315\n",
            "Train Accurancy: 0.92042 \tTest Accurancy: 0.9233\n",
            "Epoch: 6\n",
            "Train Avg loss: 0.2801702243525389 \tTest Avg Loss: 0.2721358969064412\n",
            "Train Accurancy: 0.92058 \tTest Accurancy: 0.9242\n",
            "Epoch: 7\n",
            "Train Avg loss: 0.27651301751093715 \tTest Avg Loss: 0.26606382072490653\n",
            "Train Accurancy: 0.921 \tTest Accurancy: 0.9254\n",
            "Epoch: 8\n",
            "Train Avg loss: 0.2734365654381503 \tTest Avg Loss: 0.2832729928424114\n",
            "Train Accurancy: 0.92276 \tTest Accurancy: 0.9221\n",
            "Epoch: 9\n",
            "Train Avg loss: 0.2718039199351471 \tTest Avg Loss: 0.2849731765898913\n",
            "Train Accurancy: 0.92374 \tTest Accurancy: 0.9197\n",
            "Epoch: 10\n",
            "Train Avg loss: 0.27194660221322214 \tTest Avg Loss: 0.2717962013993727\n",
            "Train Accurancy: 0.92396 \tTest Accurancy: 0.9269\n",
            "Epoch: 11\n",
            "Train Avg loss: 0.2696040919234817 \tTest Avg Loss: 0.268768733082726\n",
            "Train Accurancy: 0.92378 \tTest Accurancy: 0.9277\n",
            "Epoch: 12\n",
            "Train Avg loss: 0.2681598001710944 \tTest Avg Loss: 0.2764199514369487\n",
            "Train Accurancy: 0.92436 \tTest Accurancy: 0.9251\n",
            "Epoch: 13\n",
            "Train Avg loss: 0.2666776880220967 \tTest Avg Loss: 0.28086902745345993\n",
            "Train Accurancy: 0.92468 \tTest Accurancy: 0.9242\n",
            "Epoch: 14\n",
            "Train Avg loss: 0.26666910218629514 \tTest Avg Loss: 0.2742659599506813\n",
            "Train Accurancy: 0.92466 \tTest Accurancy: 0.9253\n",
            "Epoch: 15\n",
            "Train Avg loss: 0.2652994370026017 \tTest Avg Loss: 0.2895696191416458\n",
            "Train Accurancy: 0.9248 \tTest Accurancy: 0.9191\n",
            "Epoch: 16\n",
            "Train Avg loss: 0.26448658626006116 \tTest Avg Loss: 0.2751930860048925\n",
            "Train Accurancy: 0.9269 \tTest Accurancy: 0.9263\n",
            "Epoch: 17\n",
            "Train Avg loss: 0.26290195540311023 \tTest Avg Loss: 0.2744927286178703\n",
            "Train Accurancy: 0.92578 \tTest Accurancy: 0.9249\n",
            "Epoch: 18\n",
            "Train Avg loss: 0.2624523394125757 \tTest Avg Loss: 0.27458821189061716\n",
            "Train Accurancy: 0.92568 \tTest Accurancy: 0.9255\n",
            "Epoch: 19\n",
            "Train Avg loss: 0.26082932697730865 \tTest Avg Loss: 0.27624272068985456\n",
            "Train Accurancy: 0.9267 \tTest Accurancy: 0.9237\n",
            "Epoch: 20\n",
            "Train Avg loss: 0.2612831923704726 \tTest Avg Loss: 0.2765810921175823\n",
            "Train Accurancy: 0.92736 \tTest Accurancy: 0.9246\n",
            "Epoch: 21\n",
            "Train Avg loss: 0.2604714210032624 \tTest Avg Loss: 0.2843100162293689\n",
            "Train Accurancy: 0.92626 \tTest Accurancy: 0.9232\n",
            "Epoch: 22\n",
            "Train Avg loss: 0.2603303156212703 \tTest Avg Loss: 0.27311499855293264\n",
            "Train Accurancy: 0.92712 \tTest Accurancy: 0.9284\n",
            "Epoch: 23\n",
            "Train Avg loss: 0.2585486075951881 \tTest Avg Loss: 0.2787073413830141\n",
            "Train Accurancy: 0.92692 \tTest Accurancy: 0.925\n",
            "Epoch: 24\n",
            "Train Avg loss: 0.2589070254570931 \tTest Avg Loss: 0.2766040345676773\n",
            "Train Accurancy: 0.92752 \tTest Accurancy: 0.9263\n",
            "Epoch: 25\n",
            "Train Avg loss: 0.25846377125768993 \tTest Avg Loss: 0.28290937734180965\n",
            "Train Accurancy: 0.92678 \tTest Accurancy: 0.9208\n",
            "Epoch: 26\n",
            "Train Avg loss: 0.2573776198366098 \tTest Avg Loss: 0.2827942622686004\n",
            "Train Accurancy: 0.92724 \tTest Accurancy: 0.9258\n",
            "Epoch: 27\n",
            "Train Avg loss: 0.2573613622811686 \tTest Avg Loss: 0.28749937474066883\n",
            "Train Accurancy: 0.92596 \tTest Accurancy: 0.9222\n",
            "Epoch: 28\n",
            "Train Avg loss: 0.25623949714973343 \tTest Avg Loss: 0.3065815770224976\n",
            "Train Accurancy: 0.92822 \tTest Accurancy: 0.9163\n",
            "Epoch: 29\n",
            "Train Avg loss: 0.25723170598426276 \tTest Avg Loss: 0.2833081904890208\n",
            "Train Accurancy: 0.9279 \tTest Accurancy: 0.9227\n",
            "Epoch: 30\n",
            "Train Avg loss: 0.2558227534088807 \tTest Avg Loss: 0.29309189338260155\n",
            "Train Accurancy: 0.92808 \tTest Accurancy: 0.9201\n",
            "Epoch: 31\n",
            "Train Avg loss: 0.2559434448688787 \tTest Avg Loss: 0.28351196321408906\n",
            "Train Accurancy: 0.92742 \tTest Accurancy: 0.9224\n",
            "Epoch: 32\n",
            "Train Avg loss: 0.25440191168561666 \tTest Avg Loss: 0.27903976155581456\n",
            "Train Accurancy: 0.92868 \tTest Accurancy: 0.9254\n",
            "Epoch: 33\n",
            "Train Avg loss: 0.2543024586122928 \tTest Avg Loss: 0.28567619791087334\n",
            "Train Accurancy: 0.92834 \tTest Accurancy: 0.9231\n",
            "Epoch: 34\n",
            "Train Avg loss: 0.25455272848581195 \tTest Avg Loss: 0.2842992458868719\n",
            "Train Accurancy: 0.92902 \tTest Accurancy: 0.9235\n",
            "Epoch: 35\n",
            "Train Avg loss: 0.25409253075237326 \tTest Avg Loss: 0.27803877737974897\n",
            "Train Accurancy: 0.92842 \tTest Accurancy: 0.9254\n",
            "Epoch: 36\n",
            "Train Avg loss: 0.2533010348195669 \tTest Avg Loss: 0.2780039862574272\n",
            "Train Accurancy: 0.92868 \tTest Accurancy: 0.9261\n",
            "Epoch: 37\n",
            "Train Avg loss: 0.2527325628198229 \tTest Avg Loss: 0.2830137156786168\n",
            "Train Accurancy: 0.92908 \tTest Accurancy: 0.9233\n",
            "Epoch: 38\n",
            "Train Avg loss: 0.2535011167435106 \tTest Avg Loss: 0.2962615915432653\n",
            "Train Accurancy: 0.92828 \tTest Accurancy: 0.9223\n",
            "Epoch: 39\n",
            "Train Avg loss: 0.25184617877598636 \tTest Avg Loss: 0.27860765380048713\n",
            "Train Accurancy: 0.92892 \tTest Accurancy: 0.9278\n",
            "Epoch: 40\n",
            "Train Avg loss: 0.25318887761257314 \tTest Avg Loss: 0.27785556648982096\n",
            "Train Accurancy: 0.92932 \tTest Accurancy: 0.9267\n",
            "Epoch: 41\n",
            "Train Avg loss: 0.2521204165771145 \tTest Avg Loss: 0.29129906322432675\n",
            "Train Accurancy: 0.9292 \tTest Accurancy: 0.9211\n",
            "Epoch: 42\n",
            "Train Avg loss: 0.25206175827761074 \tTest Avg Loss: 0.28369255815257793\n",
            "Train Accurancy: 0.92864 \tTest Accurancy: 0.9232\n",
            "Epoch: 43\n",
            "Train Avg loss: 0.2517477236045606 \tTest Avg Loss: 0.28485968662562117\n",
            "Train Accurancy: 0.92906 \tTest Accurancy: 0.9236\n",
            "Epoch: 44\n",
            "Train Avg loss: 0.24989709467435747 \tTest Avg Loss: 0.2809724326629775\n",
            "Train Accurancy: 0.92886 \tTest Accurancy: 0.9263\n",
            "Epoch: 45\n",
            "Train Avg loss: 0.251042646006313 \tTest Avg Loss: 0.28780870040344125\n",
            "Train Accurancy: 0.92986 \tTest Accurancy: 0.9229\n",
            "Epoch: 46\n",
            "Train Avg loss: 0.2508563881353474 \tTest Avg Loss: 0.2895305472445742\n",
            "Train Accurancy: 0.9297 \tTest Accurancy: 0.9217\n",
            "Epoch: 47\n",
            "Train Avg loss: 0.25141779700776185 \tTest Avg Loss: 0.2761082156918228\n",
            "Train Accurancy: 0.929 \tTest Accurancy: 0.9268\n",
            "Epoch: 48\n",
            "Train Avg loss: 0.25077825919236435 \tTest Avg Loss: 0.2789587853066522\n",
            "Train Accurancy: 0.9301 \tTest Accurancy: 0.925\n",
            "Epoch: 49\n",
            "Train Avg loss: 0.24993516373348673 \tTest Avg Loss: 0.2842652567400311\n",
            "Train Accurancy: 0.9297 \tTest Accurancy: 0.9234\n"
          ],
          "name": "stdout"
        }
      ]
    },
    {
      "cell_type": "code",
      "metadata": {
        "id": "ao4e_MILgr5J",
        "colab_type": "code",
        "outputId": "977d2fe0-b50a-4205-b165-0284c4391c7b",
        "colab": {
          "base_uri": "https://localhost:8080/",
          "height": 616
        }
      },
      "source": [
        "# Plot the training suite\n",
        "with open (\"train_1.txt\", \"r\") as f:\n",
        "    description = f.read()\n",
        "\n",
        "df = pd.read_csv(\"train_1.csv\")\n",
        "df['Epoch'] = df.index\n",
        "\n",
        "figure, axs = plt.subplots(1, 2, figsize=(19,9))\n",
        "figure.suptitle(description, fontsize=20)\n",
        "\n",
        "df.plot(kind=\"line\", x=\"Epoch\", y=\"Avg Train Loss\", color=\"blue\", ax=axs[0])\n",
        "df.plot(kind=\"line\", x=\"Epoch\", y=\"Avg Dev Loss\", color=\"red\", ax=axs[0])\n",
        "\n",
        "df.plot(kind=\"line\", x=\"Epoch\", y=\"Train Accurancy\", color=\"blue\", ax=axs[1])\n",
        "df.plot(kind=\"line\", x=\"Epoch\", y=\"Dev Accurancy\", color=\"red\", ax=axs[1])\n",
        "\n",
        "plt.savefig('train_1.png')"
      ],
      "execution_count": 29,
      "outputs": [
        {
          "output_type": "display_data",
          "data": {
            "image/png": "[encoded data removed]",
            "text/plain": [
              "<Figure size 1368x648 with 2 Axes>"
            ]
          },
          "metadata": {
            "tags": []
          }
        }
      ]
    },
    {
      "cell_type": "markdown",
      "metadata": {
        "id": "wwATjfj3gr5P",
        "colab_type": "text"
      },
      "source": [
        "# Model 2:\n",
        "\n",
        "- Decaying Step Size\n",
        "- 65 Epochs\n",
        "- We save the params with best loss on dev set"
      ]
    },
    {
      "cell_type": "code",
      "metadata": {
        "id": "XNEzCInCgr5R",
        "colab_type": "code",
        "colab": {}
      },
      "source": [
        "# Init of backup files\n",
        "filename = \"train_2.csv\"\n",
        "params_filename = \"train_2.pkl\"\n",
        "write_description(\"train_2.txt\", \"Dynamic Step Size between [0.01,0.00001]\")\n",
        "\n",
        "with open(filename, \"w\") as f:\n",
        "    f.write(\"Avg Train Loss,Avg Dev Loss,Train Accurancy,Dev Accurancy\\n\")"
      ],
      "execution_count": 0,
      "outputs": []
    },
    {
      "cell_type": "code",
      "metadata": {
        "scrolled": true,
        "id": "LuSDHzB1gr5V",
        "colab_type": "code",
        "outputId": "79996098-1edc-4391-8e9e-e7833254c281",
        "colab": {
          "base_uri": "https://localhost:8080/",
          "height": 1000
        }
      },
      "source": [
        "n_epochs = 65 # number of epochs\n",
        "\n",
        "train_size = X_train.shape[0]\n",
        "\n",
        "W, b = create_parameters(dim_input, dim_output)\n",
        "model_params = [W, b]\n",
        "\n",
        "for epoch in range(n_epochs):\n",
        "    best_loss = sys.float_info.max\n",
        "    \n",
        "    if epoch <= 4: step = 0.01\n",
        "    elif (epoch >= 5) and (epoch <= 14): step = 0.005\n",
        "    elif (epoch >= 15) and (epoch <= 24): step = 0.0001\n",
        "    elif (epoch >= 25) and (epoch <= 34): step = 0.0005\n",
        "    elif (epoch >= 35) and (epoch <= 44): step = 0.0001\n",
        "    elif (epoch >= 45) and (epoch <= 54): step = 0.00005\n",
        "    elif (epoch >= 55) and (epoch <= 64): step = 0.00001\n",
        "        \n",
        "    X_train, y_train = shuffle(X_train, y_train)\n",
        "    \n",
        "    tot_loss = 0.\n",
        "    train_accurancy = 0\n",
        "    \n",
        "    for i in range(train_size):\n",
        "        x = X_train[i]\n",
        "        label = y_train[i]\n",
        "        \n",
        "        # Prediction\n",
        "        net_out = affine_transform(W, b, x)\n",
        "        loss = nll(net_out, label)\n",
        "        \n",
        "        prediction = np.argmax(net_out)\n",
        "        \n",
        "        # Backpropagation\n",
        "        gradient_loss = backward_nll(net_out, label, 1.)\n",
        "        gradient_w, gradient_b = backward_affine_transform(W, b, x, gradient_loss)\n",
        "\n",
        "        W -= step*gradient_w\n",
        "        b -= step*gradient_b\n",
        "        \n",
        "        # Training statistics\n",
        "        tot_loss += loss\n",
        "        train_accurancy += 1 if prediction == label else 0\n",
        "    \n",
        "    dev_accurancy, dev_avg_loss = model_validation(X_dev, y_dev, model_params)\n",
        "    \n",
        "    if dev_avg_loss < best_loss: \n",
        "        best_loss = dev_avg_loss\n",
        "        best_params = [W, b]\n",
        "    \n",
        "    print(\"Epoch:\", epoch)\n",
        "    print (\"Train Avg loss:\", tot_loss/train_size, \"\\tTest Avg Loss:\", dev_avg_loss)\n",
        "    print (\"Train Accurancy:\", train_accurancy/train_size, \"\\tTest Accurancy:\", dev_accurancy)\n",
        "    stats_backup(filename, tot_loss/train_size, dev_avg_loss, train_accurancy/train_size, dev_accurancy)\n",
        "    weights_backup(params_filename, best_params)"
      ],
      "execution_count": 31,
      "outputs": [
        {
          "output_type": "stream",
          "text": [
            "Epoch: 0\n",
            "Train Avg loss: 0.37656580929922495 \tTest Avg Loss: 0.28607190793859744\n",
            "Train Accurancy: 0.8919 \tTest Accurancy: 0.9206\n",
            "Epoch: 1\n",
            "Train Avg loss: 0.3107175535291992 \tTest Avg Loss: 0.28737289912565994\n",
            "Train Accurancy: 0.91188 \tTest Accurancy: 0.9192\n",
            "Epoch: 2\n",
            "Train Avg loss: 0.297807432349685 \tTest Avg Loss: 0.2778368750443569\n",
            "Train Accurancy: 0.9162 \tTest Accurancy: 0.9253\n",
            "Epoch: 3\n",
            "Train Avg loss: 0.289991333188888 \tTest Avg Loss: 0.27510964246872\n",
            "Train Accurancy: 0.91708 \tTest Accurancy: 0.9242\n",
            "Epoch: 4\n",
            "Train Avg loss: 0.2874109207414214 \tTest Avg Loss: 0.27147784325364394\n",
            "Train Accurancy: 0.91894 \tTest Accurancy: 0.927\n",
            "Epoch: 5\n",
            "Train Avg loss: 0.2682975219190363 \tTest Avg Loss: 0.2709612279468129\n",
            "Train Accurancy: 0.92496 \tTest Accurancy: 0.9267\n",
            "Epoch: 6\n",
            "Train Avg loss: 0.2659130211874436 \tTest Avg Loss: 0.26398076321459435\n",
            "Train Accurancy: 0.92584 \tTest Accurancy: 0.9291\n",
            "Epoch: 7\n",
            "Train Avg loss: 0.2638517134793525 \tTest Avg Loss: 0.27085634325159985\n",
            "Train Accurancy: 0.92606 \tTest Accurancy: 0.926\n",
            "Epoch: 8\n",
            "Train Avg loss: 0.26281507905654594 \tTest Avg Loss: 0.2719755767275428\n",
            "Train Accurancy: 0.927 \tTest Accurancy: 0.9249\n",
            "Epoch: 9\n",
            "Train Avg loss: 0.26121442159781977 \tTest Avg Loss: 0.2685779245091764\n",
            "Train Accurancy: 0.92662 \tTest Accurancy: 0.9259\n",
            "Epoch: 10\n",
            "Train Avg loss: 0.26019383359649534 \tTest Avg Loss: 0.2649576006927477\n",
            "Train Accurancy: 0.92712 \tTest Accurancy: 0.9278\n",
            "Epoch: 11\n",
            "Train Avg loss: 0.25940474320045276 \tTest Avg Loss: 0.26410261300372995\n",
            "Train Accurancy: 0.9282 \tTest Accurancy: 0.9262\n",
            "Epoch: 12\n",
            "Train Avg loss: 0.25844454277632894 \tTest Avg Loss: 0.2636434581898199\n",
            "Train Accurancy: 0.92772 \tTest Accurancy: 0.9277\n",
            "Epoch: 13\n",
            "Train Avg loss: 0.25731325268186706 \tTest Avg Loss: 0.2649559661799421\n",
            "Train Accurancy: 0.92762 \tTest Accurancy: 0.9274\n",
            "Epoch: 14\n",
            "Train Avg loss: 0.2566609258399447 \tTest Avg Loss: 0.264672880540772\n",
            "Train Accurancy: 0.92854 \tTest Accurancy: 0.9264\n",
            "Epoch: 15\n",
            "Train Avg loss: 0.2447326211567086 \tTest Avg Loss: 0.2579671188281625\n",
            "Train Accurancy: 0.93202 \tTest Accurancy: 0.9293\n",
            "Epoch: 16\n",
            "Train Avg loss: 0.24334610490622058 \tTest Avg Loss: 0.25770105766661344\n",
            "Train Accurancy: 0.9329 \tTest Accurancy: 0.9286\n",
            "Epoch: 17\n",
            "Train Avg loss: 0.24308409605195383 \tTest Avg Loss: 0.2574414187378975\n",
            "Train Accurancy: 0.9325 \tTest Accurancy: 0.9294\n",
            "Epoch: 18\n",
            "Train Avg loss: 0.2428806938410666 \tTest Avg Loss: 0.25733618282643433\n",
            "Train Accurancy: 0.93252 \tTest Accurancy: 0.9293\n",
            "Epoch: 19\n",
            "Train Avg loss: 0.2426890824775266 \tTest Avg Loss: 0.25738870215259474\n",
            "Train Accurancy: 0.93294 \tTest Accurancy: 0.9297\n",
            "Epoch: 20\n",
            "Train Avg loss: 0.2425712963189597 \tTest Avg Loss: 0.25743926193221\n",
            "Train Accurancy: 0.9329 \tTest Accurancy: 0.9294\n",
            "Epoch: 21\n",
            "Train Avg loss: 0.24247822664335836 \tTest Avg Loss: 0.2573188652229652\n",
            "Train Accurancy: 0.93264 \tTest Accurancy: 0.9293\n",
            "Epoch: 22\n",
            "Train Avg loss: 0.24241766915101765 \tTest Avg Loss: 0.25719845005830144\n",
            "Train Accurancy: 0.9329 \tTest Accurancy: 0.9297\n",
            "Epoch: 23\n",
            "Train Avg loss: 0.24232292549102594 \tTest Avg Loss: 0.2572469419964233\n",
            "Train Accurancy: 0.93288 \tTest Accurancy: 0.9295\n",
            "Epoch: 24\n",
            "Train Avg loss: 0.24228466071693117 \tTest Avg Loss: 0.25720702450579586\n",
            "Train Accurancy: 0.93282 \tTest Accurancy: 0.9294\n",
            "Epoch: 25\n",
            "Train Avg loss: 0.2433812511005272 \tTest Avg Loss: 0.2580035316227812\n",
            "Train Accurancy: 0.93256 \tTest Accurancy: 0.929\n",
            "Epoch: 26\n",
            "Train Avg loss: 0.24317572549194166 \tTest Avg Loss: 0.25752656469311885\n",
            "Train Accurancy: 0.93258 \tTest Accurancy: 0.93\n",
            "Epoch: 27\n",
            "Train Avg loss: 0.24325809081291944 \tTest Avg Loss: 0.25757457070769335\n",
            "Train Accurancy: 0.93276 \tTest Accurancy: 0.9297\n",
            "Epoch: 28\n",
            "Train Avg loss: 0.24303943162146574 \tTest Avg Loss: 0.25809002768035044\n",
            "Train Accurancy: 0.93308 \tTest Accurancy: 0.9299\n",
            "Epoch: 29\n",
            "Train Avg loss: 0.24297377401023534 \tTest Avg Loss: 0.25778083675261676\n",
            "Train Accurancy: 0.93228 \tTest Accurancy: 0.93\n",
            "Epoch: 30\n",
            "Train Avg loss: 0.2428364781110859 \tTest Avg Loss: 0.2577944468129285\n",
            "Train Accurancy: 0.93286 \tTest Accurancy: 0.9297\n",
            "Epoch: 31\n",
            "Train Avg loss: 0.24269233924107203 \tTest Avg Loss: 0.2579595637509517\n",
            "Train Accurancy: 0.93322 \tTest Accurancy: 0.93\n",
            "Epoch: 32\n",
            "Train Avg loss: 0.24286385954060438 \tTest Avg Loss: 0.2577062209250158\n",
            "Train Accurancy: 0.93284 \tTest Accurancy: 0.9302\n",
            "Epoch: 33\n",
            "Train Avg loss: 0.24274853271237104 \tTest Avg Loss: 0.2579786625598081\n",
            "Train Accurancy: 0.93324 \tTest Accurancy: 0.9309\n",
            "Epoch: 34\n",
            "Train Avg loss: 0.24247758352018828 \tTest Avg Loss: 0.2577780618096374\n",
            "Train Accurancy: 0.9329 \tTest Accurancy: 0.9299\n",
            "Epoch: 35\n",
            "Train Avg loss: 0.241314535971139 \tTest Avg Loss: 0.2577006301690415\n",
            "Train Accurancy: 0.93332 \tTest Accurancy: 0.9299\n",
            "Epoch: 36\n",
            "Train Avg loss: 0.2412005792922575 \tTest Avg Loss: 0.2577294132034745\n",
            "Train Accurancy: 0.93332 \tTest Accurancy: 0.9296\n",
            "Epoch: 37\n",
            "Train Avg loss: 0.24116419905347905 \tTest Avg Loss: 0.2576266051454317\n",
            "Train Accurancy: 0.9335 \tTest Accurancy: 0.9299\n",
            "Epoch: 38\n",
            "Train Avg loss: 0.24115986960895117 \tTest Avg Loss: 0.2577378406764741\n",
            "Train Accurancy: 0.9334 \tTest Accurancy: 0.9296\n",
            "Epoch: 39\n",
            "Train Avg loss: 0.2411109719795268 \tTest Avg Loss: 0.2577899712093043\n",
            "Train Accurancy: 0.93342 \tTest Accurancy: 0.9303\n",
            "Epoch: 40\n",
            "Train Avg loss: 0.24116102503163991 \tTest Avg Loss: 0.25778409295775184\n",
            "Train Accurancy: 0.93362 \tTest Accurancy: 0.9293\n",
            "Epoch: 41\n",
            "Train Avg loss: 0.24113376806501263 \tTest Avg Loss: 0.2576949634981988\n",
            "Train Accurancy: 0.93332 \tTest Accurancy: 0.9295\n",
            "Epoch: 42\n",
            "Train Avg loss: 0.24112666484562534 \tTest Avg Loss: 0.2576264367812339\n",
            "Train Accurancy: 0.93332 \tTest Accurancy: 0.9294\n",
            "Epoch: 43\n",
            "Train Avg loss: 0.24108457232706285 \tTest Avg Loss: 0.2578131030598113\n",
            "Train Accurancy: 0.93324 \tTest Accurancy: 0.9292\n",
            "Epoch: 44\n",
            "Train Avg loss: 0.24108101510311633 \tTest Avg Loss: 0.257683907867178\n",
            "Train Accurancy: 0.9334 \tTest Accurancy: 0.9297\n",
            "Epoch: 45\n",
            "Train Avg loss: 0.24090722963234376 \tTest Avg Loss: 0.2577032017115875\n",
            "Train Accurancy: 0.93344 \tTest Accurancy: 0.9296\n",
            "Epoch: 46\n",
            "Train Avg loss: 0.24088794011021344 \tTest Avg Loss: 0.25771265854686315\n",
            "Train Accurancy: 0.9337 \tTest Accurancy: 0.9294\n",
            "Epoch: 47\n",
            "Train Avg loss: 0.2408683391528938 \tTest Avg Loss: 0.2577315295165149\n",
            "Train Accurancy: 0.93352 \tTest Accurancy: 0.9296\n",
            "Epoch: 48\n",
            "Train Avg loss: 0.2408911434574804 \tTest Avg Loss: 0.25775142903098164\n",
            "Train Accurancy: 0.93372 \tTest Accurancy: 0.9293\n",
            "Epoch: 49\n",
            "Train Avg loss: 0.2408771500202474 \tTest Avg Loss: 0.2576742819954666\n",
            "Train Accurancy: 0.93358 \tTest Accurancy: 0.9296\n",
            "Epoch: 50\n",
            "Train Avg loss: 0.24086275168427226 \tTest Avg Loss: 0.25764874340052074\n",
            "Train Accurancy: 0.93356 \tTest Accurancy: 0.9295\n",
            "Epoch: 51\n",
            "Train Avg loss: 0.2408560152455293 \tTest Avg Loss: 0.25772988158863097\n",
            "Train Accurancy: 0.93368 \tTest Accurancy: 0.9296\n",
            "Epoch: 52\n",
            "Train Avg loss: 0.24085048575731507 \tTest Avg Loss: 0.25772912553473704\n",
            "Train Accurancy: 0.93356 \tTest Accurancy: 0.9297\n",
            "Epoch: 53\n",
            "Train Avg loss: 0.24083195847520478 \tTest Avg Loss: 0.25770999274484896\n",
            "Train Accurancy: 0.93358 \tTest Accurancy: 0.9296\n",
            "Epoch: 54\n",
            "Train Avg loss: 0.2408396165741671 \tTest Avg Loss: 0.25772288151203254\n",
            "Train Accurancy: 0.93354 \tTest Accurancy: 0.9291\n",
            "Epoch: 55\n",
            "Train Avg loss: 0.24067577280977961 \tTest Avg Loss: 0.2577156664454179\n",
            "Train Accurancy: 0.93378 \tTest Accurancy: 0.9293\n",
            "Epoch: 56\n",
            "Train Avg loss: 0.2406710753973791 \tTest Avg Loss: 0.2577150420873988\n",
            "Train Accurancy: 0.9336 \tTest Accurancy: 0.9294\n",
            "Epoch: 57\n",
            "Train Avg loss: 0.24066843215958775 \tTest Avg Loss: 0.2577143574174323\n",
            "Train Accurancy: 0.9336 \tTest Accurancy: 0.9294\n",
            "Epoch: 58\n",
            "Train Avg loss: 0.240667259442824 \tTest Avg Loss: 0.2577126867339134\n",
            "Train Accurancy: 0.93356 \tTest Accurancy: 0.9295\n",
            "Epoch: 59\n",
            "Train Avg loss: 0.24066597677419868 \tTest Avg Loss: 0.2577144538259546\n",
            "Train Accurancy: 0.93356 \tTest Accurancy: 0.9295\n",
            "Epoch: 60\n",
            "Train Avg loss: 0.24066369019920508 \tTest Avg Loss: 0.25771259108463823\n",
            "Train Accurancy: 0.93362 \tTest Accurancy: 0.9296\n",
            "Epoch: 61\n",
            "Train Avg loss: 0.24066306224068082 \tTest Avg Loss: 0.25771291664552104\n",
            "Train Accurancy: 0.93354 \tTest Accurancy: 0.9296\n",
            "Epoch: 62\n",
            "Train Avg loss: 0.24066149972211856 \tTest Avg Loss: 0.2577147504972389\n",
            "Train Accurancy: 0.93352 \tTest Accurancy: 0.9296\n",
            "Epoch: 63\n",
            "Train Avg loss: 0.240659417272271 \tTest Avg Loss: 0.2577159525281861\n",
            "Train Accurancy: 0.9336 \tTest Accurancy: 0.9297\n",
            "Epoch: 64\n",
            "Train Avg loss: 0.24065899196466942 \tTest Avg Loss: 0.2577160700283195\n",
            "Train Accurancy: 0.93356 \tTest Accurancy: 0.9297\n"
          ],
          "name": "stdout"
        }
      ]
    },
    {
      "cell_type": "code",
      "metadata": {
        "id": "0yEDB5kNgr5a",
        "colab_type": "code",
        "outputId": "9daa7ad8-5933-481b-d142-aff4d6f590b4",
        "colab": {
          "base_uri": "https://localhost:8080/",
          "height": 616
        }
      },
      "source": [
        "# Plot the training suite\n",
        "with open (\"train_2.txt\", \"r\") as f:\n",
        "    description = f.read()\n",
        "\n",
        "df = pd.read_csv(\"train_2.csv\")\n",
        "df['Epoch'] = df.index\n",
        "\n",
        "figure, axs = plt.subplots(1, 2, figsize=(19,9))\n",
        "figure.suptitle(description, fontsize=20)\n",
        "\n",
        "df.plot(kind=\"line\", x=\"Epoch\", y=\"Avg Train Loss\", color=\"blue\", ax=axs[0])\n",
        "df.plot(kind=\"line\", x=\"Epoch\", y=\"Avg Dev Loss\", color=\"red\", ax=axs[0])\n",
        "\n",
        "df.plot(kind=\"line\", x=\"Epoch\", y=\"Train Accurancy\", color=\"blue\", ax=axs[1])\n",
        "df.plot(kind=\"line\", x=\"Epoch\", y=\"Dev Accurancy\", color=\"red\", ax=axs[1])\n",
        "\n",
        "plt.savefig('train_2.png')"
      ],
      "execution_count": 32,
      "outputs": [
        {
          "output_type": "display_data",
          "data": {
            "image/png": "[encoded data removed]",
            "text/plain": [
              "<Figure size 1368x648 with 2 Axes>"
            ]
          },
          "metadata": {
            "tags": []
          }
        }
      ]
    },
    {
      "cell_type": "code",
      "metadata": {
        "id": "PRIElsvRgr5g",
        "colab_type": "code",
        "outputId": "e1558b19-08d5-4643-dbb3-d52a944f884e",
        "colab": {
          "base_uri": "https://localhost:8080/",
          "height": 72
        }
      },
      "source": [
        "print(\"Model\\tAccurancy\\tAvg Loss\")\n",
        "\n",
        "with open(\"train_1.pkl\", \"rb\") as f:\n",
        "    model_params = pickle.load(f)\n",
        "\n",
        "test_acc, test_loss = model_validation(X_test, y_test, model_params)\n",
        "print (\"1\", \"%.3f\"%test_acc, \"\\t%.3f\"%test_loss, sep=\"\\t\")\n",
        "\n",
        "with open(\"train_2.pkl\", \"rb\") as f:\n",
        "    model_params = pickle.load(f)\n",
        "\n",
        "test_acc, test_loss = model_validation(X_test, y_test, model_params)\n",
        "print (\"2\", \"%.3f\"%test_acc, \"\\t%.3f\"%test_loss, sep=\"\\t\")"
      ],
      "execution_count": 33,
      "outputs": [
        {
          "output_type": "stream",
          "text": [
            "Model\tAccurancy\tAvg Loss\n",
            "1\t0.925\t\t0.290\n",
            "2\t0.926\t\t0.267\n"
          ],
          "name": "stdout"
        }
      ]
    }
  ]
}