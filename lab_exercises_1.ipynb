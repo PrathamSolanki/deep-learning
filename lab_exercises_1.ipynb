{
 "cells": [
  {
   "cell_type": "markdown",
   "metadata": {},
   "source": [
    "# Practical classes\n",
    "\n",
    "All exercices will be in Python. It is important that you keep track of exercices and structure you code correctly (e.g. create funcions that you can re-use later)\n",
    "\n",
    "We will use Jupyter notebooks (formerly known as IPython). You can read the following courses for help:\n",
    "* Python and numpy: http://cs231n.github.io/python-numpy-tutorial/\n",
    "* Jupyter / IPython : http://cs231n.github.io/ipython-tutorial/\n",
    "\n",
    "To run this notebook:\n",
    "* create a directory somewhere on your filesystem\n",
    "* download the .ipynb from the course website: http://teaching.caio-corro.fr/2019-2020/OPT8/\n",
    "* move the .ipynb into the directory\n",
    "* from a terminal:\n",
    "    * cd /directory/path\n",
    "    * jupyter notebook\n",
    "\n",
    "Each group must send me their work by e-mail (one mail per group) before next course:\n",
    "* complete the code with comments\n",
    "* quick report on what's going one, experimental results etc.\n",
    "\n",
    "If you don't want to use the notebook, send me the python code + a PDF with plots and answers.\n",
    "\n",
    "\n",
    "# Neural network: first experiments with a linear model\n",
    "\n",
    "In this first lab exercise we will code a neural network using numpy, without a neural network library.\n",
    "Next week, the lab exercise will be to extend this program with hidden layers and activation functions.\n",
    "\n",
    "The task is digit recognition: the neural network has to predict which digit in $\\{0...9\\}$ is written in the input picture. We will use the [MNIST](http://yann.lecun.com/exdb/mnist/) dataset, a standard benchmark in machine learning.\n",
    "\n",
    "The model is a simple linear  classifier $o = \\operatorname{softmax}(Wx + b)$ where:\n",
    "* $x$ is an input image that is represented as a column vector, each value being the \"color\" of a pixel\n",
    "* $W$ and $b$ are the parameters of the classifier\n",
    "* $\\operatorname{softmax}$ transforms the output weight (logits) into probabilities\n",
    "* $o$ is column vector that contains the probability of each category\n",
    "\n",
    "We will train this model via stochastic gradient descent by minimizing the negative log-likelihood of the data:\n",
    "$$\n",
    "    \\hat{W}, \\hat{b} = \\operatorname{argmin}_{W, b} \\sum_{x, y} - \\log p(y | x)\n",
    "$$\n",
    "Although this is a linear model, it classifies raw data without any manual feature extraction step."
   ]
  },
  {
   "cell_type": "code",
   "execution_count": 1,
   "metadata": {},
   "outputs": [],
   "source": [
    "# import libs that we will use\n",
    "import os\n",
    "import sys\n",
    "import numpy as np\n",
    "import matplotlib.pyplot as plt\n",
    "import math\n",
    "from sklearn.utils import shuffle\n",
    "import pickle\n",
    "import pandas as pd\n",
    "\n",
    "# To load the data we will use the script of Gaetan Marceau Caron\n",
    "# You can download it from the course webiste and move it to the same directory that contains this ipynb file\n",
    "import dataset_loader\n",
    "\n",
    "%matplotlib inline"
   ]
  },
  {
   "cell_type": "markdown",
   "metadata": {},
   "source": [
    "# 1. Data"
   ]
  },
  {
   "cell_type": "code",
   "execution_count": 2,
   "metadata": {},
   "outputs": [],
   "source": [
    "# Download mnist dataset \n",
    "if(\"mnist.pkl.gz\" not in os.listdir(\".\")):\n",
    "    !wget http://deeplearning.net/data/mnist/mnist.pkl.gz\n",
    "\n",
    "# if you have it somewhere else, you can comment the lines above\n",
    "# and overwrite the path below\n",
    "mnist_path = \"./mnist.pkl.gz\""
   ]
  },
  {
   "cell_type": "code",
   "execution_count": 3,
   "metadata": {},
   "outputs": [],
   "source": [
    "# load the 3 splits\n",
    "train_data, dev_data, test_data = dataset_loader.load_mnist(mnist_path)\n",
    "\n",
    "X_train = train_data[0]\n",
    "y_train = train_data[1]\n",
    "\n",
    "X_dev = dev_data[0]\n",
    "y_dev = dev_data[1]\n",
    "\n",
    "X_test = test_data[0]\n",
    "y_test = test_data[1]"
   ]
  },
  {
   "cell_type": "markdown",
   "metadata": {},
   "source": [
    "Each dataset is a list with two elemets:\n",
    "* data[0] contains images\n",
    "* data[1] contains labels\n",
    "\n",
    "Data is stored as numpy.ndarray. You can use data[0][i] to retrieve image number i and data[1][i] to retrieve its label."
   ]
  },
  {
   "cell_type": "code",
   "execution_count": 4,
   "metadata": {},
   "outputs": [
    {
     "name": "stdout",
     "output_type": "stream",
     "text": [
      "(50000, 784)\n",
      "(50000,)\n"
     ]
    }
   ],
   "source": [
    "print(train_data[0].shape)\n",
    "print(train_data[1].shape)"
   ]
  },
  {
   "cell_type": "code",
   "execution_count": 5,
   "metadata": {},
   "outputs": [
    {
     "name": "stdout",
     "output_type": "stream",
     "text": [
      "label: 6\n"
     ]
    },
    {
     "data": {
      "text/plain": [
       "<matplotlib.image.AxesImage at 0x1e6ac1df198>"
      ]
     },
     "execution_count": 5,
     "metadata": {},
     "output_type": "execute_result"
    },
    {
     "data": {
      "image/png": "[encoded data removed]",
      "text/plain": [
       "<Figure size 432x288 with 1 Axes>"
      ]
     },
     "metadata": {
      "needs_background": "light"
     },
     "output_type": "display_data"
    }
   ],
   "source": [
    "index = 900\n",
    "label = train_data[1][index]\n",
    "picture = train_data[0][index]\n",
    "\n",
    "print(\"label: %i\" % label)\n",
    "plt.imshow(picture.reshape(28,28), cmap='Greys')"
   ]
  },
  {
   "cell_type": "markdown",
   "metadata": {},
   "source": [
    "**Question:** What are the characteristics of training data? (number of samples, dimension of input, number of labels)\n",
    "\n",
    "The documentation of ndarray class is available here: https://docs.scipy.org/doc/numpy/reference/generated/numpy.ndarray.html"
   ]
  },
  {
   "cell_type": "code",
   "execution_count": 6,
   "metadata": {},
   "outputs": [],
   "source": [
    "def getDimDataset(data):\n",
    "    n_training = data[0].shape[0]\n",
    "    n_feature = data[0].shape[1]\n",
    "    n_label = data[1].shape[0]\n",
    "    return n_training, n_feature, n_label"
   ]
  },
  {
   "cell_type": "code",
   "execution_count": 7,
   "metadata": {},
   "outputs": [
    {
     "data": {
      "text/plain": [
       "(50000, 784, 50000)"
      ]
     },
     "execution_count": 7,
     "metadata": {},
     "output_type": "execute_result"
    }
   ],
   "source": [
    "getDimDataset(train_data)"
   ]
  },
  {
   "cell_type": "markdown",
   "metadata": {},
   "source": [
    "# 1. Building functions\n",
    "\n",
    "We now need to build functions that are required for the neural network.\n",
    "$$\n",
    "    o = \\operatorname{softmax}(Wx + b) \\\\\n",
    "    L(x, y) = -\\log p(y | x) = -\\log o[y]\n",
    "$$\n",
    "\n",
    "Note that in numpy, operator @ is used for matrix multiplication while * is used for element-wise multiplication.\n",
    "The documentation for linear algebra in numpy is available here: https://docs.scipy.org/doc/numpy/reference/routines.linalg.html\n",
    "\n",
    "The first operation is the affine transformation $v = Wx + b$.\n",
    "To compute the gradient, it is often convenient to write the forward pass as $v[i] = b[i] + \\sum_j W[i, j] x[j]$."
   ]
  },
  {
   "cell_type": "code",
   "execution_count": 8,
   "metadata": {},
   "outputs": [],
   "source": [
    "# Input:\n",
    "# - W: projection matrix\n",
    "# - b: bias\n",
    "# - x: input features\n",
    "# Output:\n",
    "# - vector\n",
    "def affine_transform(W, b, x):\n",
    "    v = W @ x + b\n",
    "    return v\n",
    "\n",
    "# Input:\n",
    "# - W: projection matrix\n",
    "# - b: bias\n",
    "# - x: input features\n",
    "# - g: incoming gradient\n",
    "# Output:\n",
    "# - g_W: gradient wrt W\n",
    "# - g_b: gradient wrt b\n",
    "def backward_affine_transform(W, b, x, g):\n",
    "    g_W = g.reshape(-1, 1) @ x.reshape(1, -1)\n",
    "    g_b = g\n",
    "    return g_W, g_b"
   ]
  },
  {
   "cell_type": "markdown",
   "metadata": {},
   "source": [
    "The next cell is a (too simple) test of affine_transform and backward_affine_transform.\n",
    "It should run without error if your implementation is correct."
   ]
  },
  {
   "cell_type": "code",
   "execution_count": 9,
   "metadata": {},
   "outputs": [],
   "source": [
    "W = np.asarray([[ 0.63024213,  0.53679375, -0.92079597],\n",
    " [-0.1155045,   0.62780356, -0.67961305],\n",
    " [ 0.08465286, -0.06561815, -0.39778322],\n",
    " [ 0.8242268,   0.58907262, -0.52208052],\n",
    " [-0.43894227, -0.56993247,  0.09520727]])\n",
    "b = np.asarray([ 0.42706842,  0.69636598, -0.85611933, -0.08682553,  0.83160079])\n",
    "x = np.asarray([-0.32809223, -0.54751413,  0.81949319])\n",
    "\n",
    "o_gold = np.asarray([-0.82819732, -0.16640748, -1.17394705, -1.10761496,  1.36568213])\n",
    "g = np.asarray([-0.08938868,  0.44083873, -0.2260743,  -0.96196726, -0.53428805])\n",
    "g_W_gold = np.asarray([[ 0.02932773,  0.04894156, -0.07325341],\n",
    " [-0.14463576, -0.24136543,  0.36126434],\n",
    " [ 0.07417322,  0.12377887, -0.18526635],\n",
    " [ 0.31561399,  0.52669067, -0.78832562],\n",
    " [ 0.17529576,  0.29253025, -0.43784542]])\n",
    "g_b_gold = np.asarray([-0.08938868,  0.44083873, -0.2260743,  -0.96196726, -0.53428805])\n",
    "\n",
    "\n",
    "# quick test of the forward pass\n",
    "o = affine_transform(W, b, x)\n",
    "if o.shape != o_gold.shape:\n",
    "    raise RuntimeError(\"Unexpected output dimension: got %s, expected %s\" % (str(o.shape), str(o_gold.shape)))\n",
    "if not np.allclose(o, o_gold):\n",
    "    raise RuntimeError(\"Output of the affine_transform function is incorrect\")\n",
    "    \n",
    "# quick test if the backward pass\n",
    "g_W, g_b = backward_affine_transform(W, b, x, g)\n",
    "if g_W.shape != g_W_gold.shape:\n",
    "        raise RuntimeError(\"Unexpected gradient dimension for W: got %s, expected %s\" % (str(g_W.shape), str(g_W_gold.shape)))\n",
    "if g_b.shape != g_b_gold.shape:\n",
    "        raise RuntimeError(\"Unexpected gradient dimension for b: got %s, expected %s\" % (str(g_b.shape), str(g_b_gold.shape)))\n",
    "if not np.allclose(g_W, g_W_gold):\n",
    "    raise RuntimeError(\"Gradient of W is incorrect\")\n",
    "if not np.allclose(g_b, g_b_gold):\n",
    "    raise RuntimeError(\"Gradient of b is incorrect\")"
   ]
  },
  {
   "cell_type": "markdown",
   "metadata": {},
   "source": [
    "The softmax function:\n",
    "$$\n",
    "     o = \\operatorname{softmax}(w)\n",
    "$$\n",
    "where $w$ is a vector of logits in $\\mathbb R$ and $o$ a vector of probabilities such that:\n",
    "$$\n",
    "    o[i] = \\frac{\\exp(w[i])}{\\sum_j \\exp(w[j])}\n",
    "$$\n",
    "We do not need to implement the backward for this experiment."
   ]
  },
  {
   "cell_type": "code",
   "execution_count": 10,
   "metadata": {},
   "outputs": [],
   "source": [
    "# Input:\n",
    "# - x: vector of logits\n",
    "# Output\n",
    "# - vector of probabilities\n",
    "def softmax(x):\n",
    "    return np.exp(x - np.max(x)) / np.sum(np.exp(x-np.max(x)))"
   ]
  },
  {
   "cell_type": "markdown",
   "metadata": {},
   "source": [
    "**WARNING:** is your implementation numerically stable?\n",
    "\n",
    "The $\\exp$ function results in computations that overflows (i.e. results in numbers that cannot be represented with floating point numbers).\n",
    "Therefore, it is always convenient to use the following trick to improve stability: https://timvieira.github.io/blog/post/2014/02/11/exp-normalize-trick/"
   ]
  },
  {
   "cell_type": "code",
   "execution_count": 11,
   "metadata": {},
   "outputs": [
    {
     "name": "stdout",
     "output_type": "stream",
     "text": [
      "[1. 0. 0.]\n"
     ]
    }
   ],
   "source": [
    "# Example for testing the numerical stability of softmax\n",
    "# It should return [1., 0. ,0.], not [nan, 0., 0.]\n",
    "z = [1000000,1,100]\n",
    "print(softmax(z))"
   ]
  },
  {
   "cell_type": "markdown",
   "metadata": {},
   "source": [
    "**Question**: from the result of the cell above, what can you say about the softmax output, even when it is stable?"
   ]
  },
  {
   "cell_type": "code",
   "execution_count": 12,
   "metadata": {},
   "outputs": [],
   "source": [
    "# Just too simple test for the softmax function\n",
    "x = np.asarray([0.92424884, -0.92381088, -0.74666024, -0.87705478, -0.54797015])\n",
    "y_gold = np.asarray([0.57467369, 0.09053556, 0.10808233, 0.09486917, 0.13183925])\n",
    "\n",
    "y = softmax(x)\n",
    "if not np.allclose(y, y_gold):\n",
    "    raise RuntimeError(\"Output of the softmax function is incorrect\")"
   ]
  },
  {
   "cell_type": "markdown",
   "metadata": {},
   "source": [
    "Finally, we build the loss function and its gradient for training the network.\n",
    "\n",
    "The loss function is the negative log-likelihood defined as:\n",
    "$$\n",
    "    \\mathcal L(x, gold) = -\\log \\frac{\\exp(x[gold])}{\\sum_j \\exp(x[j])} = -x[gold] + \\log \\sum_j \\exp(x[j])\n",
    "$$\n",
    "This function is also called the cross-entropy loss (in Pytorch, different names are used dependending if the inputs are probabilities or raw logits).\n",
    "\n",
    "Similarly to the softmax, we have to rely on the log-sum-exp trick to stabilize the computation: https://timvieira.github.io/blog/post/2014/02/11/exp-normalize-trick/"
   ]
  },
  {
   "cell_type": "code",
   "execution_count": 13,
   "metadata": {},
   "outputs": [],
   "source": [
    "# Input:\n",
    "# - x: vector of logits\n",
    "# - gold: index of the gold class\n",
    "# Output:\n",
    "# - scalare equal to -log(softmax(x)[gold])\n",
    "def nll(x, gold):\n",
    "    return -x[gold] + np.max(x) + np.log(np.sum(np.exp(x - np.max(x))))\n",
    "\n",
    "# Input:\n",
    "# - x: vector of logits\n",
    "# - gold: index of the gold class\n",
    "# - gradient (scalar)\n",
    "# Output:\n",
    "# - gradient wrt x\n",
    "def backward_nll(x, gold, g):\n",
    "    result = np.exp(x - np.max(x)) / np.sum(np.exp(x - np.max(x)))\n",
    "    result[gold] = -1 + result[gold]\n",
    "    return result"
   ]
  },
  {
   "cell_type": "code",
   "execution_count": 14,
   "metadata": {},
   "outputs": [],
   "source": [
    "# test\n",
    "x = np.asarray([-0.13590009, -0.83649656,  0.03130881,  0.42559402,  0.08488182])\n",
    "y_gold = 1.5695014420179738\n",
    "g_gold = np.asarray([ 0.17609875,  0.08739591, -0.79185107,  0.30875221,  0.2196042 ])\n",
    "\n",
    "y = nll(x, 2)\n",
    "g = backward_nll(x, 2, 1.)\n",
    "\n",
    "if not np.allclose(y, y_gold):\n",
    "    raise RuntimeError(\"Output is incorrect\")\n",
    "\n",
    "if g.shape != g_gold.shape:\n",
    "        raise RuntimeError(\"Unexpected gradient dimension: got %s, expected %s\" % (str(g.shape), str(g_gold.shape)))\n",
    "if not np.allclose(g, g_gold):\n",
    "    raise RuntimeError(\"Gradient is incorrect\")"
   ]
  },
  {
   "cell_type": "markdown",
   "metadata": {},
   "source": [
    "The following code test the implementation of the gradient using finite-difference approximation, see: https://timvieira.github.io/blog/post/2017/04/21/how-to-test-gradient-implementations/\n",
    "\n",
    "Your implementation should pass this test."
   ]
  },
  {
   "cell_type": "code",
   "execution_count": 15,
   "metadata": {},
   "outputs": [],
   "source": [
    "# this is python re-implementation of the test from the Dynet library\n",
    "# https://github.com/clab/dynet/blob/master/dynet/grad-check.cc\n",
    "\n",
    "def is_almost_equal(grad, computed_grad):\n",
    "    #print(grad, computed_grad)\n",
    "    f = abs(grad - computed_grad)\n",
    "    m = max(abs(grad), abs(computed_grad))\n",
    "\n",
    "    if f > 0.01 and m > 0.:\n",
    "        f /= m\n",
    "\n",
    "    if f > 0.01 or math.isnan(f):\n",
    "        return False\n",
    "    else:\n",
    "        return True\n",
    "\n",
    "def check_gradient(function, weights, true_grad, alpha = 1e-3):\n",
    "    # because input can be of any dimension,\n",
    "    # we build a view of the underlying data with the .shape(-1) method\n",
    "    # then we can access any element of the tensor as a elements of a list\n",
    "    # with a single dimension\n",
    "    weights_view = weights.reshape(-1)\n",
    "    true_grad_view = true_grad.reshape(-1)\n",
    "    for i in range(weights_view.shape[0]):\n",
    "        old = weights_view[i]\n",
    "\n",
    "        weights_view[i] = old - alpha\n",
    "        value_left = function(weights).reshape(-1)\n",
    "\n",
    "        weights_view[i] = old + alpha\n",
    "        value_right = function(weights).reshape(-1)\n",
    "\n",
    "        weights_view[i] = old\n",
    "        grad = (value_right - value_left) / (2. * alpha)\n",
    "        \n",
    "        #print(grad, true_grad)\n",
    "        if not is_almost_equal(grad, true_grad_view[i]):\n",
    "            return False\n",
    "\n",
    "        return True"
   ]
  },
  {
   "cell_type": "code",
   "execution_count": 16,
   "metadata": {},
   "outputs": [
    {
     "name": "stdout",
     "output_type": "stream",
     "text": [
      "True\n",
      "True\n",
      "True\n"
     ]
    }
   ],
   "source": [
    "# Test the affine transformation\n",
    "\n",
    "x = np.random.uniform(-1, 1, (5,))\n",
    "W = np.random.uniform(-1, 1, (3, 5))\n",
    "b = np.random.uniform(-1, 1, (3,))\n",
    "\n",
    "for i in range(3):\n",
    "    y = affine_transform(W, b, x)\n",
    "    g = np.zeros_like(y)\n",
    "    g[i] = 1.\n",
    "    g_W, _ = backward_affine_transform(W, b, x, g)\n",
    "    print(check_gradient(lambda W: affine_transform(W, b, x)[i], W, g_W))"
   ]
  },
  {
   "cell_type": "code",
   "execution_count": 17,
   "metadata": {},
   "outputs": [
    {
     "name": "stdout",
     "output_type": "stream",
     "text": [
      "True\n",
      "True\n",
      "True\n",
      "True\n",
      "True\n"
     ]
    }
   ],
   "source": [
    "# test the negative likelihood loss\n",
    "\n",
    "x = np.random.uniform(-1, 1, (5,))\n",
    "\n",
    "for gold in range(5):\n",
    "    y = nll(x, gold)\n",
    "    g_y = backward_nll(x, gold, 1.)\n",
    "\n",
    "    print(check_gradient(lambda x: nll(x, gold), x, g_y))"
   ]
  },
  {
   "cell_type": "markdown",
   "metadata": {},
   "source": [
    "# 2. Parameter initialization\n",
    "\n",
    "We are now going to build the function that will be used to initialize the parameters of the neural network before training.\n",
    "Note that for parameter initialization you must use **in-place** operations:"
   ]
  },
  {
   "cell_type": "code",
   "execution_count": 18,
   "metadata": {},
   "outputs": [],
   "source": [
    "# create a random ndarray\n",
    "a = np.random.uniform(-1, 1, (5,))\n",
    "\n",
    "# this does not change the data of the ndarray created above!\n",
    "# it creates a new ndarray and replace the reference stored in a\n",
    "a = np.zeros((5, ))\n",
    "\n",
    "# this will change the underlying data of the ndarray that a points to\n",
    "a[:] = 0\n",
    "\n",
    "# similarly, this creates a new array and change the object pointed by a\n",
    "a = a + 1\n",
    "\n",
    "# while this change the underlying data of a\n",
    "a += 1"
   ]
  },
  {
   "cell_type": "markdown",
   "metadata": {},
   "source": [
    "For an affine transformation, it is common to:\n",
    "* initialize the bias to 0\n",
    "* initialize the projection matrix with Glorot initialization (also known as Xavier initialization)\n",
    "\n",
    "The formula for Glorot initialization can be found in equation 16 (page 5) of the original paper: http://proceedings.mlr.press/v9/glorot10a/glorot10a.pdf"
   ]
  },
  {
   "cell_type": "code",
   "execution_count": 19,
   "metadata": {},
   "outputs": [],
   "source": [
    "def zero_init(dim):\n",
    "    return np.zeros(dim)\n",
    "\n",
    "def glorot_init(m, n):\n",
    "    init_value = np.sqrt(6 / (m + n))\n",
    "    return np.random.uniform(-init_value, init_value, (m, n))"
   ]
  },
  {
   "cell_type": "markdown",
   "metadata": {},
   "source": [
    "# 3. Building and training the neural network\n",
    "\n",
    "In our simple example, creating the neural network is simply instantiating the parameters $W$ and $b$.\n",
    "They must be ndarray object with the correct dimensions."
   ]
  },
  {
   "cell_type": "code",
   "execution_count": 20,
   "metadata": {},
   "outputs": [],
   "source": [
    "def create_parameters(dim_input, dim_output):\n",
    "    W = glorot_init(dim_output, dim_input)\n",
    "    b = zero_init(dim_output)\n",
    "    \n",
    "    return W, b"
   ]
  },
  {
   "cell_type": "markdown",
   "metadata": {},
   "source": [
    "The recent success of deep learning is (partly) due to the ability to train very big neural networks.\n",
    "However, researchers became interested in building small neural networks to improve computational efficiency and memory usage.\n",
    "Therefore, we often want to compare neural networks by their number of parameters, i.e. the size of the memory required to store the parameters."
   ]
  },
  {
   "cell_type": "code",
   "execution_count": 21,
   "metadata": {},
   "outputs": [],
   "source": [
    "def print_n_parameters(W, b):\n",
    "    n = W.size + b.size\n",
    "    print(\"Number of parameters: %i\" % (n))"
   ]
  },
  {
   "cell_type": "markdown",
   "metadata": {},
   "source": [
    "We can now create the neural network and print its number of parameters:"
   ]
  },
  {
   "cell_type": "code",
   "execution_count": 22,
   "metadata": {
    "scrolled": true
   },
   "outputs": [
    {
     "name": "stdout",
     "output_type": "stream",
     "text": [
      "Number of parameters: 7850\n"
     ]
    }
   ],
   "source": [
    "dim_input = train_data[0].shape[1]\n",
    "dim_output = 10\n",
    "\n",
    "W, b = create_parameters(dim_input, dim_output)\n",
    "print_n_parameters(W, b)"
   ]
  },
  {
   "cell_type": "markdown",
   "metadata": {},
   "source": [
    "Finally, the training loop!\n",
    "\n",
    "The training loop should be structured as follows:\n",
    "* we do **epochs** over the data, i.e. one epoch is one loop over the dataset\n",
    "* at each epoch, we first loop over the data and update the network parameters with respect to the loss gradient\n",
    "* at the end of each epoch, we evaluate the network on the dev dataset\n",
    "* after all epochs are done, we evaluate our network on the test dataset and compare its performance with the performance on dev\n",
    "\n",
    "During training, it is useful to print the following information:\n",
    "* the mean loss over the epoch: it should be decreasing!\n",
    "* the accuracy on the dev set: it should be increasing!\n",
    "* the accuracy on the train set: it shoud be increasing!\n",
    "\n",
    "If you observe a decreasing loss (+increasing accuracy on test data) but decreasing accuracy on dev data, your network is overfitting!\n",
    "\n",
    "Once you have build **and tested** this a simple training loop, you should introduce the following improvements:\n",
    "* instead of evaluating on dev after each loop on the training data, you can also evaluate on dev n times per epoch\n",
    "* shuffle the data before each epoch\n",
    "* instead of memorizing the parameters of the last epoch only, you should have a copy of the parameters that produced the best value on dev data during training and evaluate on test with those instead of the parameters after the last epoch\n",
    "* learning rate decay: if you do not observe improvement on dev, you can try to reduce the step size\n",
    "\n",
    "After you conducted (successful?) experiments, you should write a report with results."
   ]
  },
  {
   "cell_type": "code",
   "execution_count": 23,
   "metadata": {},
   "outputs": [],
   "source": [
    "def model_validation(X, y, model_params):\n",
    "    W = model_params[0]\n",
    "    b = model_params[1]\n",
    "    \n",
    "    tot_loss = 0.\n",
    "    accurancy = 0\n",
    "    \n",
    "    size = X.shape[0]\n",
    "    \n",
    "    for i in range(size):\n",
    "        x = X[i]\n",
    "        label = y[i]\n",
    "        \n",
    "        # Prediction\n",
    "        net_out = affine_transform(W, b, x)\n",
    "        loss = nll(net_out, label)\n",
    "\n",
    "        prediction = np.argmax(net_out)\n",
    "        \n",
    "        tot_loss += loss\n",
    "        accurancy += 1 if prediction == label else 0\n",
    "    \n",
    "    return accurancy/size, tot_loss/size"
   ]
  },
  {
   "cell_type": "code",
   "execution_count": 24,
   "metadata": {},
   "outputs": [],
   "source": [
    "def stats_backup(filename, *argv):\n",
    "    with open(filename, \"a\") as f:\n",
    "        line = [str(x) for x in argv]\n",
    "        f.write(','.join(line) + \"\\n\")"
   ]
  },
  {
   "cell_type": "code",
   "execution_count": 25,
   "metadata": {},
   "outputs": [],
   "source": [
    "def weights_backup(params_filename, model_params):\n",
    "    with open(params_filename, \"wb\") as f:\n",
    "        pickle.dump(model_params, f)"
   ]
  },
  {
   "cell_type": "code",
   "execution_count": 26,
   "metadata": {},
   "outputs": [],
   "source": [
    "def write_description(filename, description):\n",
    "    with open(filename, \"w\") as f:\n",
    "        f.write(description +\"\\n\")"
   ]
  },
  {
   "cell_type": "markdown",
   "metadata": {},
   "source": [
    "# Model 1:\n",
    "\n",
    "- Static Step Size of 0.01\n",
    "- 50 Epochs\n",
    "- We save the params with best loss on dev set"
   ]
  },
  {
   "cell_type": "code",
   "execution_count": 27,
   "metadata": {},
   "outputs": [],
   "source": [
    "# Init of backup files\n",
    "filename = \"train_1.csv\"\n",
    "params_filename = \"train_1.pkl\"\n",
    "write_description(\"train_1.txt\", \"Static Step Size 0.01\")\n",
    "\n",
    "with open(filename, \"w\") as f:\n",
    "    f.write(\"Avg Train Loss,Avg Dev Loss,Train Accurancy,Dev Accurancy\\n\")"
   ]
  },
  {
   "cell_type": "code",
   "execution_count": 28,
   "metadata": {
    "scrolled": true
   },
   "outputs": [
    {
     "name": "stdout",
     "output_type": "stream",
     "text": [
      "Epoch: 0\n",
      "Train Avg loss: 0.3779323057222202 \tTest Avg Loss: 0.29260471862537674\n",
      "Train Accurancy: 0.89268 \tTest Accurancy: 0.9179\n",
      "Epoch: 1\n",
      "Train Avg loss: 0.30994866407759325 \tTest Avg Loss: 0.29262196812301194\n",
      "Train Accurancy: 0.91138 \tTest Accurancy: 0.9174\n",
      "Epoch: 2\n",
      "Train Avg loss: 0.2980232313758759 \tTest Avg Loss: 0.28876550828891895\n",
      "Train Accurancy: 0.91558 \tTest Accurancy: 0.9182\n",
      "Epoch: 3\n",
      "Train Avg loss: 0.2908184435685998 \tTest Avg Loss: 0.2885082137699423\n",
      "Train Accurancy: 0.91798 \tTest Accurancy: 0.9181\n",
      "Epoch: 4\n",
      "Train Avg loss: 0.28501728933722403 \tTest Avg Loss: 0.2780763314332542\n",
      "Train Accurancy: 0.92058 \tTest Accurancy: 0.9245\n",
      "Epoch: 5\n",
      "Train Avg loss: 0.2816038956042196 \tTest Avg Loss: 0.2726925787997397\n",
      "Train Accurancy: 0.9204 \tTest Accurancy: 0.925\n",
      "Epoch: 6\n",
      "Train Avg loss: 0.2789864349164912 \tTest Avg Loss: 0.2723386940807686\n",
      "Train Accurancy: 0.92062 \tTest Accurancy: 0.9245\n",
      "Epoch: 7\n",
      "Train Avg loss: 0.2768251698178467 \tTest Avg Loss: 0.27206071114583324\n",
      "Train Accurancy: 0.92224 \tTest Accurancy: 0.9229\n",
      "Epoch: 8\n",
      "Train Avg loss: 0.27402260822662833 \tTest Avg Loss: 0.2770025718006493\n",
      "Train Accurancy: 0.92258 \tTest Accurancy: 0.9256\n",
      "Epoch: 9\n",
      "Train Avg loss: 0.27209341637433465 \tTest Avg Loss: 0.28128136554207483\n",
      "Train Accurancy: 0.9226 \tTest Accurancy: 0.921\n",
      "Epoch: 10\n",
      "Train Avg loss: 0.2708086390521894 \tTest Avg Loss: 0.27774509558682325\n",
      "Train Accurancy: 0.924 \tTest Accurancy: 0.9248\n",
      "Epoch: 11\n",
      "Train Avg loss: 0.2701032516657355 \tTest Avg Loss: 0.2825935552026587\n",
      "Train Accurancy: 0.92414 \tTest Accurancy: 0.9223\n",
      "Epoch: 12\n",
      "Train Avg loss: 0.2675472856640358 \tTest Avg Loss: 0.26814943868492086\n",
      "Train Accurancy: 0.92498 \tTest Accurancy: 0.9278\n",
      "Epoch: 13\n",
      "Train Avg loss: 0.26780360264625874 \tTest Avg Loss: 0.2735267494173931\n",
      "Train Accurancy: 0.9246 \tTest Accurancy: 0.926\n",
      "Epoch: 14\n",
      "Train Avg loss: 0.2666788716613006 \tTest Avg Loss: 0.2733492850580251\n",
      "Train Accurancy: 0.92402 \tTest Accurancy: 0.9269\n",
      "Epoch: 15\n",
      "Train Avg loss: 0.26457815514026445 \tTest Avg Loss: 0.27396584335378754\n",
      "Train Accurancy: 0.92554 \tTest Accurancy: 0.9242\n",
      "Epoch: 16\n",
      "Train Avg loss: 0.26368514526469483 \tTest Avg Loss: 0.2765829376906358\n",
      "Train Accurancy: 0.92522 \tTest Accurancy: 0.922\n",
      "Epoch: 17\n",
      "Train Avg loss: 0.2643285246010021 \tTest Avg Loss: 0.28020235342497074\n",
      "Train Accurancy: 0.92572 \tTest Accurancy: 0.9259\n",
      "Epoch: 18\n",
      "Train Avg loss: 0.2626508182874168 \tTest Avg Loss: 0.273287819982147\n",
      "Train Accurancy: 0.92502 \tTest Accurancy: 0.9266\n",
      "Epoch: 19\n",
      "Train Avg loss: 0.261692101267244 \tTest Avg Loss: 0.2828360657481494\n",
      "Train Accurancy: 0.92668 \tTest Accurancy: 0.923\n",
      "Epoch: 20\n",
      "Train Avg loss: 0.2606795959509811 \tTest Avg Loss: 0.2860620470558893\n",
      "Train Accurancy: 0.92632 \tTest Accurancy: 0.9208\n",
      "Epoch: 21\n",
      "Train Avg loss: 0.25973219940572845 \tTest Avg Loss: 0.27579445926864604\n",
      "Train Accurancy: 0.92728 \tTest Accurancy: 0.9265\n",
      "Epoch: 22\n",
      "Train Avg loss: 0.26003591743648796 \tTest Avg Loss: 0.2862613508634919\n",
      "Train Accurancy: 0.9264 \tTest Accurancy: 0.922\n",
      "Epoch: 23\n",
      "Train Avg loss: 0.25897833698350853 \tTest Avg Loss: 0.2828970983849292\n",
      "Train Accurancy: 0.9268 \tTest Accurancy: 0.9204\n",
      "Epoch: 24\n",
      "Train Avg loss: 0.25923847888053214 \tTest Avg Loss: 0.28340095671019777\n",
      "Train Accurancy: 0.9259 \tTest Accurancy: 0.9239\n",
      "Epoch: 25\n",
      "Train Avg loss: 0.2588700796729676 \tTest Avg Loss: 0.29143921342580176\n",
      "Train Accurancy: 0.92722 \tTest Accurancy: 0.9207\n",
      "Epoch: 26\n",
      "Train Avg loss: 0.2579043661933412 \tTest Avg Loss: 0.2797751460039013\n",
      "Train Accurancy: 0.92804 \tTest Accurancy: 0.926\n",
      "Epoch: 27\n",
      "Train Avg loss: 0.2572491668732061 \tTest Avg Loss: 0.29017282900935926\n",
      "Train Accurancy: 0.92898 \tTest Accurancy: 0.9202\n",
      "Epoch: 28\n",
      "Train Avg loss: 0.25620778735655075 \tTest Avg Loss: 0.28389006809084844\n",
      "Train Accurancy: 0.92776 \tTest Accurancy: 0.9229\n",
      "Epoch: 29\n",
      "Train Avg loss: 0.2563990128150974 \tTest Avg Loss: 0.28122983507536925\n",
      "Train Accurancy: 0.92764 \tTest Accurancy: 0.9247\n",
      "Epoch: 30\n",
      "Train Avg loss: 0.25542918871914616 \tTest Avg Loss: 0.27876921524919246\n",
      "Train Accurancy: 0.9281 \tTest Accurancy: 0.9238\n",
      "Epoch: 31\n",
      "Train Avg loss: 0.25520032491170774 \tTest Avg Loss: 0.2882433892516385\n",
      "Train Accurancy: 0.92776 \tTest Accurancy: 0.9214\n",
      "Epoch: 32\n",
      "Train Avg loss: 0.25521264777168434 \tTest Avg Loss: 0.27850227087585516\n",
      "Train Accurancy: 0.9276 \tTest Accurancy: 0.9255\n",
      "Epoch: 33\n",
      "Train Avg loss: 0.255256735471155 \tTest Avg Loss: 0.278906041523689\n",
      "Train Accurancy: 0.92784 \tTest Accurancy: 0.9268\n",
      "Epoch: 34\n",
      "Train Avg loss: 0.25492659977289406 \tTest Avg Loss: 0.28304934245292646\n",
      "Train Accurancy: 0.92818 \tTest Accurancy: 0.9239\n",
      "Epoch: 35\n",
      "Train Avg loss: 0.2549692309546967 \tTest Avg Loss: 0.28163041370605857\n",
      "Train Accurancy: 0.92918 \tTest Accurancy: 0.9242\n",
      "Epoch: 36\n",
      "Train Avg loss: 0.2537738407831528 \tTest Avg Loss: 0.2768250902316849\n",
      "Train Accurancy: 0.92844 \tTest Accurancy: 0.9252\n",
      "Epoch: 37\n",
      "Train Avg loss: 0.2524988954868786 \tTest Avg Loss: 0.28201307100584766\n",
      "Train Accurancy: 0.92816 \tTest Accurancy: 0.9255\n",
      "Epoch: 38\n",
      "Train Avg loss: 0.25372108022397616 \tTest Avg Loss: 0.2798351064202357\n",
      "Train Accurancy: 0.92864 \tTest Accurancy: 0.9266\n",
      "Epoch: 39\n",
      "Train Avg loss: 0.2520798123482691 \tTest Avg Loss: 0.27904281699157607\n",
      "Train Accurancy: 0.92916 \tTest Accurancy: 0.9234\n",
      "Epoch: 40\n",
      "Train Avg loss: 0.252799688149377 \tTest Avg Loss: 0.282393669647004\n",
      "Train Accurancy: 0.9289 \tTest Accurancy: 0.9253\n",
      "Epoch: 41\n",
      "Train Avg loss: 0.25228768168746546 \tTest Avg Loss: 0.2834380926416191\n",
      "Train Accurancy: 0.92872 \tTest Accurancy: 0.9247\n",
      "Epoch: 42\n",
      "Train Avg loss: 0.2516097454381975 \tTest Avg Loss: 0.2877110141464644\n",
      "Train Accurancy: 0.92944 \tTest Accurancy: 0.9228\n",
      "Epoch: 43\n",
      "Train Avg loss: 0.25194347960502134 \tTest Avg Loss: 0.28308294714480337\n",
      "Train Accurancy: 0.92868 \tTest Accurancy: 0.9248\n",
      "Epoch: 44\n",
      "Train Avg loss: 0.2514576783836417 \tTest Avg Loss: 0.28707171059308373\n",
      "Train Accurancy: 0.9297 \tTest Accurancy: 0.9219\n",
      "Epoch: 45\n",
      "Train Avg loss: 0.24999723378811078 \tTest Avg Loss: 0.2908062795776351\n",
      "Train Accurancy: 0.92922 \tTest Accurancy: 0.9246\n",
      "Epoch: 46\n",
      "Train Avg loss: 0.2506245792811701 \tTest Avg Loss: 0.2840199458458164\n",
      "Train Accurancy: 0.9296 \tTest Accurancy: 0.9254\n",
      "Epoch: 47\n",
      "Train Avg loss: 0.2511518394291682 \tTest Avg Loss: 0.29331874707678707\n",
      "Train Accurancy: 0.92858 \tTest Accurancy: 0.9203\n",
      "Epoch: 48\n",
      "Train Avg loss: 0.2503353699278327 \tTest Avg Loss: 0.28070142235248907\n",
      "Train Accurancy: 0.93008 \tTest Accurancy: 0.9233\n",
      "Epoch: 49\n",
      "Train Avg loss: 0.24987896714122923 \tTest Avg Loss: 0.2763667994783979\n",
      "Train Accurancy: 0.92866 \tTest Accurancy: 0.9266\n"
     ]
    }
   ],
   "source": [
    "n_epochs = 50 # number of epochs\n",
    "step = 0.01 # step size for gradient updates\n",
    "\n",
    "train_size = X_train.shape[0]\n",
    "\n",
    "W, b = create_parameters(dim_input, dim_output)\n",
    "model_params = [W, b]\n",
    "\n",
    "for epoch in range(n_epochs):\n",
    "    best_loss = sys.float_info.max\n",
    "        \n",
    "    X_train, y_train = shuffle(X_train, y_train)\n",
    "    \n",
    "    tot_loss = 0.\n",
    "    train_accurancy = 0\n",
    "    \n",
    "    for i in range(train_size):\n",
    "        x = X_train[i]\n",
    "        label = y_train[i]\n",
    "        \n",
    "        # Prediction\n",
    "        net_out = affine_transform(W, b, x)\n",
    "        loss = nll(net_out, label)\n",
    "        \n",
    "        prediction = np.argmax(net_out)\n",
    "        \n",
    "        # Backpropagation\n",
    "        gradient_loss = backward_nll(net_out, label, 1.)\n",
    "        gradient_w, gradient_b = backward_affine_transform(W, b, x, gradient_loss)\n",
    "\n",
    "        W -= step*gradient_w\n",
    "        b -= step*gradient_b\n",
    "        \n",
    "        # Training statistics\n",
    "        tot_loss += loss\n",
    "        train_accurancy += 1 if prediction == label else 0\n",
    "    \n",
    "    dev_accurancy, dev_avg_loss = model_validation(X_dev, y_dev, model_params)\n",
    "    \n",
    "    if dev_avg_loss < best_loss: \n",
    "        best_loss = dev_avg_loss\n",
    "        best_params = model_params\n",
    "    \n",
    "    print(\"Epoch:\", epoch)\n",
    "    print (\"Train Avg loss:\", tot_loss/train_size, \"\\tTest Avg Loss:\", dev_avg_loss)\n",
    "    print (\"Train Accurancy:\", train_accurancy/train_size, \"\\tTest Accurancy:\", dev_accurancy)\n",
    "    stats_backup(filename, tot_loss/train_size, dev_avg_loss, train_accurancy/train_size, dev_accurancy)\n",
    "    weights_backup(params_filename, best_params)"
   ]
  },
  {
   "cell_type": "code",
   "execution_count": 36,
   "metadata": {},
   "outputs": [
    {
     "data": {
      "image/png": "[encoded data removed]",
      "text/plain": [
       "<Figure size 1368x648 with 2 Axes>"
      ]
     },
     "metadata": {
      "needs_background": "light"
     },
     "output_type": "display_data"
    }
   ],
   "source": [
    "# Plot the training suite\n",
    "with open (\"train_1.txt\", \"r\") as f:\n",
    "    description = f.read()\n",
    "\n",
    "df = pd.read_csv(\"train_1.csv\")\n",
    "df['Epoch'] = df.index\n",
    "\n",
    "figure, axs = plt.subplots(1, 2, figsize=(19,9))\n",
    "figure.suptitle(description, fontsize=20)\n",
    "\n",
    "df.plot(kind=\"line\", x=\"Epoch\", y=\"Avg Train Loss\", color=\"blue\", ax=axs[0])\n",
    "df.plot(kind=\"line\", x=\"Epoch\", y=\"Avg Dev Loss\", color=\"red\", ax=axs[0])\n",
    "\n",
    "df.plot(kind=\"line\", x=\"Epoch\", y=\"Train Accurancy\", color=\"blue\", ax=axs[1])\n",
    "df.plot(kind=\"line\", x=\"Epoch\", y=\"Dev Accurancy\", color=\"red\", ax=axs[1])\n",
    "\n",
    "plt.savefig('train_1.png')"
   ]
  },
  {
   "cell_type": "markdown",
   "metadata": {},
   "source": [
    "# Model 2:\n",
    "\n",
    "- Decaying Step Size\n",
    "- 65 Epochs\n",
    "- We save the params with best loss on dev set"
   ]
  },
  {
   "cell_type": "code",
   "execution_count": 30,
   "metadata": {},
   "outputs": [],
   "source": [
    "# Init of backup files\n",
    "filename = \"train_2.csv\"\n",
    "params_filename = \"train_2.pkl\"\n",
    "write_description(\"train_2.txt\", \"Dynamic Step Size between [0.01,0.00001]\")\n",
    "\n",
    "with open(filename, \"w\") as f:\n",
    "    f.write(\"Avg Train Loss,Avg Dev Loss,Train Accurancy,Dev Accurancy\\n\")"
   ]
  },
  {
   "cell_type": "code",
   "execution_count": 31,
   "metadata": {
    "scrolled": true
   },
   "outputs": [
    {
     "name": "stdout",
     "output_type": "stream",
     "text": [
      "Epoch: 0\n",
      "Train Avg loss: 0.37765982929251385 \tTest Avg Loss: 0.29451113189675004\n",
      "Train Accurancy: 0.89328 \tTest Accurancy: 0.9161\n",
      "Epoch: 1\n",
      "Train Avg loss: 0.3104566696583935 \tTest Avg Loss: 0.29194822366511336\n",
      "Train Accurancy: 0.91152 \tTest Accurancy: 0.9193\n",
      "Epoch: 2\n",
      "Train Avg loss: 0.2973963534440718 \tTest Avg Loss: 0.2721411835154546\n",
      "Train Accurancy: 0.91596 \tTest Accurancy: 0.9241\n",
      "Epoch: 3\n",
      "Train Avg loss: 0.28999592863191537 \tTest Avg Loss: 0.2788309857293971\n",
      "Train Accurancy: 0.91718 \tTest Accurancy: 0.9219\n",
      "Epoch: 4\n",
      "Train Avg loss: 0.2858130473286857 \tTest Avg Loss: 0.2779050842575781\n",
      "Train Accurancy: 0.91936 \tTest Accurancy: 0.9229\n",
      "Epoch: 5\n",
      "Train Avg loss: 0.2681662597538154 \tTest Avg Loss: 0.2630841368521761\n",
      "Train Accurancy: 0.92478 \tTest Accurancy: 0.9275\n",
      "Epoch: 6\n",
      "Train Avg loss: 0.26580250434919317 \tTest Avg Loss: 0.2663560776019418\n",
      "Train Accurancy: 0.92598 \tTest Accurancy: 0.9252\n",
      "Epoch: 7\n",
      "Train Avg loss: 0.26439699467251887 \tTest Avg Loss: 0.26749718735297073\n",
      "Train Accurancy: 0.92664 \tTest Accurancy: 0.9273\n",
      "Epoch: 8\n",
      "Train Avg loss: 0.26303018849135695 \tTest Avg Loss: 0.26715785402184167\n",
      "Train Accurancy: 0.92598 \tTest Accurancy: 0.9252\n",
      "Epoch: 9\n",
      "Train Avg loss: 0.26159708313801855 \tTest Avg Loss: 0.2638981080756849\n",
      "Train Accurancy: 0.92614 \tTest Accurancy: 0.9275\n",
      "Epoch: 10\n",
      "Train Avg loss: 0.2609277910006179 \tTest Avg Loss: 0.26079287229538567\n",
      "Train Accurancy: 0.92656 \tTest Accurancy: 0.9301\n",
      "Epoch: 11\n",
      "Train Avg loss: 0.2590876639329439 \tTest Avg Loss: 0.26221089740458997\n",
      "Train Accurancy: 0.927 \tTest Accurancy: 0.9284\n",
      "Epoch: 12\n",
      "Train Avg loss: 0.25840007756778816 \tTest Avg Loss: 0.26730694395318655\n",
      "Train Accurancy: 0.92704 \tTest Accurancy: 0.9255\n",
      "Epoch: 13\n",
      "Train Avg loss: 0.2579265204661152 \tTest Avg Loss: 0.2665241603738305\n",
      "Train Accurancy: 0.9279 \tTest Accurancy: 0.9286\n",
      "Epoch: 14\n",
      "Train Avg loss: 0.25654022293646017 \tTest Avg Loss: 0.26245594862699284\n",
      "Train Accurancy: 0.9284 \tTest Accurancy: 0.9283\n",
      "Epoch: 15\n",
      "Train Avg loss: 0.2452442339335501 \tTest Avg Loss: 0.25953981136627446\n",
      "Train Accurancy: 0.93196 \tTest Accurancy: 0.9297\n",
      "Epoch: 16\n",
      "Train Avg loss: 0.24391249649424396 \tTest Avg Loss: 0.25902742666582895\n",
      "Train Accurancy: 0.9323 \tTest Accurancy: 0.9296\n",
      "Epoch: 17\n",
      "Train Avg loss: 0.2434336196471674 \tTest Avg Loss: 0.258801743666591\n",
      "Train Accurancy: 0.93264 \tTest Accurancy: 0.9298\n",
      "Epoch: 18\n",
      "Train Avg loss: 0.2431181801489635 \tTest Avg Loss: 0.2586058221342288\n",
      "Train Accurancy: 0.93304 \tTest Accurancy: 0.93\n",
      "Epoch: 19\n",
      "Train Avg loss: 0.24291047423877477 \tTest Avg Loss: 0.25845158151229414\n",
      "Train Accurancy: 0.9329 \tTest Accurancy: 0.9299\n",
      "Epoch: 20\n",
      "Train Avg loss: 0.2427228391225061 \tTest Avg Loss: 0.2584296104235311\n",
      "Train Accurancy: 0.93322 \tTest Accurancy: 0.9302\n",
      "Epoch: 21\n",
      "Train Avg loss: 0.24262327576892787 \tTest Avg Loss: 0.25824632113229157\n",
      "Train Accurancy: 0.93294 \tTest Accurancy: 0.9304\n",
      "Epoch: 22\n",
      "Train Avg loss: 0.24250829680825794 \tTest Avg Loss: 0.25808451232885743\n",
      "Train Accurancy: 0.93296 \tTest Accurancy: 0.9304\n",
      "Epoch: 23\n",
      "Train Avg loss: 0.24240209214988717 \tTest Avg Loss: 0.25813974894049047\n",
      "Train Accurancy: 0.93286 \tTest Accurancy: 0.9306\n",
      "Epoch: 24\n",
      "Train Avg loss: 0.24231934473425729 \tTest Avg Loss: 0.25814146537214605\n",
      "Train Accurancy: 0.93288 \tTest Accurancy: 0.9298\n",
      "Epoch: 25\n",
      "Train Avg loss: 0.24352184944502137 \tTest Avg Loss: 0.25860458553039833\n",
      "Train Accurancy: 0.9327 \tTest Accurancy: 0.9298\n",
      "Epoch: 26\n",
      "Train Avg loss: 0.2433253668670444 \tTest Avg Loss: 0.2584376046281234\n",
      "Train Accurancy: 0.93242 \tTest Accurancy: 0.9308\n",
      "Epoch: 27\n",
      "Train Avg loss: 0.24324423675473592 \tTest Avg Loss: 0.2577421971822294\n",
      "Train Accurancy: 0.93262 \tTest Accurancy: 0.9307\n",
      "Epoch: 28\n",
      "Train Avg loss: 0.24302662850985907 \tTest Avg Loss: 0.2579627339510359\n",
      "Train Accurancy: 0.93274 \tTest Accurancy: 0.9306\n",
      "Epoch: 29\n",
      "Train Avg loss: 0.2429268405068852 \tTest Avg Loss: 0.2577417535838863\n",
      "Train Accurancy: 0.93256 \tTest Accurancy: 0.9304\n",
      "Epoch: 30\n",
      "Train Avg loss: 0.2428658246457419 \tTest Avg Loss: 0.25848608692265024\n",
      "Train Accurancy: 0.93272 \tTest Accurancy: 0.9296\n",
      "Epoch: 31\n",
      "Train Avg loss: 0.2428101363825634 \tTest Avg Loss: 0.25831730586135676\n",
      "Train Accurancy: 0.93282 \tTest Accurancy: 0.9301\n",
      "Epoch: 32\n",
      "Train Avg loss: 0.24272966859194026 \tTest Avg Loss: 0.2576232258130869\n",
      "Train Accurancy: 0.93286 \tTest Accurancy: 0.9301\n",
      "Epoch: 33\n",
      "Train Avg loss: 0.24257379761234882 \tTest Avg Loss: 0.2584084335065035\n",
      "Train Accurancy: 0.93254 \tTest Accurancy: 0.9307\n",
      "Epoch: 34\n",
      "Train Avg loss: 0.24248539539462388 \tTest Avg Loss: 0.258605677135342\n",
      "Train Accurancy: 0.93264 \tTest Accurancy: 0.9301\n",
      "Epoch: 35\n",
      "Train Avg loss: 0.241348112515503 \tTest Avg Loss: 0.2577606677291811\n",
      "Train Accurancy: 0.9332 \tTest Accurancy: 0.9306\n",
      "Epoch: 36\n",
      "Train Avg loss: 0.24120365352104484 \tTest Avg Loss: 0.25768597507785673\n",
      "Train Accurancy: 0.93318 \tTest Accurancy: 0.9306\n",
      "Epoch: 37\n",
      "Train Avg loss: 0.24116822884871944 \tTest Avg Loss: 0.2576608045523278\n",
      "Train Accurancy: 0.93306 \tTest Accurancy: 0.9304\n",
      "Epoch: 38\n",
      "Train Avg loss: 0.2411724042087353 \tTest Avg Loss: 0.257704615699471\n",
      "Train Accurancy: 0.93352 \tTest Accurancy: 0.9303\n",
      "Epoch: 39\n",
      "Train Avg loss: 0.24112938484544663 \tTest Avg Loss: 0.2577363342752424\n",
      "Train Accurancy: 0.93322 \tTest Accurancy: 0.9306\n",
      "Epoch: 40\n",
      "Train Avg loss: 0.241108156280857 \tTest Avg Loss: 0.2576618575177575\n",
      "Train Accurancy: 0.93338 \tTest Accurancy: 0.9303\n",
      "Epoch: 41\n",
      "Train Avg loss: 0.24112149606347966 \tTest Avg Loss: 0.25772004398978127\n",
      "Train Accurancy: 0.93328 \tTest Accurancy: 0.9306\n",
      "Epoch: 42\n",
      "Train Avg loss: 0.24109959706328082 \tTest Avg Loss: 0.25765956556292424\n",
      "Train Accurancy: 0.93328 \tTest Accurancy: 0.9307\n",
      "Epoch: 43\n",
      "Train Avg loss: 0.24108565757364547 \tTest Avg Loss: 0.257669137944043\n",
      "Train Accurancy: 0.93336 \tTest Accurancy: 0.9305\n",
      "Epoch: 44\n",
      "Train Avg loss: 0.24105568983161746 \tTest Avg Loss: 0.25764254438893497\n",
      "Train Accurancy: 0.93324 \tTest Accurancy: 0.9304\n",
      "Epoch: 45\n",
      "Train Avg loss: 0.24088926461546922 \tTest Avg Loss: 0.25765207035659\n",
      "Train Accurancy: 0.93328 \tTest Accurancy: 0.9305\n",
      "Epoch: 46\n",
      "Train Avg loss: 0.24087305439192463 \tTest Avg Loss: 0.25763249226591123\n",
      "Train Accurancy: 0.93322 \tTest Accurancy: 0.9305\n",
      "Epoch: 47\n",
      "Train Avg loss: 0.2408612546533731 \tTest Avg Loss: 0.2576501924420956\n",
      "Train Accurancy: 0.93334 \tTest Accurancy: 0.9305\n",
      "Epoch: 48\n",
      "Train Avg loss: 0.24085556424851912 \tTest Avg Loss: 0.2576287246033516\n",
      "Train Accurancy: 0.93326 \tTest Accurancy: 0.9303\n",
      "Epoch: 49\n",
      "Train Avg loss: 0.24084200048174442 \tTest Avg Loss: 0.257653897189183\n",
      "Train Accurancy: 0.9335 \tTest Accurancy: 0.9304\n",
      "Epoch: 50\n",
      "Train Avg loss: 0.2408437518935588 \tTest Avg Loss: 0.2576386087151019\n",
      "Train Accurancy: 0.93332 \tTest Accurancy: 0.9305\n",
      "Epoch: 51\n",
      "Train Avg loss: 0.24084084360038255 \tTest Avg Loss: 0.2576048130318992\n",
      "Train Accurancy: 0.93336 \tTest Accurancy: 0.9308\n",
      "Epoch: 52\n",
      "Train Avg loss: 0.24082863166113125 \tTest Avg Loss: 0.2576235481176566\n",
      "Train Accurancy: 0.93336 \tTest Accurancy: 0.9306\n",
      "Epoch: 53\n",
      "Train Avg loss: 0.2408161003970272 \tTest Avg Loss: 0.25761963999044213\n",
      "Train Accurancy: 0.93332 \tTest Accurancy: 0.9308\n",
      "Epoch: 54\n",
      "Train Avg loss: 0.2408143715489547 \tTest Avg Loss: 0.2576204629252524\n",
      "Train Accurancy: 0.93312 \tTest Accurancy: 0.9308\n",
      "Epoch: 55\n",
      "Train Avg loss: 0.24066602680225493 \tTest Avg Loss: 0.2576254020384073\n",
      "Train Accurancy: 0.93352 \tTest Accurancy: 0.9305\n",
      "Epoch: 56\n",
      "Train Avg loss: 0.24065634293013696 \tTest Avg Loss: 0.2576326504000365\n",
      "Train Accurancy: 0.93342 \tTest Accurancy: 0.9305\n",
      "Epoch: 57\n",
      "Train Avg loss: 0.24065112513956755 \tTest Avg Loss: 0.2576386980861792\n",
      "Train Accurancy: 0.93342 \tTest Accurancy: 0.9305\n",
      "Epoch: 58\n",
      "Train Avg loss: 0.2406479561189866 \tTest Avg Loss: 0.2576441116120831\n",
      "Train Accurancy: 0.93338 \tTest Accurancy: 0.9305\n",
      "Epoch: 59\n",
      "Train Avg loss: 0.24064530399862422 \tTest Avg Loss: 0.25764766766687286\n",
      "Train Accurancy: 0.9334 \tTest Accurancy: 0.9305\n",
      "Epoch: 60\n",
      "Train Avg loss: 0.24064417822459122 \tTest Avg Loss: 0.2576513921352407\n",
      "Train Accurancy: 0.93344 \tTest Accurancy: 0.9305\n",
      "Epoch: 61\n",
      "Train Avg loss: 0.24064282902425407 \tTest Avg Loss: 0.25765341113434986\n",
      "Train Accurancy: 0.93336 \tTest Accurancy: 0.9304\n",
      "Epoch: 62\n",
      "Train Avg loss: 0.24064157535046032 \tTest Avg Loss: 0.25765645545612736\n",
      "Train Accurancy: 0.93334 \tTest Accurancy: 0.9304\n",
      "Epoch: 63\n",
      "Train Avg loss: 0.24063933497721385 \tTest Avg Loss: 0.25765748108609077\n",
      "Train Accurancy: 0.9334 \tTest Accurancy: 0.9304\n"
     ]
    },
    {
     "name": "stdout",
     "output_type": "stream",
     "text": [
      "Epoch: 64\n",
      "Train Avg loss: 0.2406388161398455 \tTest Avg Loss: 0.25766159493776497\n",
      "Train Accurancy: 0.93334 \tTest Accurancy: 0.9304\n"
     ]
    }
   ],
   "source": [
    "n_epochs = 65 # number of epochs\n",
    "\n",
    "train_size = X_train.shape[0]\n",
    "\n",
    "W, b = create_parameters(dim_input, dim_output)\n",
    "model_params = [W, b]\n",
    "\n",
    "for epoch in range(n_epochs):\n",
    "    best_loss = sys.float_info.max\n",
    "    \n",
    "    if epoch <= 4: step = 0.01\n",
    "    elif (epoch >= 5) and (epoch <= 14): step = 0.005\n",
    "    elif (epoch >= 15) and (epoch <= 24): step = 0.0001\n",
    "    elif (epoch >= 25) and (epoch <= 34): step = 0.0005\n",
    "    elif (epoch >= 35) and (epoch <= 44): step = 0.0001\n",
    "    elif (epoch >= 45) and (epoch <= 54): step = 0.00005\n",
    "    elif (epoch >= 55) and (epoch <= 64): step = 0.00001\n",
    "        \n",
    "    X_train, y_train = shuffle(X_train, y_train)\n",
    "    \n",
    "    tot_loss = 0.\n",
    "    train_accurancy = 0\n",
    "    \n",
    "    for i in range(train_size):\n",
    "        x = X_train[i]\n",
    "        label = y_train[i]\n",
    "        \n",
    "        # Prediction\n",
    "        net_out = affine_transform(W, b, x)\n",
    "        loss = nll(net_out, label)\n",
    "        \n",
    "        prediction = np.argmax(net_out)\n",
    "        \n",
    "        # Backpropagation\n",
    "        gradient_loss = backward_nll(net_out, label, 1.)\n",
    "        gradient_w, gradient_b = backward_affine_transform(W, b, x, gradient_loss)\n",
    "\n",
    "        W -= step*gradient_w\n",
    "        b -= step*gradient_b\n",
    "        \n",
    "        # Training statistics\n",
    "        tot_loss += loss\n",
    "        train_accurancy += 1 if prediction == label else 0\n",
    "    \n",
    "    dev_accurancy, dev_avg_loss = model_validation(X_dev, y_dev, model_params)\n",
    "    \n",
    "    if dev_avg_loss < best_loss: \n",
    "        best_loss = dev_avg_loss\n",
    "        best_params = [W, b]\n",
    "    \n",
    "    print(\"Epoch:\", epoch)\n",
    "    print (\"Train Avg loss:\", tot_loss/train_size, \"\\tTest Avg Loss:\", dev_avg_loss)\n",
    "    print (\"Train Accurancy:\", train_accurancy/train_size, \"\\tTest Accurancy:\", dev_accurancy)\n",
    "    stats_backup(filename, tot_loss/train_size, dev_avg_loss, train_accurancy/train_size, dev_accurancy)\n",
    "    weights_backup(params_filename, best_params)"
   ]
  },
  {
   "cell_type": "code",
   "execution_count": 34,
   "metadata": {},
   "outputs": [
    {
     "data": {
      "image/png": "[encoded data removed]",
      "text/plain": [
       "<Figure size 1368x648 with 2 Axes>"
      ]
     },
     "metadata": {
      "needs_background": "light"
     },
     "output_type": "display_data"
    }
   ],
   "source": [
    "# Plot the training suite\n",
    "with open (\"train_2.txt\", \"r\") as f:\n",
    "    description = f.read()\n",
    "\n",
    "df = pd.read_csv(\"train_2.csv\")\n",
    "df['Epoch'] = df.index\n",
    "\n",
    "figure, axs = plt.subplots(1, 2, figsize=(19,9))\n",
    "figure.suptitle(description, fontsize=20)\n",
    "\n",
    "df.plot(kind=\"line\", x=\"Epoch\", y=\"Avg Train Loss\", color=\"blue\", ax=axs[0])\n",
    "df.plot(kind=\"line\", x=\"Epoch\", y=\"Avg Dev Loss\", color=\"red\", ax=axs[0])\n",
    "\n",
    "df.plot(kind=\"line\", x=\"Epoch\", y=\"Train Accurancy\", color=\"blue\", ax=axs[1])\n",
    "df.plot(kind=\"line\", x=\"Epoch\", y=\"Dev Accurancy\", color=\"red\", ax=axs[1])\n",
    "\n",
    "plt.savefig('train_2.png')"
   ]
  },
  {
   "cell_type": "code",
   "execution_count": 35,
   "metadata": {},
   "outputs": [
    {
     "name": "stdout",
     "output_type": "stream",
     "text": [
      "Model\tAccurancy\tAvg Loss\n",
      "1\t0.923\t\t0.289\n",
      "2\t0.926\t\t0.267\n"
     ]
    }
   ],
   "source": [
    "print(\"Model\\tAccurancy\\tAvg Loss\")\n",
    "\n",
    "with open(\"train_1.pkl\", \"rb\") as f:\n",
    "    model_params = pickle.load(f)\n",
    "\n",
    "test_acc, test_loss = model_validation(X_test, y_test, model_params)\n",
    "print (\"1\", \"%.3f\"%test_acc, \"\\t%.3f\"%test_loss, sep=\"\\t\")\n",
    "\n",
    "with open(\"train_2.pkl\", \"rb\") as f:\n",
    "    model_params = pickle.load(f)\n",
    "\n",
    "test_acc, test_loss = model_validation(X_test, y_test, model_params)\n",
    "print (\"2\", \"%.3f\"%test_acc, \"\\t%.3f\"%test_loss, sep=\"\\t\")"
   ]
  }
 ],
 "metadata": {
  "anaconda-cloud": {},
  "kernelspec": {
   "display_name": "Python 3",
   "language": "python",
   "name": "python3"
  },
  "language_info": {
   "codemirror_mode": {
    "name": "ipython",
    "version": 3
   },
   "file_extension": ".py",
   "mimetype": "text/x-python",
   "name": "python",
   "nbconvert_exporter": "python",
   "pygments_lexer": "ipython3",
   "version": "3.6.9"
  }
 },
 "nbformat": 4,
 "nbformat_minor": 1
}
