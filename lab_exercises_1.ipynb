{
 "cells": [
  {
   "cell_type": "markdown",
   "metadata": {},
   "source": [
    "# Practical classes\n",
    "\n",
    "All exercices will be in Python. It is important that you keep track of exercices and structure you code correctly (e.g. create funcions that you can re-use later)\n",
    "\n",
    "We will use Jupyter notebooks (formerly known as IPython). You can read the following courses for help:\n",
    "* Python and numpy: http://cs231n.github.io/python-numpy-tutorial/\n",
    "* Jupyter / IPython : http://cs231n.github.io/ipython-tutorial/\n",
    "\n",
    "To run this notebook:\n",
    "* create a directory somewhere on your filesystem\n",
    "* download the .ipynb from the course website: http://teaching.caio-corro.fr/2019-2020/OPT8/\n",
    "* move the .ipynb into the directory\n",
    "* from a terminal:\n",
    "    * cd /directory/path\n",
    "    * jupyter notebook\n",
    "\n",
    "Each group must send me their work by e-mail (one mail per group) before next course:\n",
    "* complete the code with comments\n",
    "* quick report on what's going one, experimental results etc.\n",
    "\n",
    "If you don't want to use the notebook, send me the python code + a PDF with plots and answers.\n",
    "\n",
    "\n",
    "# Neural network: first experiments with a linear model\n",
    "\n",
    "In this first lab exercise we will code a neural network using numpy, without a neural network library.\n",
    "Next week, the lab exercise will be to extend this program with hidden layers and activation functions.\n",
    "\n",
    "The task is digit recognition: the neural network has to predict which digit in $\\{0...9\\}$ is written in the input picture. We will use the [MNIST](http://yann.lecun.com/exdb/mnist/) dataset, a standard benchmark in machine learning.\n",
    "\n",
    "The model is a simple linear  classifier $o = \\operatorname{softmax}(Wx + b)$ where:\n",
    "* $x$ is an input image that is represented as a column vector, each value being the \"color\" of a pixel\n",
    "* $W$ and $b$ are the parameters of the classifier\n",
    "* $\\operatorname{softmax}$ transforms the output weight (logits) into probabilities\n",
    "* $o$ is column vector that contains the probability of each category\n",
    "\n",
    "We will train this model via stochastic gradient descent by minimizing the negative log-likelihood of the data:\n",
    "$$\n",
    "    \\hat{W}, \\hat{b} = \\operatorname{argmin}_{W, b} \\sum_{x, y} - \\log p(y | x)\n",
    "$$\n",
    "Although this is a linear model, it classifies raw data without any manual feature extraction step."
   ]
  },
  {
   "cell_type": "code",
   "execution_count": 44,
   "metadata": {},
   "outputs": [],
   "source": [
    "# import libs that we will use\n",
    "import os\n",
    "import numpy as np\n",
    "import matplotlib.pyplot as plt\n",
    "import math\n",
    "from sklearn.utils import shuffle\n",
    "import pickle\n",
    "import pandas as pd\n",
    "\n",
    "# To load the data we will use the script of Gaetan Marceau Caron\n",
    "# You can download it from the course webiste and move it to the same directory that contains this ipynb file\n",
    "import dataset_loader\n",
    "\n",
    "%matplotlib inline"
   ]
  },
  {
   "cell_type": "markdown",
   "metadata": {},
   "source": [
    "# 1. Data"
   ]
  },
  {
   "cell_type": "code",
   "execution_count": 2,
   "metadata": {},
   "outputs": [],
   "source": [
    "# Download mnist dataset \n",
    "if(\"mnist.pkl.gz\" not in os.listdir(\".\")):\n",
    "    !wget http://deeplearning.net/data/mnist/mnist.pkl.gz\n",
    "\n",
    "# if you have it somewhere else, you can comment the lines above\n",
    "# and overwrite the path below\n",
    "mnist_path = \"./mnist.pkl.gz\""
   ]
  },
  {
   "cell_type": "code",
   "execution_count": 46,
   "metadata": {},
   "outputs": [],
   "source": [
    "# load the 3 splits\n",
    "train_data, dev_data, test_data = dataset_loader.load_mnist(mnist_path)\n",
    "\n",
    "X_train = train_data[0]\n",
    "y_train = train_data[1]\n",
    "\n",
    "X_val = dev_data[0]\n",
    "y_val = dev_data[1]\n",
    "\n",
    "X_test = test_data[0]\n",
    "y_test = test_data[1]"
   ]
  },
  {
   "cell_type": "markdown",
   "metadata": {},
   "source": [
    "Each dataset is a list with two elemets:\n",
    "* data[0] contains images\n",
    "* data[1] contains labels\n",
    "\n",
    "Data is stored as numpy.ndarray. You can use data[0][i] to retrieve image number i and data[1][i] to retrieve its label."
   ]
  },
  {
   "cell_type": "code",
   "execution_count": 4,
   "metadata": {},
   "outputs": [
    {
     "name": "stdout",
     "output_type": "stream",
     "text": [
      "(50000, 784)\n",
      "(50000,)\n"
     ]
    }
   ],
   "source": [
    "print(train_data[0].shape)\n",
    "print(train_data[1].shape)"
   ]
  },
  {
   "cell_type": "code",
   "execution_count": 5,
   "metadata": {},
   "outputs": [
    {
     "name": "stdout",
     "output_type": "stream",
     "text": [
      "label: 5\n"
     ]
    },
    {
     "data": {
      "text/plain": [
       "<matplotlib.image.AxesImage at 0x20edacc1940>"
      ]
     },
     "execution_count": 5,
     "metadata": {},
     "output_type": "execute_result"
    },
    {
     "data": {
      "image/png": "[encoded data removed]",
      "text/plain": [
       "<Figure size 432x288 with 1 Axes>"
      ]
     },
     "metadata": {
      "needs_background": "light"
     },
     "output_type": "display_data"
    }
   ],
   "source": [
    "index = 900\n",
    "label = train_data[1][index]\n",
    "picture = train_data[0][index]\n",
    "\n",
    "print(\"label: %i\" % label)\n",
    "plt.imshow(picture.reshape(28,28), cmap='Greys')"
   ]
  },
  {
   "cell_type": "markdown",
   "metadata": {},
   "source": [
    "**Question:** What are the characteristics of training data? (number of samples, dimension of input, number of labels)\n",
    "\n",
    "The documentation of ndarray class is available here: https://docs.scipy.org/doc/numpy/reference/generated/numpy.ndarray.html"
   ]
  },
  {
   "cell_type": "code",
   "execution_count": 6,
   "metadata": {},
   "outputs": [],
   "source": [
    "def getDimDataset(data):\n",
    "    n_training = data[0].shape[0]\n",
    "    n_feature = data[0].shape[1]\n",
    "    n_label = data[1].shape[0]\n",
    "    return n_training, n_feature, n_label"
   ]
  },
  {
   "cell_type": "code",
   "execution_count": 7,
   "metadata": {},
   "outputs": [
    {
     "data": {
      "text/plain": [
       "(50000, 784, 50000)"
      ]
     },
     "execution_count": 7,
     "metadata": {},
     "output_type": "execute_result"
    }
   ],
   "source": [
    "getDimDataset(train_data)"
   ]
  },
  {
   "cell_type": "markdown",
   "metadata": {},
   "source": [
    "# 1. Building functions\n",
    "\n",
    "We now need to build functions that are required for the neural network.\n",
    "$$\n",
    "    o = \\operatorname{softmax}(Wx + b) \\\\\n",
    "    L(x, y) = -\\log p(y | x) = -\\log o[y]\n",
    "$$\n",
    "\n",
    "Note that in numpy, operator @ is used for matrix multiplication while * is used for element-wise multiplication.\n",
    "The documentation for linear algebra in numpy is available here: https://docs.scipy.org/doc/numpy/reference/routines.linalg.html\n",
    "\n",
    "The first operation is the affine transformation $v = Wx + b$.\n",
    "To compute the gradient, it is often convenient to write the forward pass as $v[i] = b[i] + \\sum_j W[i, j] x[j]$."
   ]
  },
  {
   "cell_type": "code",
   "execution_count": 8,
   "metadata": {},
   "outputs": [],
   "source": [
    "# Input:\n",
    "# - W: projection matrix\n",
    "# - b: bias\n",
    "# - x: input features\n",
    "# Output:\n",
    "# - vector\n",
    "def affine_transform(W, b, x):\n",
    "    v = W @ x + b\n",
    "    return v\n",
    "\n",
    "# Input:\n",
    "# - W: projection matrix\n",
    "# - b: bias\n",
    "# - x: input features\n",
    "# - g: incoming gradient\n",
    "# Output:\n",
    "# - g_W: gradient wrt W\n",
    "# - g_b: gradient wrt b\n",
    "def backward_affine_transform(W, b, x, g):\n",
    "    g_W = g.reshape(-1, 1) @ x.reshape(1, -1)\n",
    "    g_b = g\n",
    "    return g_W, g_b"
   ]
  },
  {
   "cell_type": "markdown",
   "metadata": {},
   "source": [
    "The next cell is a (too simple) test of affine_transform and backward_affine_transform.\n",
    "It should run without error if your implementation is correct."
   ]
  },
  {
   "cell_type": "code",
   "execution_count": 9,
   "metadata": {},
   "outputs": [],
   "source": [
    "W = np.asarray([[ 0.63024213,  0.53679375, -0.92079597],\n",
    " [-0.1155045,   0.62780356, -0.67961305],\n",
    " [ 0.08465286, -0.06561815, -0.39778322],\n",
    " [ 0.8242268,   0.58907262, -0.52208052],\n",
    " [-0.43894227, -0.56993247,  0.09520727]])\n",
    "b = np.asarray([ 0.42706842,  0.69636598, -0.85611933, -0.08682553,  0.83160079])\n",
    "x = np.asarray([-0.32809223, -0.54751413,  0.81949319])\n",
    "\n",
    "o_gold = np.asarray([-0.82819732, -0.16640748, -1.17394705, -1.10761496,  1.36568213])\n",
    "g = np.asarray([-0.08938868,  0.44083873, -0.2260743,  -0.96196726, -0.53428805])\n",
    "g_W_gold = np.asarray([[ 0.02932773,  0.04894156, -0.07325341],\n",
    " [-0.14463576, -0.24136543,  0.36126434],\n",
    " [ 0.07417322,  0.12377887, -0.18526635],\n",
    " [ 0.31561399,  0.52669067, -0.78832562],\n",
    " [ 0.17529576,  0.29253025, -0.43784542]])\n",
    "g_b_gold = np.asarray([-0.08938868,  0.44083873, -0.2260743,  -0.96196726, -0.53428805])\n",
    "\n",
    "\n",
    "# quick test of the forward pass\n",
    "o = affine_transform(W, b, x)\n",
    "if o.shape != o_gold.shape:\n",
    "    raise RuntimeError(\"Unexpected output dimension: got %s, expected %s\" % (str(o.shape), str(o_gold.shape)))\n",
    "if not np.allclose(o, o_gold):\n",
    "    raise RuntimeError(\"Output of the affine_transform function is incorrect\")\n",
    "    \n",
    "# quick test if the backward pass\n",
    "g_W, g_b = backward_affine_transform(W, b, x, g)\n",
    "if g_W.shape != g_W_gold.shape:\n",
    "        raise RuntimeError(\"Unexpected gradient dimension for W: got %s, expected %s\" % (str(g_W.shape), str(g_W_gold.shape)))\n",
    "if g_b.shape != g_b_gold.shape:\n",
    "        raise RuntimeError(\"Unexpected gradient dimension for b: got %s, expected %s\" % (str(g_b.shape), str(g_b_gold.shape)))\n",
    "if not np.allclose(g_W, g_W_gold):\n",
    "    raise RuntimeError(\"Gradient of W is incorrect\")\n",
    "if not np.allclose(g_b, g_b_gold):\n",
    "    raise RuntimeError(\"Gradient of b is incorrect\")"
   ]
  },
  {
   "cell_type": "markdown",
   "metadata": {},
   "source": [
    "The softmax function:\n",
    "$$\n",
    "     o = \\operatorname{softmax}(w)\n",
    "$$\n",
    "where $w$ is a vector of logits in $\\mathbb R$ and $o$ a vector of probabilities such that:\n",
    "$$\n",
    "    o[i] = \\frac{\\exp(w[i])}{\\sum_j \\exp(w[j])}\n",
    "$$\n",
    "We do not need to implement the backward for this experiment."
   ]
  },
  {
   "cell_type": "code",
   "execution_count": 10,
   "metadata": {},
   "outputs": [],
   "source": [
    "# Input:\n",
    "# - x: vector of logits\n",
    "# Output\n",
    "# - vector of probabilities\n",
    "def softmax(x):\n",
    "    return np.exp(x - np.max(x)) / np.sum(np.exp(x-np.max(x)))"
   ]
  },
  {
   "cell_type": "markdown",
   "metadata": {},
   "source": [
    "**WARNING:** is your implementation numerically stable?\n",
    "\n",
    "The $\\exp$ function results in computations that overflows (i.e. results in numbers that cannot be represented with floating point numbers).\n",
    "Therefore, it is always convenient to use the following trick to improve stability: https://timvieira.github.io/blog/post/2014/02/11/exp-normalize-trick/"
   ]
  },
  {
   "cell_type": "code",
   "execution_count": 11,
   "metadata": {},
   "outputs": [
    {
     "name": "stdout",
     "output_type": "stream",
     "text": [
      "[1. 0. 0.]\n"
     ]
    }
   ],
   "source": [
    "# Example for testing the numerical stability of softmax\n",
    "# It should return [1., 0. ,0.], not [nan, 0., 0.]\n",
    "z = [1000000,1,100]\n",
    "print(softmax(z))"
   ]
  },
  {
   "cell_type": "markdown",
   "metadata": {},
   "source": [
    "**Question**: from the result of the cell above, what can you say about the softmax output, even when it is stable?"
   ]
  },
  {
   "cell_type": "code",
   "execution_count": 12,
   "metadata": {},
   "outputs": [],
   "source": [
    "# Just too simple test for the softmax function\n",
    "x = np.asarray([0.92424884, -0.92381088, -0.74666024, -0.87705478, -0.54797015])\n",
    "y_gold = np.asarray([0.57467369, 0.09053556, 0.10808233, 0.09486917, 0.13183925])\n",
    "\n",
    "y = softmax(x)\n",
    "if not np.allclose(y, y_gold):\n",
    "    raise RuntimeError(\"Output of the softmax function is incorrect\")"
   ]
  },
  {
   "cell_type": "markdown",
   "metadata": {},
   "source": [
    "Finally, we build the loss function and its gradient for training the network.\n",
    "\n",
    "The loss function is the negative log-likelihood defined as:\n",
    "$$\n",
    "    \\mathcal L(x, gold) = -\\log \\frac{\\exp(x[gold])}{\\sum_j \\exp(x[j])} = -x[gold] + \\log \\sum_j \\exp(x[j])\n",
    "$$\n",
    "This function is also called the cross-entropy loss (in Pytorch, different names are used dependending if the inputs are probabilities or raw logits).\n",
    "\n",
    "Similarly to the softmax, we have to rely on the log-sum-exp trick to stabilize the computation: https://timvieira.github.io/blog/post/2014/02/11/exp-normalize-trick/"
   ]
  },
  {
   "cell_type": "code",
   "execution_count": 13,
   "metadata": {},
   "outputs": [],
   "source": [
    "# Input:\n",
    "# - x: vector of logits\n",
    "# - gold: index of the gold class\n",
    "# Output:\n",
    "# - scalare equal to -log(softmax(x)[gold])\n",
    "def nll(x, gold):\n",
    "    return -x[gold] + np.max(x) + np.log(np.sum(np.exp(x - np.max(x))))\n",
    "\n",
    "# Input:\n",
    "# - x: vector of logits\n",
    "# - gold: index of the gold class\n",
    "# - gradient (scalar)\n",
    "# Output:\n",
    "# - gradient wrt x\n",
    "def backward_nll(x, gold, g):\n",
    "    result = np.exp(x - np.max(x)) / np.sum(np.exp(x - np.max(x)))\n",
    "    result[gold] = -1 + result[gold]\n",
    "    return result"
   ]
  },
  {
   "cell_type": "code",
   "execution_count": 14,
   "metadata": {},
   "outputs": [],
   "source": [
    "# test\n",
    "x = np.asarray([-0.13590009, -0.83649656,  0.03130881,  0.42559402,  0.08488182])\n",
    "y_gold = 1.5695014420179738\n",
    "g_gold = np.asarray([ 0.17609875,  0.08739591, -0.79185107,  0.30875221,  0.2196042 ])\n",
    "\n",
    "y = nll(x, 2)\n",
    "g = backward_nll(x, 2, 1.)\n",
    "\n",
    "if not np.allclose(y, y_gold):\n",
    "    raise RuntimeError(\"Output is incorrect\")\n",
    "\n",
    "if g.shape != g_gold.shape:\n",
    "        raise RuntimeError(\"Unexpected gradient dimension: got %s, expected %s\" % (str(g.shape), str(g_gold.shape)))\n",
    "if not np.allclose(g, g_gold):\n",
    "    raise RuntimeError(\"Gradient is incorrect\")"
   ]
  },
  {
   "cell_type": "markdown",
   "metadata": {},
   "source": [
    "The following code test the implementation of the gradient using finite-difference approximation, see: https://timvieira.github.io/blog/post/2017/04/21/how-to-test-gradient-implementations/\n",
    "\n",
    "Your implementation should pass this test."
   ]
  },
  {
   "cell_type": "code",
   "execution_count": 15,
   "metadata": {},
   "outputs": [],
   "source": [
    "# this is python re-implementation of the test from the Dynet library\n",
    "# https://github.com/clab/dynet/blob/master/dynet/grad-check.cc\n",
    "\n",
    "def is_almost_equal(grad, computed_grad):\n",
    "    #print(grad, computed_grad)\n",
    "    f = abs(grad - computed_grad)\n",
    "    m = max(abs(grad), abs(computed_grad))\n",
    "\n",
    "    if f > 0.01 and m > 0.:\n",
    "        f /= m\n",
    "\n",
    "    if f > 0.01 or math.isnan(f):\n",
    "        return False\n",
    "    else:\n",
    "        return True\n",
    "\n",
    "def check_gradient(function, weights, true_grad, alpha = 1e-3):\n",
    "    # because input can be of any dimension,\n",
    "    # we build a view of the underlying data with the .shape(-1) method\n",
    "    # then we can access any element of the tensor as a elements of a list\n",
    "    # with a single dimension\n",
    "    weights_view = weights.reshape(-1)\n",
    "    true_grad_view = true_grad.reshape(-1)\n",
    "    for i in range(weights_view.shape[0]):\n",
    "        old = weights_view[i]\n",
    "\n",
    "        weights_view[i] = old - alpha\n",
    "        value_left = function(weights).reshape(-1)\n",
    "\n",
    "        weights_view[i] = old + alpha\n",
    "        value_right = function(weights).reshape(-1)\n",
    "\n",
    "        weights_view[i] = old\n",
    "        grad = (value_right - value_left) / (2. * alpha)\n",
    "        \n",
    "        #print(grad, true_grad)\n",
    "        if not is_almost_equal(grad, true_grad_view[i]):\n",
    "            return False\n",
    "\n",
    "        return True"
   ]
  },
  {
   "cell_type": "code",
   "execution_count": 16,
   "metadata": {},
   "outputs": [
    {
     "name": "stdout",
     "output_type": "stream",
     "text": [
      "True\n",
      "True\n",
      "True\n"
     ]
    }
   ],
   "source": [
    "# Test the affine transformation\n",
    "\n",
    "x = np.random.uniform(-1, 1, (5,))\n",
    "W = np.random.uniform(-1, 1, (3, 5))\n",
    "b = np.random.uniform(-1, 1, (3,))\n",
    "\n",
    "for i in range(3):\n",
    "    y = affine_transform(W, b, x)\n",
    "    g = np.zeros_like(y)\n",
    "    g[i] = 1.\n",
    "    g_W, _ = backward_affine_transform(W, b, x, g)\n",
    "    print(check_gradient(lambda W: affine_transform(W, b, x)[i], W, g_W))"
   ]
  },
  {
   "cell_type": "code",
   "execution_count": 17,
   "metadata": {},
   "outputs": [
    {
     "name": "stdout",
     "output_type": "stream",
     "text": [
      "True\n",
      "True\n",
      "True\n",
      "True\n",
      "True\n"
     ]
    }
   ],
   "source": [
    "# test the negative likelihood loss\n",
    "\n",
    "x = np.random.uniform(-1, 1, (5,))\n",
    "\n",
    "for gold in range(5):\n",
    "    y = nll(x, gold)\n",
    "    g_y = backward_nll(x, gold, 1.)\n",
    "\n",
    "    print(check_gradient(lambda x: nll(x, gold), x, g_y))"
   ]
  },
  {
   "cell_type": "markdown",
   "metadata": {},
   "source": [
    "# 2. Parameter initialization\n",
    "\n",
    "We are now going to build the function that will be used to initialize the parameters of the neural network before training.\n",
    "Note that for parameter initialization you must use **in-place** operations:"
   ]
  },
  {
   "cell_type": "code",
   "execution_count": 18,
   "metadata": {},
   "outputs": [],
   "source": [
    "# create a random ndarray\n",
    "a = np.random.uniform(-1, 1, (5,))\n",
    "\n",
    "# this does not change the data of the ndarray created above!\n",
    "# it creates a new ndarray and replace the reference stored in a\n",
    "a = np.zeros((5, ))\n",
    "\n",
    "# this will change the underlying data of the ndarray that a points to\n",
    "a[:] = 0\n",
    "\n",
    "# similarly, this creates a new array and change the object pointed by a\n",
    "a = a + 1\n",
    "\n",
    "# while this change the underlying data of a\n",
    "a += 1"
   ]
  },
  {
   "cell_type": "markdown",
   "metadata": {},
   "source": [
    "For an affine transformation, it is common to:\n",
    "* initialize the bias to 0\n",
    "* initialize the projection matrix with Glorot initialization (also known as Xavier initialization)\n",
    "\n",
    "The formula for Glorot initialization can be found in equation 16 (page 5) of the original paper: http://proceedings.mlr.press/v9/glorot10a/glorot10a.pdf"
   ]
  },
  {
   "cell_type": "code",
   "execution_count": 19,
   "metadata": {},
   "outputs": [],
   "source": [
    "def zero_init(dim):\n",
    "    return np.zeros(dim)\n",
    "\n",
    "def glorot_init(m, n):\n",
    "    init_value = np.sqrt(6 / (m + n))\n",
    "    return np.random.uniform(-init_value, init_value, (m, n))"
   ]
  },
  {
   "cell_type": "markdown",
   "metadata": {},
   "source": [
    "# 3. Building and training the neural network\n",
    "\n",
    "In our simple example, creating the neural network is simply instantiating the parameters $W$ and $b$.\n",
    "They must be ndarray object with the correct dimensions."
   ]
  },
  {
   "cell_type": "code",
   "execution_count": 20,
   "metadata": {},
   "outputs": [],
   "source": [
    "def create_parameters(dim_input, dim_output):\n",
    "    W = glorot_init(dim_output, dim_input)\n",
    "    b = zero_init(dim_output)\n",
    "    \n",
    "    return W, b"
   ]
  },
  {
   "cell_type": "markdown",
   "metadata": {},
   "source": [
    "The recent success of deep learning is (partly) due to the ability to train very big neural networks.\n",
    "However, researchers became interested in building small neural networks to improve computational efficiency and memory usage.\n",
    "Therefore, we often want to compare neural networks by their number of parameters, i.e. the size of the memory required to store the parameters."
   ]
  },
  {
   "cell_type": "code",
   "execution_count": 21,
   "metadata": {},
   "outputs": [],
   "source": [
    "def print_n_parameters(W, b):\n",
    "    n = W.size + b.size\n",
    "    print(\"Number of parameters: %i\" % (n))"
   ]
  },
  {
   "cell_type": "markdown",
   "metadata": {},
   "source": [
    "We can now create the neural network and print its number of parameters:"
   ]
  },
  {
   "cell_type": "code",
   "execution_count": 91,
   "metadata": {
    "scrolled": true
   },
   "outputs": [
    {
     "name": "stdout",
     "output_type": "stream",
     "text": [
      "Number of parameters: 7850\n"
     ]
    }
   ],
   "source": [
    "dim_input = train_data[0].shape[1]\n",
    "dim_output = 10\n",
    "\n",
    "W, b = create_parameters(dim_input, dim_output)\n",
    "print_n_parameters(W, b)"
   ]
  },
  {
   "cell_type": "markdown",
   "metadata": {},
   "source": [
    "Finally, the training loop!\n",
    "\n",
    "The training loop should be structured as follows:\n",
    "* we do **epochs** over the data, i.e. one epoch is one loop over the dataset\n",
    "* at each epoch, we first loop over the data and update the network parameters with respect to the loss gradient\n",
    "* at the end of each epoch, we evaluate the network on the dev dataset\n",
    "* after all epochs are done, we evaluate our network on the test dataset and compare its performance with the performance on dev\n",
    "\n",
    "During training, it is useful to print the following information:\n",
    "* the mean loss over the epoch: it should be decreasing!\n",
    "* the accuracy on the dev set: it should be increasing!\n",
    "* the accuracy on the train set: it shoud be increasing!\n",
    "\n",
    "If you observe a decreasing loss (+increasing accuracy on test data) but decreasing accuracy on dev data, your network is overfitting!\n",
    "\n",
    "Once you have build **and tested** this a simple training loop, you should introduce the following improvements:\n",
    "* instead of evaluating on dev after each loop on the training data, you can also evaluate on dev n times per epoch\n",
    "* shuffle the data before each epoch\n",
    "* instead of memorizing the parameters of the last epoch only, you should have a copy of the parameters that produced the best value on dev data during training and evaluate on test with those instead of the parameters after the last epoch\n",
    "* learning rate decay: if you do not observe improvement on dev, you can try to reduce the step size\n",
    "\n",
    "After you conducted (successful?) experiments, you should write a report with results."
   ]
  },
  {
   "cell_type": "code",
   "execution_count": 24,
   "metadata": {},
   "outputs": [],
   "source": [
    "def model_test(X_test, y_test, model_params):\n",
    "    W = model_params[0]\n",
    "    b = model_params[1]\n",
    "    \n",
    "    tot_loss = 0.\n",
    "    test_accurancy = 0\n",
    "    \n",
    "    test_size = X_test.shape[0]\n",
    "    \n",
    "    for i in range(test_size):\n",
    "        x = X_test[i]\n",
    "        label = y_test[i]\n",
    "        \n",
    "        # Prediction\n",
    "        net_out = affine_transform(W, b, x)\n",
    "        loss = nll(net_out, label)\n",
    "\n",
    "        prediction = np.argmax(net_out)\n",
    "        \n",
    "        tot_loss += loss\n",
    "        test_accurancy += 1 if prediction == label else 0\n",
    "    \n",
    "    return test_accurancy/test_size, tot_loss/test_size"
   ]
  },
  {
   "cell_type": "code",
   "execution_count": 25,
   "metadata": {},
   "outputs": [],
   "source": [
    "def model_validation(X_val, y_val, model_params):\n",
    "    W = model_params[0]\n",
    "    b = model_params[1]\n",
    "    \n",
    "    tot_loss = 0.\n",
    "    val_accurancy = 0\n",
    "    \n",
    "    val_size = X_val.shape[0]\n",
    "    \n",
    "    for i in range(val_size):\n",
    "        x = X_val[i]\n",
    "        label = y_val[i]\n",
    "        \n",
    "        # Prediction\n",
    "        net_out = affine_transform(W, b, x)\n",
    "        loss = nll(net_out, label)\n",
    "\n",
    "        prediction = np.argmax(net_out)\n",
    "        \n",
    "        tot_loss += loss\n",
    "        val_accurancy += 1 if prediction == label else 0\n",
    "    \n",
    "    return val_accurancy/val_size, tot_loss/val_size"
   ]
  },
  {
   "cell_type": "code",
   "execution_count": 26,
   "metadata": {},
   "outputs": [],
   "source": [
    "def stats_backup(filename, *argv):\n",
    "    with open(filename, \"a\") as f:\n",
    "        line = [str(x) for x in argv]\n",
    "        f.write(','.join(line) + \"\\n\")"
   ]
  },
  {
   "cell_type": "code",
   "execution_count": 27,
   "metadata": {},
   "outputs": [],
   "source": [
    "def weights_backup(params_filename, model_params):\n",
    "    with open(params_filename, \"wb\") as f:\n",
    "        pickle.dump(model_params, f)"
   ]
  },
  {
   "cell_type": "code",
   "execution_count": 28,
   "metadata": {},
   "outputs": [],
   "source": [
    "def write_description(filename, description):\n",
    "    with open(filename, \"w\") as f:\n",
    "        f.write(description +\"\\n\")"
   ]
  },
  {
   "cell_type": "code",
   "execution_count": 92,
   "metadata": {},
   "outputs": [],
   "source": [
    "# Init of backup files\n",
    "filename = \"train_2.csv\"\n",
    "params_filename = \"train_2.pkl\"\n",
    "write_description(\"train_2.txt\", \"Dynamic step size between [0.01,0.00001]\")\n",
    "\n",
    "with open(filename, \"w\") as f:\n",
    "    f.write(\"Avg Train Loss,Avg Test Loss,Train Accurancy,Test Accurancy\\n\")"
   ]
  },
  {
   "cell_type": "code",
   "execution_count": 93,
   "metadata": {
    "scrolled": true
   },
   "outputs": [
    {
     "name": "stdout",
     "output_type": "stream",
     "text": [
      "Epoch: 0\n",
      "Train Avg loss: 0.37762693991539004 \tTest Avg Loss: 0.3029097151831143\n",
      "Train Accurancy: 0.89132 \tTest Accurancy: 0.9156\n",
      "Epoch: 1\n",
      "Train Avg loss: 0.3104685261999731 \tTest Avg Loss: 0.29410272599320314\n",
      "Train Accurancy: 0.91204 \tTest Accurancy: 0.918\n",
      "Epoch: 2\n",
      "Train Avg loss: 0.29790613006076744 \tTest Avg Loss: 0.2839752769056959\n",
      "Train Accurancy: 0.91582 \tTest Accurancy: 0.9196\n",
      "Epoch: 3\n",
      "Train Avg loss: 0.2904434482069889 \tTest Avg Loss: 0.29478574108121747\n",
      "Train Accurancy: 0.91712 \tTest Accurancy: 0.9142\n",
      "Epoch: 4\n",
      "Train Avg loss: 0.28581183334352006 \tTest Avg Loss: 0.28507094344989947\n",
      "Train Accurancy: 0.91902 \tTest Accurancy: 0.92\n",
      "Epoch: 5\n",
      "Train Avg loss: 0.26823489492974695 \tTest Avg Loss: 0.276835525336997\n",
      "Train Accurancy: 0.9249 \tTest Accurancy: 0.9228\n",
      "Epoch: 6\n",
      "Train Avg loss: 0.2656157825155899 \tTest Avg Loss: 0.27236719629642286\n",
      "Train Accurancy: 0.92564 \tTest Accurancy: 0.9234\n",
      "Epoch: 7\n",
      "Train Avg loss: 0.26344696752948715 \tTest Avg Loss: 0.2762136614887117\n",
      "Train Accurancy: 0.92664 \tTest Accurancy: 0.922\n",
      "Epoch: 8\n",
      "Train Avg loss: 0.26328815815253304 \tTest Avg Loss: 0.2751491181984791\n",
      "Train Accurancy: 0.92554 \tTest Accurancy: 0.922\n",
      "Epoch: 9\n",
      "Train Avg loss: 0.2616216644981189 \tTest Avg Loss: 0.27917537497996564\n",
      "Train Accurancy: 0.92688 \tTest Accurancy: 0.9221\n",
      "Epoch: 10\n",
      "Train Avg loss: 0.26049588816313346 \tTest Avg Loss: 0.27541779986878906\n",
      "Train Accurancy: 0.92724 \tTest Accurancy: 0.9226\n",
      "Epoch: 11\n",
      "Train Avg loss: 0.2591159251660354 \tTest Avg Loss: 0.27556266340152125\n",
      "Train Accurancy: 0.92794 \tTest Accurancy: 0.9237\n",
      "Epoch: 12\n",
      "Train Avg loss: 0.25832994284438787 \tTest Avg Loss: 0.27703883554739883\n",
      "Train Accurancy: 0.9273 \tTest Accurancy: 0.9218\n",
      "Epoch: 13\n",
      "Train Avg loss: 0.25780543324185207 \tTest Avg Loss: 0.275096766000794\n",
      "Train Accurancy: 0.92752 \tTest Accurancy: 0.9238\n",
      "Epoch: 14\n",
      "Train Avg loss: 0.25684489282698475 \tTest Avg Loss: 0.28305647854646004\n",
      "Train Accurancy: 0.92814 \tTest Accurancy: 0.9209\n",
      "Epoch: 15\n",
      "Train Avg loss: 0.24611584106531137 \tTest Avg Loss: 0.2712196652622026\n",
      "Train Accurancy: 0.93196 \tTest Accurancy: 0.9244\n",
      "Epoch: 16\n",
      "Train Avg loss: 0.24409885941997403 \tTest Avg Loss: 0.270116401606295\n",
      "Train Accurancy: 0.93216 \tTest Accurancy: 0.9252\n",
      "Epoch: 17\n",
      "Train Avg loss: 0.24352255594333522 \tTest Avg Loss: 0.2696571897053388\n",
      "Train Accurancy: 0.93254 \tTest Accurancy: 0.9262\n",
      "Epoch: 18\n",
      "Train Avg loss: 0.24319023544506307 \tTest Avg Loss: 0.26929877613507325\n",
      "Train Accurancy: 0.93272 \tTest Accurancy: 0.926\n",
      "Epoch: 19\n",
      "Train Avg loss: 0.24290759884111165 \tTest Avg Loss: 0.26893857004802196\n",
      "Train Accurancy: 0.93262 \tTest Accurancy: 0.9263\n",
      "Epoch: 20\n",
      "Train Avg loss: 0.24273206123570149 \tTest Avg Loss: 0.2684268643776161\n",
      "Train Accurancy: 0.93298 \tTest Accurancy: 0.9258\n",
      "Epoch: 21\n",
      "Train Avg loss: 0.24257903359164792 \tTest Avg Loss: 0.26835696986526075\n",
      "Train Accurancy: 0.93278 \tTest Accurancy: 0.9259\n",
      "Epoch: 22\n",
      "Train Avg loss: 0.24245312618927425 \tTest Avg Loss: 0.26832617858289015\n",
      "Train Accurancy: 0.93296 \tTest Accurancy: 0.9263\n",
      "Epoch: 23\n",
      "Train Avg loss: 0.24234998370726618 \tTest Avg Loss: 0.2681844993450176\n",
      "Train Accurancy: 0.93294 \tTest Accurancy: 0.9258\n",
      "Epoch: 24\n",
      "Train Avg loss: 0.2422351657749115 \tTest Avg Loss: 0.26803302924623906\n",
      "Train Accurancy: 0.93308 \tTest Accurancy: 0.9257\n",
      "Epoch: 25\n",
      "Train Avg loss: 0.24339651691163158 \tTest Avg Loss: 0.26806149932325685\n",
      "Train Accurancy: 0.9325 \tTest Accurancy: 0.926\n",
      "Epoch: 26\n",
      "Train Avg loss: 0.2431962927040198 \tTest Avg Loss: 0.2685630139928813\n",
      "Train Accurancy: 0.93268 \tTest Accurancy: 0.925\n",
      "Epoch: 27\n",
      "Train Avg loss: 0.2432092653367094 \tTest Avg Loss: 0.2679926480858927\n",
      "Train Accurancy: 0.9329 \tTest Accurancy: 0.9261\n",
      "Epoch: 28\n",
      "Train Avg loss: 0.24291674777790734 \tTest Avg Loss: 0.2678941083164603\n",
      "Train Accurancy: 0.9324 \tTest Accurancy: 0.926\n",
      "Epoch: 29\n",
      "Train Avg loss: 0.2428267811097793 \tTest Avg Loss: 0.2681380520112398\n",
      "Train Accurancy: 0.93288 \tTest Accurancy: 0.9258\n",
      "Epoch: 30\n",
      "Train Avg loss: 0.24275569789549936 \tTest Avg Loss: 0.2684991597739511\n",
      "Train Accurancy: 0.93252 \tTest Accurancy: 0.9253\n",
      "Epoch: 31\n",
      "Train Avg loss: 0.24275698551063898 \tTest Avg Loss: 0.26764530474036324\n",
      "Train Accurancy: 0.93352 \tTest Accurancy: 0.926\n",
      "Epoch: 32\n",
      "Train Avg loss: 0.242672454876852 \tTest Avg Loss: 0.2674909150248424\n",
      "Train Accurancy: 0.93302 \tTest Accurancy: 0.9261\n",
      "Epoch: 33\n",
      "Train Avg loss: 0.2426178743320077 \tTest Avg Loss: 0.26787682476910846\n",
      "Train Accurancy: 0.93296 \tTest Accurancy: 0.9257\n",
      "Epoch: 34\n",
      "Train Avg loss: 0.24244971801340068 \tTest Avg Loss: 0.2678398794186726\n",
      "Train Accurancy: 0.93316 \tTest Accurancy: 0.9267\n",
      "Epoch: 35\n",
      "Train Avg loss: 0.2411780545516633 \tTest Avg Loss: 0.2674107062737106\n",
      "Train Accurancy: 0.93332 \tTest Accurancy: 0.9262\n",
      "Epoch: 36\n",
      "Train Avg loss: 0.24109411943727327 \tTest Avg Loss: 0.26731083076022705\n",
      "Train Accurancy: 0.9335 \tTest Accurancy: 0.9265\n",
      "Epoch: 37\n",
      "Train Avg loss: 0.2411074425460187 \tTest Avg Loss: 0.26735890462762574\n",
      "Train Accurancy: 0.93344 \tTest Accurancy: 0.9264\n",
      "Epoch: 38\n",
      "Train Avg loss: 0.2410917296317725 \tTest Avg Loss: 0.26744621668622603\n",
      "Train Accurancy: 0.93342 \tTest Accurancy: 0.9261\n",
      "Epoch: 39\n",
      "Train Avg loss: 0.2410953822904665 \tTest Avg Loss: 0.26741436786758244\n",
      "Train Accurancy: 0.93328 \tTest Accurancy: 0.9263\n",
      "Epoch: 40\n",
      "Train Avg loss: 0.24105932482205455 \tTest Avg Loss: 0.26743288503034685\n",
      "Train Accurancy: 0.93334 \tTest Accurancy: 0.9265\n",
      "Epoch: 41\n",
      "Train Avg loss: 0.2410332838290098 \tTest Avg Loss: 0.26750595325004106\n",
      "Train Accurancy: 0.93334 \tTest Accurancy: 0.9261\n",
      "Epoch: 42\n",
      "Train Avg loss: 0.24102671216361082 \tTest Avg Loss: 0.267385831200725\n",
      "Train Accurancy: 0.93322 \tTest Accurancy: 0.9263\n",
      "Epoch: 43\n",
      "Train Avg loss: 0.2410103685407745 \tTest Avg Loss: 0.26750320294139407\n",
      "Train Accurancy: 0.9333 \tTest Accurancy: 0.9259\n",
      "Epoch: 44\n",
      "Train Avg loss: 0.24098160297064 \tTest Avg Loss: 0.2673445743463644\n",
      "Train Accurancy: 0.93306 \tTest Accurancy: 0.9261\n",
      "Epoch: 45\n",
      "Train Avg loss: 0.24081222703331226 \tTest Avg Loss: 0.2673573254901198\n",
      "Train Accurancy: 0.93334 \tTest Accurancy: 0.9262\n",
      "Epoch: 46\n",
      "Train Avg loss: 0.24079091943532502 \tTest Avg Loss: 0.2673526393715629\n",
      "Train Accurancy: 0.93338 \tTest Accurancy: 0.9259\n",
      "Epoch: 47\n",
      "Train Avg loss: 0.24077962730106944 \tTest Avg Loss: 0.26746702135383205\n",
      "Train Accurancy: 0.93358 \tTest Accurancy: 0.926\n",
      "Epoch: 48\n",
      "Train Avg loss: 0.24078403014853736 \tTest Avg Loss: 0.26739714872650233\n",
      "Train Accurancy: 0.93334 \tTest Accurancy: 0.926\n",
      "Epoch: 49\n",
      "Train Avg loss: 0.2407713066865478 \tTest Avg Loss: 0.26733830498547495\n",
      "Train Accurancy: 0.93338 \tTest Accurancy: 0.926\n",
      "Epoch: 50\n",
      "Train Avg loss: 0.24075766911082916 \tTest Avg Loss: 0.26744856226248537\n",
      "Train Accurancy: 0.93326 \tTest Accurancy: 0.9257\n",
      "Epoch: 51\n",
      "Train Avg loss: 0.2407542623581769 \tTest Avg Loss: 0.26734879979931764\n",
      "Train Accurancy: 0.93324 \tTest Accurancy: 0.9256\n",
      "Epoch: 52\n",
      "Train Avg loss: 0.24075133630933826 \tTest Avg Loss: 0.26740381444276223\n",
      "Train Accurancy: 0.93316 \tTest Accurancy: 0.926\n",
      "Epoch: 53\n",
      "Train Avg loss: 0.24073785330650851 \tTest Avg Loss: 0.2673098552594405\n",
      "Train Accurancy: 0.93328 \tTest Accurancy: 0.9263\n",
      "Epoch: 54\n",
      "Train Avg loss: 0.2407388523703137 \tTest Avg Loss: 0.26734327167911\n",
      "Train Accurancy: 0.93334 \tTest Accurancy: 0.9257\n",
      "Epoch: 55\n",
      "Train Avg loss: 0.24057474980827118 \tTest Avg Loss: 0.26734915700392775\n",
      "Train Accurancy: 0.9332 \tTest Accurancy: 0.9258\n",
      "Epoch: 56\n",
      "Train Avg loss: 0.24057166741610625 \tTest Avg Loss: 0.267349497978224\n",
      "Train Accurancy: 0.9334 \tTest Accurancy: 0.9257\n",
      "Epoch: 57\n",
      "Train Avg loss: 0.24056945989408007 \tTest Avg Loss: 0.2673430930384945\n",
      "Train Accurancy: 0.93328 \tTest Accurancy: 0.9257\n",
      "Epoch: 58\n",
      "Train Avg loss: 0.240567760025507 \tTest Avg Loss: 0.26736070016127217\n",
      "Train Accurancy: 0.9334 \tTest Accurancy: 0.9257\n",
      "Epoch: 59\n",
      "Train Avg loss: 0.24056713523288242 \tTest Avg Loss: 0.26735408602333094\n",
      "Train Accurancy: 0.93334 \tTest Accurancy: 0.9257\n",
      "Epoch: 60\n",
      "Train Avg loss: 0.24056537199495417 \tTest Avg Loss: 0.26735261420139295\n",
      "Train Accurancy: 0.9334 \tTest Accurancy: 0.9257\n",
      "Epoch: 61\n",
      "Train Avg loss: 0.24056477911395904 \tTest Avg Loss: 0.26735116544380555\n",
      "Train Accurancy: 0.93334 \tTest Accurancy: 0.9257\n",
      "Epoch: 62\n",
      "Train Avg loss: 0.240561845564252 \tTest Avg Loss: 0.267338169600555\n",
      "Train Accurancy: 0.93332 \tTest Accurancy: 0.9257\n",
      "Epoch: 63\n",
      "Train Avg loss: 0.24056106068146701 \tTest Avg Loss: 0.2673460012015338\n",
      "Train Accurancy: 0.93336 \tTest Accurancy: 0.9258\n"
     ]
    },
    {
     "name": "stdout",
     "output_type": "stream",
     "text": [
      "Epoch: 64\n",
      "Train Avg loss: 0.2405594102904034 \tTest Avg Loss: 0.2673362406854268\n",
      "Train Accurancy: 0.9334 \tTest Accurancy: 0.9257\n"
     ]
    }
   ],
   "source": [
    "n_epochs = 65 # number of epochs\n",
    "#step = 0.01 # step size for gradient updates\n",
    "\n",
    "train_size = X_train.shape[0]\n",
    "\n",
    "model_params = [W, b]\n",
    "\n",
    "for epoch in range(n_epochs):\n",
    "    if epoch <= 4: step = 0.01\n",
    "    elif (epoch >= 5) and (epoch <= 14): step = 0.005\n",
    "    elif (epoch >= 15) and (epoch <= 24): step = 0.0001\n",
    "    elif (epoch >= 25) and (epoch <= 34): step = 0.0005\n",
    "    elif (epoch >= 35) and (epoch <= 44): step = 0.0001\n",
    "    elif (epoch >= 45) and (epoch <= 54): step = 0.00005\n",
    "    elif (epoch >= 55) and (epoch <= 64): step = 0.00001\n",
    "        \n",
    "    X_train, y_train = shuffle(X_train, y_train)\n",
    "    \n",
    "    tot_loss = 0.\n",
    "    train_accurancy = 0\n",
    "    \n",
    "    for i in range(train_size):\n",
    "        x = X_train[i]\n",
    "        label = y_train[i]\n",
    "        \n",
    "        # Prediction\n",
    "        net_out = affine_transform(W, b, x)\n",
    "        loss = nll(net_out, label)\n",
    "        \n",
    "        prediction = np.argmax(net_out)\n",
    "        \n",
    "        # Backpropagation\n",
    "        gradient_loss = backward_nll(net_out, label, 1.)\n",
    "        gradient_w, gradient_b = backward_affine_transform(W, b, x, gradient_loss)\n",
    "\n",
    "        W -= step*gradient_w\n",
    "        b -= step*gradient_b\n",
    "        \n",
    "        # Training statistics\n",
    "        tot_loss += loss\n",
    "        train_accurancy += 1 if prediction == label else 0\n",
    "    \n",
    "    test_accurancy, test_avg_loss = model_test(X_test, y_test, model_params)\n",
    "    \n",
    "    print(\"Epoch:\", epoch)\n",
    "    print (\"Train Avg loss:\", tot_loss/train_size, \"\\tTest Avg Loss:\", test_avg_loss)\n",
    "    print (\"Train Accurancy:\", train_accurancy/train_size, \"\\tTest Accurancy:\", test_accurancy)\n",
    "    stats_backup(filename, tot_loss/train_size, test_avg_loss, train_accurancy/train_size, test_accurancy)\n",
    "    weights_backup(params_filename, model_params)"
   ]
  },
  {
   "cell_type": "code",
   "execution_count": 94,
   "metadata": {},
   "outputs": [
    {
     "data": {
      "image/png": "[encoded data removed]",
      "text/plain": [
       "<Figure size 1368x648 with 2 Axes>"
      ]
     },
     "metadata": {
      "needs_background": "light"
     },
     "output_type": "display_data"
    }
   ],
   "source": [
    "# Plot the training suite\n",
    "basename = \"train_2\"\n",
    "\n",
    "with open (basename+\".txt\", \"r\") as f:\n",
    "    description = f.read()\n",
    "\n",
    "df = pd.read_csv(basename + \".csv\")\n",
    "df['Epoch'] = df.index\n",
    "\n",
    "figure, axs = plt.subplots(1, 2, figsize=(19,9))\n",
    "figure.suptitle(description, fontsize=20)\n",
    "\n",
    "df.plot(kind=\"line\", x=\"Epoch\", y=\"Avg Train Loss\", color=\"blue\", ax=axs[0])\n",
    "df.plot(kind=\"line\", x=\"Epoch\", y=\"Avg Test Loss\", color=\"red\", ax=axs[0])\n",
    "\n",
    "df.plot(kind=\"line\", x=\"Epoch\", y=\"Train Accurancy\", color=\"blue\", ax=axs[1])\n",
    "df.plot(kind=\"line\", x=\"Epoch\", y=\"Test Accurancy\", color=\"red\", ax=axs[1])\n",
    "\n",
    "plt.savefig('train_2.png')"
   ]
  },
  {
   "cell_type": "code",
   "execution_count": 85,
   "metadata": {},
   "outputs": [
    {
     "name": "stdout",
     "output_type": "stream",
     "text": [
      "Model\tAccurancy\tAvg Loss\n",
      "1\t0.926\t\t0.286\n",
      "2\t0.928\t\t0.258\n"
     ]
    }
   ],
   "source": [
    "print(\"Model\\tAccurancy\\tAvg Loss\")\n",
    "\n",
    "with open(\"train_1.pkl\", \"rb\") as f:\n",
    "    model_params = pickle.load(f)\n",
    "\n",
    "val_acc, val_loss = model_validation(X_val, y_val, model_params)\n",
    "print (\"1\", \"%.3f\"%val_acc, \"\\t%.3f\"%val_loss, sep=\"\\t\")\n",
    "\n",
    "with open(\"train_2.pkl\", \"rb\") as f:\n",
    "    model_params = pickle.load(f)\n",
    "\n",
    "val_acc, val_loss = model_validation(X_val, y_val, model_params)\n",
    "print (\"2\", \"%.3f\"%val_acc, \"\\t%.3f\"%val_loss, sep=\"\\t\")"
   ]
  }
 ],
 "metadata": {
  "anaconda-cloud": {},
  "kernelspec": {
   "display_name": "Python 3",
   "language": "python",
   "name": "python3"
  },
  "language_info": {
   "codemirror_mode": {
    "name": "ipython",
    "version": 3
   },
   "file_extension": ".py",
   "mimetype": "text/x-python",
   "name": "python",
   "nbconvert_exporter": "python",
   "pygments_lexer": "ipython3",
   "version": "3.6.9"
  }
 },
 "nbformat": 4,
 "nbformat_minor": 1
}
