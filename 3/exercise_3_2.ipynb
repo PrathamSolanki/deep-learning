{
  "nbformat": 4,
  "nbformat_minor": 0,
  "metadata": {
    "colab": {
      "name": "exercise_3_2.ipynb",
      "provenance": [],
      "collapsed_sections": []
    },
    "kernelspec": {
      "name": "python3",
      "display_name": "Python 3"
    },
    "widgets": {
      "application/vnd.jupyter.widget-state+json": {
        "99d553c294fa4ca18d15bd4568164d76": {
          "model_module": "@jupyter-widgets/controls",
          "model_name": "HBoxModel",
          "state": {
            "_view_name": "HBoxView",
            "_dom_classes": [],
            "_model_name": "HBoxModel",
            "_view_module": "@jupyter-widgets/controls",
            "_model_module_version": "1.5.0",
            "_view_count": null,
            "_view_module_version": "1.5.0",
            "box_style": "",
            "layout": "IPY_MODEL_67b8ef8c1b2d4992a8c1903a7005302b",
            "_model_module": "@jupyter-widgets/controls",
            "children": [
              "IPY_MODEL_98f6511470774af6a602380d7a6c591f",
              "IPY_MODEL_ee310d1de8b045dc8df7ffd5a88f2a4f"
            ]
          }
        },
        "67b8ef8c1b2d4992a8c1903a7005302b": {
          "model_module": "@jupyter-widgets/base",
          "model_name": "LayoutModel",
          "state": {
            "_view_name": "LayoutView",
            "grid_template_rows": null,
            "right": null,
            "justify_content": null,
            "_view_module": "@jupyter-widgets/base",
            "overflow": null,
            "_model_module_version": "1.2.0",
            "_view_count": null,
            "flex_flow": null,
            "width": null,
            "min_width": null,
            "border": null,
            "align_items": null,
            "bottom": null,
            "_model_module": "@jupyter-widgets/base",
            "top": null,
            "grid_column": null,
            "overflow_y": null,
            "overflow_x": null,
            "grid_auto_flow": null,
            "grid_area": null,
            "grid_template_columns": null,
            "flex": null,
            "_model_name": "LayoutModel",
            "justify_items": null,
            "grid_row": null,
            "max_height": null,
            "align_content": null,
            "visibility": null,
            "align_self": null,
            "height": null,
            "min_height": null,
            "padding": null,
            "grid_auto_rows": null,
            "grid_gap": null,
            "max_width": null,
            "order": null,
            "_view_module_version": "1.2.0",
            "grid_template_areas": null,
            "object_position": null,
            "object_fit": null,
            "grid_auto_columns": null,
            "margin": null,
            "display": null,
            "left": null
          }
        },
        "98f6511470774af6a602380d7a6c591f": {
          "model_module": "@jupyter-widgets/controls",
          "model_name": "IntProgressModel",
          "state": {
            "_view_name": "ProgressView",
            "style": "IPY_MODEL_7b1aa0b9bfc246b687577e9b8eb3c9fe",
            "_dom_classes": [],
            "description": "",
            "_model_name": "IntProgressModel",
            "bar_style": "success",
            "max": 50,
            "_view_module": "@jupyter-widgets/controls",
            "_model_module_version": "1.5.0",
            "value": 50,
            "_view_count": null,
            "_view_module_version": "1.5.0",
            "orientation": "horizontal",
            "min": 0,
            "description_tooltip": null,
            "_model_module": "@jupyter-widgets/controls",
            "layout": "IPY_MODEL_e297ad222bf84a30b371eef9f08b5e69"
          }
        },
        "ee310d1de8b045dc8df7ffd5a88f2a4f": {
          "model_module": "@jupyter-widgets/controls",
          "model_name": "HTMLModel",
          "state": {
            "_view_name": "HTMLView",
            "style": "IPY_MODEL_8d654d49dbb24c838a08af8151bf08f6",
            "_dom_classes": [],
            "description": "",
            "_model_name": "HTMLModel",
            "placeholder": "​",
            "_view_module": "@jupyter-widgets/controls",
            "_model_module_version": "1.5.0",
            "value": "100% 50/50 [02:40&lt;00:00,  3.27s/it]",
            "_view_count": null,
            "_view_module_version": "1.5.0",
            "description_tooltip": null,
            "_model_module": "@jupyter-widgets/controls",
            "layout": "IPY_MODEL_ba876eb6f9a7425c8e2c3be0fd8ebdfa"
          }
        },
        "7b1aa0b9bfc246b687577e9b8eb3c9fe": {
          "model_module": "@jupyter-widgets/controls",
          "model_name": "ProgressStyleModel",
          "state": {
            "_view_name": "StyleView",
            "_model_name": "ProgressStyleModel",
            "description_width": "",
            "_view_module": "@jupyter-widgets/base",
            "_model_module_version": "1.5.0",
            "_view_count": null,
            "_view_module_version": "1.2.0",
            "bar_color": null,
            "_model_module": "@jupyter-widgets/controls"
          }
        },
        "e297ad222bf84a30b371eef9f08b5e69": {
          "model_module": "@jupyter-widgets/base",
          "model_name": "LayoutModel",
          "state": {
            "_view_name": "LayoutView",
            "grid_template_rows": null,
            "right": null,
            "justify_content": null,
            "_view_module": "@jupyter-widgets/base",
            "overflow": null,
            "_model_module_version": "1.2.0",
            "_view_count": null,
            "flex_flow": null,
            "width": null,
            "min_width": null,
            "border": null,
            "align_items": null,
            "bottom": null,
            "_model_module": "@jupyter-widgets/base",
            "top": null,
            "grid_column": null,
            "overflow_y": null,
            "overflow_x": null,
            "grid_auto_flow": null,
            "grid_area": null,
            "grid_template_columns": null,
            "flex": null,
            "_model_name": "LayoutModel",
            "justify_items": null,
            "grid_row": null,
            "max_height": null,
            "align_content": null,
            "visibility": null,
            "align_self": null,
            "height": null,
            "min_height": null,
            "padding": null,
            "grid_auto_rows": null,
            "grid_gap": null,
            "max_width": null,
            "order": null,
            "_view_module_version": "1.2.0",
            "grid_template_areas": null,
            "object_position": null,
            "object_fit": null,
            "grid_auto_columns": null,
            "margin": null,
            "display": null,
            "left": null
          }
        },
        "8d654d49dbb24c838a08af8151bf08f6": {
          "model_module": "@jupyter-widgets/controls",
          "model_name": "DescriptionStyleModel",
          "state": {
            "_view_name": "StyleView",
            "_model_name": "DescriptionStyleModel",
            "description_width": "",
            "_view_module": "@jupyter-widgets/base",
            "_model_module_version": "1.5.0",
            "_view_count": null,
            "_view_module_version": "1.2.0",
            "_model_module": "@jupyter-widgets/controls"
          }
        },
        "ba876eb6f9a7425c8e2c3be0fd8ebdfa": {
          "model_module": "@jupyter-widgets/base",
          "model_name": "LayoutModel",
          "state": {
            "_view_name": "LayoutView",
            "grid_template_rows": null,
            "right": null,
            "justify_content": null,
            "_view_module": "@jupyter-widgets/base",
            "overflow": null,
            "_model_module_version": "1.2.0",
            "_view_count": null,
            "flex_flow": null,
            "width": null,
            "min_width": null,
            "border": null,
            "align_items": null,
            "bottom": null,
            "_model_module": "@jupyter-widgets/base",
            "top": null,
            "grid_column": null,
            "overflow_y": null,
            "overflow_x": null,
            "grid_auto_flow": null,
            "grid_area": null,
            "grid_template_columns": null,
            "flex": null,
            "_model_name": "LayoutModel",
            "justify_items": null,
            "grid_row": null,
            "max_height": null,
            "align_content": null,
            "visibility": null,
            "align_self": null,
            "height": null,
            "min_height": null,
            "padding": null,
            "grid_auto_rows": null,
            "grid_gap": null,
            "max_width": null,
            "order": null,
            "_view_module_version": "1.2.0",
            "grid_template_areas": null,
            "object_position": null,
            "object_fit": null,
            "grid_auto_columns": null,
            "margin": null,
            "display": null,
            "left": null
          }
        }
      }
    }
  },
  "cells": [
    {
      "cell_type": "code",
      "metadata": {
        "id": "TGGlhqZGm7eP",
        "colab_type": "code",
        "colab": {}
      },
      "source": [
        "import os\n",
        "from tqdm import tqdm_notebook as tqdm\n",
        "import torch\n",
        "from torch.nn import functional as F\n",
        "import itertools\n",
        "import dataset_loader\n",
        "import numpy as np\n",
        "from matplotlib import pyplot as plt"
      ],
      "execution_count": 0,
      "outputs": []
    },
    {
      "cell_type": "code",
      "metadata": {
        "id": "ymqva1t0paU7",
        "colab_type": "code",
        "colab": {}
      },
      "source": [
        "# Download mnist dataset \n",
        "if(\"mnist.pkl.gz\" not in os.listdir(\".\")):\n",
        "    !wget http://deeplearning.net/data/mnist/mnist.pkl.gz\n",
        "\n",
        "# if you have it somewhere else, you can comment the lines above\n",
        "# and overwrite the path below\n",
        "mnist_path = \"./mnist.pkl.gz\""
      ],
      "execution_count": 0,
      "outputs": []
    },
    {
      "cell_type": "code",
      "metadata": {
        "id": "3vNlhvMBpdMP",
        "colab_type": "code",
        "colab": {}
      },
      "source": [
        "# load the 3 splits\n",
        "train_data, dev_data, test_data = dataset_loader.load_mnist(mnist_path)"
      ],
      "execution_count": 0,
      "outputs": []
    },
    {
      "cell_type": "code",
      "metadata": {
        "id": "WANxbKF6rN4V",
        "colab_type": "code",
        "colab": {}
      },
      "source": [
        "def create_batch(data, index, batch_size):\n",
        "  if index + batch_size > len(data[0]): batch_size = len(data[0]) - index - 1\n",
        "  return (torch.cat(\n",
        "      [\n",
        "          # we reshape the image tensor so it has dimension (1, 784)\n",
        "          torch.from_numpy(image).reshape(1, -1)\n",
        "          for image in data[0][index:index + batch_size]\n",
        "      ],\n",
        "      # we want to concatenate on the batch dimension\n",
        "      dim=0),\n",
        "\n",
        "      torch.tensor(data[1][index:index + batch_size])\n",
        "  )"
      ],
      "execution_count": 0,
      "outputs": []
    },
    {
      "cell_type": "markdown",
      "metadata": {
        "id": "IJrxqTrWnX2g",
        "colab_type": "text"
      },
      "source": [
        "## Part 2: Variational Auto-Encoder¶\n",
        "\n",
        "To build a new Variational Auto-Encoder, you need two networks:\n",
        "\n",
        "- An encoder that will take as input an image and compute the parameters of list of Normal distributions\n",
        "- A decoder that will take a sample from each Normal distribution and will output an image\n",
        "\n",
        "For simplicity we will assume that:\n",
        "\n",
        "- each network as a single hidden layer of size 100\n",
        "- the latent space contains only 2 points\n",
        "\n",
        "To understand exactly what a VAE is, you can:\n",
        "\n",
        "- check the slides of Michèle Sebag\n",
        "- check this tutorial: https://arxiv.org/abs/1606.05908"
      ]
    },
    {
      "cell_type": "markdown",
      "metadata": {
        "id": "OvD2hNrEnfo1",
        "colab_type": "text"
      },
      "source": [
        "## 1.2. Encoder\n",
        "\n",
        "- Compute an hidden representation: z=relu(W1x+b1)\n",
        "- Compute the means of the normal distributions: mu=W2x+b2\n",
        "- Compute the log variance of the normal distributions: log_sigma_squared=W3x+b3"
      ]
    },
    {
      "cell_type": "code",
      "metadata": {
        "id": "Po8I1LNRpjb9",
        "colab_type": "code",
        "colab": {}
      },
      "source": [
        "class Encoder(torch.nn.Module):\n",
        "  def __init__(self, input_dim, hdim, normal_dim):\n",
        "    super().__init__()\n",
        "    self.z_proj = torch.nn.Linear(input_dim, hdim)\n",
        "    self.mu = torch.nn.Linear(hdim, normal_dim)\n",
        "    self.log_sigma_squared = torch.nn.Linear(hdim, normal_dim)\n",
        "\n",
        "  def forward(self, batch):\n",
        "    z = self.z_proj(batch)\n",
        "    z = torch.relu(z)\n",
        "    mu = self.mu(z)\n",
        "    log_sigma_squared = self.log_sigma_squared(z)\n",
        "\n",
        "    e = torch.normal(0, 1., mu.shape)\n",
        "    z = mu + e * torch.sqrt(torch.exp(log_sigma_squared))\n",
        "\n",
        "    return z, mu, log_sigma_squared"
      ],
      "execution_count": 0,
      "outputs": []
    },
    {
      "cell_type": "markdown",
      "metadata": {
        "id": "IDuoMWbzoQ23",
        "colab_type": "text"
      },
      "source": [
        "## 1.2. Decoder\n",
        "\n",
        "This a simple MLP, nothing new here!"
      ]
    },
    {
      "cell_type": "code",
      "metadata": {
        "id": "Bs0R8-0VsHAq",
        "colab_type": "code",
        "colab": {}
      },
      "source": [
        "class Decoder(torch.nn.Module):\n",
        "  def __init__(self, input_dim, hdim, output_dim):\n",
        "    super().__init__()\n",
        "    self.decoder = torch.nn.Sequential(\n",
        "        torch.nn.Linear(input_dim, hdim),\n",
        "        torch.nn.ReLU(),\n",
        "        torch.nn.Linear(hdim,output_dim)\n",
        "    )\n",
        "\n",
        "  def forward(self, batch):\n",
        "    return self.decoder(batch)"
      ],
      "execution_count": 0,
      "outputs": []
    },
    {
      "cell_type": "markdown",
      "metadata": {
        "id": "Xzo3BOL-oWG8",
        "colab_type": "text"
      },
      "source": [
        "## 1.3. Training loss\n",
        "\n",
        "To compute the training loss, you must compute two terms:\n",
        "\n",
        "- a Monte-Carlo estimation of the reconstruction loss\n",
        "- the KL divergence between the distributions computed by the encoder and the prior\n",
        "\n",
        "To sample values, you can use the reparameterization trick as follows:"
      ]
    },
    {
      "cell_type": "code",
      "metadata": {
        "id": "JxjPAZ4RwjOp",
        "colab_type": "code",
        "colab": {}
      },
      "source": [
        "loss_builder = torch.nn.BCEWithLogitsLoss(reduction=\"sum\")"
      ],
      "execution_count": 0,
      "outputs": []
    },
    {
      "cell_type": "code",
      "metadata": {
        "id": "_Wmhn4HduB5x",
        "colab_type": "code",
        "colab": {}
      },
      "source": [
        "def loss_function(gen_x, x, mu, log_sigma_squared):\n",
        "    BCE = loss_builder(gen_x, x)\n",
        "\n",
        "    KLD = -0.5 * torch.sum(1 + log_sigma_squared - mu.pow(2) - log_sigma_squared.exp())\n",
        "\n",
        "    return BCE + KLD"
      ],
      "execution_count": 0,
      "outputs": []
    },
    {
      "cell_type": "code",
      "metadata": {
        "id": "--YEuiuWuip3",
        "colab_type": "code",
        "colab": {}
      },
      "source": [
        "enc = Encoder(\n",
        "    784,  # dimension of image\n",
        "    100,  # size of hidden layer\n",
        "    2     # size of latent space\n",
        ")"
      ],
      "execution_count": 0,
      "outputs": []
    },
    {
      "cell_type": "code",
      "metadata": {
        "id": "BB23norbu64I",
        "colab_type": "code",
        "colab": {}
      },
      "source": [
        "dec = Decoder(\n",
        "    2,    # size of latent space\n",
        "    100,  # size of hidden layer\n",
        "    784   # dimension of image\n",
        ")"
      ],
      "execution_count": 0,
      "outputs": []
    },
    {
      "cell_type": "code",
      "metadata": {
        "id": "-g-SBwzTuizC",
        "colab_type": "code",
        "colab": {}
      },
      "source": [
        "optimizer = torch.optim.Adam(itertools.chain(enc.parameters(), dec.parameters()))"
      ],
      "execution_count": 0,
      "outputs": []
    },
    {
      "cell_type": "markdown",
      "metadata": {
        "id": "ktPbC5eLHVBm",
        "colab_type": "text"
      },
      "source": [
        "\n",
        "## 1.4. Recomended hyper parameters\n",
        "\n",
        "- Optimizer: Adam\n",
        "- N. epochs: 50\n",
        "- Use gradient clipping!\n",
        "- Large batch size, e.g. 128"
      ]
    },
    {
      "cell_type": "code",
      "metadata": {
        "id": "8WN6fI8jub2V",
        "colab_type": "code",
        "outputId": "26fece7c-5cdc-4cfa-9f27-b5025e5d10cd",
        "colab": {
          "base_uri": "https://localhost:8080/",
          "height": 85,
          "referenced_widgets": [
            "99d553c294fa4ca18d15bd4568164d76",
            "67b8ef8c1b2d4992a8c1903a7005302b",
            "98f6511470774af6a602380d7a6c591f",
            "ee310d1de8b045dc8df7ffd5a88f2a4f",
            "7b1aa0b9bfc246b687577e9b8eb3c9fe",
            "e297ad222bf84a30b371eef9f08b5e69",
            "8d654d49dbb24c838a08af8151bf08f6",
            "ba876eb6f9a7425c8e2c3be0fd8ebdfa"
          ]
        }
      },
      "source": [
        "batch_size = 128\n",
        "n_epochs = 50\n",
        "epochs = list(range(n_epochs))\n",
        "\n",
        "print('Training Variational AutoenAuto-Encoder...')\n",
        "\n",
        "for epoch in tqdm(epochs):\n",
        "  enc.train()\n",
        "  dec.train()\n",
        "  for i in range(0,len(train_data[0]),batch_size):\n",
        "    batch = create_batch(train_data, i, batch_size)\n",
        "    x = batch[0]\n",
        "\n",
        "    z, mu, log_sigma_squared = enc(x)\n",
        "    gen_x = dec(z)\n",
        "\n",
        "    loss = loss_function(gen_x, x, mu, log_sigma_squared)\n",
        "\n",
        "    enc.zero_grad()\n",
        "    dec.zero_grad()\n",
        "    loss.backward()\n",
        "    torch.nn.utils.clip_grad_value_(itertools.chain(enc.parameters(), dec.parameters()), 5.)  # clip gradient if its norm exceed 5\n",
        "    optimizer.step()"
      ],
      "execution_count": 12,
      "outputs": [
        {
          "output_type": "stream",
          "text": [
            "Training Variational AutoenAuto-Encoder...\n"
          ],
          "name": "stdout"
        },
        {
          "output_type": "display_data",
          "data": {
            "application/vnd.jupyter.widget-view+json": {
              "model_id": "99d553c294fa4ca18d15bd4568164d76",
              "version_minor": 0,
              "version_major": 2
            },
            "text/plain": [
              "HBox(children=(IntProgress(value=0, max=50), HTML(value='')))"
            ]
          },
          "metadata": {
            "tags": []
          }
        },
        {
          "output_type": "stream",
          "text": [
            "\n"
          ],
          "name": "stdout"
        }
      ]
    },
    {
      "cell_type": "markdown",
      "metadata": {
        "id": "LGyZHe_gHcKh",
        "colab_type": "text"
      },
      "source": [
        "## 1.5. Generate new images"
      ]
    },
    {
      "cell_type": "code",
      "metadata": {
        "id": "ZcmbmzOIxsTd",
        "colab_type": "code",
        "outputId": "11cbe370-9914-48a6-aa07-c0b9a934d60e",
        "colab": {
          "base_uri": "https://localhost:8080/",
          "height": 265
        }
      },
      "source": [
        "e = torch.normal(0, 1., (10, 2))\n",
        "images = dec(e).sigmoid()\n",
        "\n",
        "for i in range(10):\n",
        "    picture = images[i].clone().detach().numpy()\n",
        "    plt.imshow(picture.reshape(28,28), cmap='Greys')\n",
        "    plt.savefig('generated_image_' + str(i) + '.png')"
      ],
      "execution_count": 13,
      "outputs": [
        {
          "output_type": "display_data",
          "data": {
            "image/png": "[encoded data removed]",
            "text/plain": [
              "<Figure size 432x288 with 1 Axes>"
            ]
          },
          "metadata": {
            "tags": []
          }
        }
      ]
    },
    {
      "cell_type": "code",
      "metadata": {
        "id": "Nu5-z3FHyHhC",
        "colab_type": "code",
        "outputId": "34514afe-477f-485d-97ac-403ef6aefe3c",
        "colab": {
          "base_uri": "https://localhost:8080/",
          "height": 513
        }
      },
      "source": [
        "batch = create_batch(dev_data,15,1)\n",
        "x = batch[0]\n",
        "\n",
        "plt.imshow(x.reshape(28,28), cmap='Greys')\n",
        "plt.show()\n",
        "\n",
        "e, m, s = enc(x)\n",
        "x_gen = dec(e).sigmoid()\n",
        "\n",
        "plt.imshow(x_gen.detach().numpy().reshape(28,28), cmap='Greys')\n",
        "plt.show()"
      ],
      "execution_count": 14,
      "outputs": [
        {
          "output_type": "display_data",
          "data": {
            "image/png": "[encoded data removed]",
            "text/plain": [
              "<Figure size 432x288 with 1 Axes>"
            ]
          },
          "metadata": {
            "tags": []
          }
        },
        {
          "output_type": "display_data",
          "data": {
            "image/png": "[encoded data removed]",
            "text/plain": [
              "<Figure size 432x288 with 1 Axes>"
            ]
          },
          "metadata": {
            "tags": []
          }
        }
      ]
    }
  ]
}