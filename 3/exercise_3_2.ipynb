{
  "nbformat": 4,
  "nbformat_minor": 0,
  "metadata": {
    "colab": {
      "name": "exercise_3_2.ipynb",
      "provenance": [],
      "collapsed_sections": []
    },
    "kernelspec": {
      "name": "python3",
      "display_name": "Python 3"
    }
  },
  "cells": [
    {
      "cell_type": "code",
      "metadata": {
        "id": "TGGlhqZGm7eP",
        "colab_type": "code",
        "colab": {}
      },
      "source": [
        "import os\n",
        "import torch\n",
        "from torch.nn import functional as F\n",
        "import itertools\n",
        "import dataset_loader\n",
        "import numpy as np\n",
        "from matplotlib import pyplot as plt"
      ],
      "execution_count": 0,
      "outputs": []
    },
    {
      "cell_type": "code",
      "metadata": {
        "id": "ymqva1t0paU7",
        "colab_type": "code",
        "outputId": "8b7dfa98-607a-4c52-be55-c900e76258db",
        "colab": {
          "base_uri": "https://localhost:8080/",
          "height": 217
        }
      },
      "source": [
        "# Download mnist dataset \n",
        "if(\"mnist.pkl.gz\" not in os.listdir(\".\")):\n",
        "    !wget http://deeplearning.net/data/mnist/mnist.pkl.gz\n",
        "\n",
        "# if you have it somewhere else, you can comment the lines above\n",
        "# and overwrite the path below\n",
        "mnist_path = \"./mnist.pkl.gz\""
      ],
      "execution_count": 0,
      "outputs": [
        {
          "output_type": "stream",
          "text": [
            "--2019-12-13 21:06:32--  http://deeplearning.net/data/mnist/mnist.pkl.gz\n",
            "Resolving deeplearning.net (deeplearning.net)... 132.204.26.28\n",
            "Connecting to deeplearning.net (deeplearning.net)|132.204.26.28|:80... connected.\n",
            "HTTP request sent, awaiting response... 200 OK\n",
            "Length: 16168813 (15M) [application/x-gzip]\n",
            "Saving to: ‘mnist.pkl.gz’\n",
            "\n",
            "mnist.pkl.gz        100%[===================>]  15.42M  4.43MB/s    in 4.0s    \n",
            "\n",
            "2019-12-13 21:06:37 (3.89 MB/s) - ‘mnist.pkl.gz’ saved [16168813/16168813]\n",
            "\n"
          ],
          "name": "stdout"
        }
      ]
    },
    {
      "cell_type": "code",
      "metadata": {
        "id": "3vNlhvMBpdMP",
        "colab_type": "code",
        "colab": {}
      },
      "source": [
        "# load the 3 splits\n",
        "train_data, dev_data, test_data = dataset_loader.load_mnist(mnist_path)"
      ],
      "execution_count": 0,
      "outputs": []
    },
    {
      "cell_type": "code",
      "metadata": {
        "id": "WANxbKF6rN4V",
        "colab_type": "code",
        "colab": {}
      },
      "source": [
        "def create_batch(data, index, batch_size):\n",
        "  if index + batch_size > len(data[0]): batch_size = len(data[0]) - index - 1\n",
        "  return (torch.cat(\n",
        "      [\n",
        "          # we reshape the image tensor so it has dimension (1, 784)\n",
        "          torch.from_numpy(image).reshape(1, -1)\n",
        "          for image in data[0][index:index + batch_size]\n",
        "      ],\n",
        "      # we want to concatenate on the batch dimension\n",
        "      dim=0),\n",
        "\n",
        "      torch.tensor(data[1][index:index + batch_size])\n",
        "  )"
      ],
      "execution_count": 0,
      "outputs": []
    },
    {
      "cell_type": "markdown",
      "metadata": {
        "id": "IJrxqTrWnX2g",
        "colab_type": "text"
      },
      "source": [
        "## Part 2: Variational Auto-Encoder¶\n",
        "\n",
        "To build a new Variational Auto-Encoder, you need two networks:\n",
        "\n",
        "- An encoder that will take as input an image and compute the parameters of list of Normal distributions\n",
        "- A decoder that will take a sample from each Normal distribution and will output an image\n",
        "\n",
        "For simplicity we will assume that:\n",
        "\n",
        "- each network as a single hidden layer of size 100\n",
        "- the latent space contains only 2 points\n",
        "\n",
        "To understand exactly what a VAE is, you can:\n",
        "\n",
        "- check the slides of Michèle Sebag\n",
        "- check this tutorial: https://arxiv.org/abs/1606.05908"
      ]
    },
    {
      "cell_type": "markdown",
      "metadata": {
        "id": "OvD2hNrEnfo1",
        "colab_type": "text"
      },
      "source": [
        "## 1.2. Encoder\n",
        "\n",
        "- Compute an hidden representation: z=relu(W1x+b1)\n",
        "- Compute the means of the normal distributions: mu=W2x+b2\n",
        "- Compute the log variance of the normal distributions: log_sigma_squared=W3x+b3"
      ]
    },
    {
      "cell_type": "code",
      "metadata": {
        "id": "Po8I1LNRpjb9",
        "colab_type": "code",
        "colab": {}
      },
      "source": [
        "class Encoder(torch.nn.Module):\n",
        "  def __init__(self, input_dim, hdim, normal_dim):\n",
        "    super().__init__()\n",
        "    self.z_proj = torch.nn.Linear(input_dim, hdim)\n",
        "    self.mu = torch.nn.Linear(hdim, normal_dim)\n",
        "    self.log_sigma_squared = torch.nn.Linear(hdim, normal_dim)\n",
        "\n",
        "  def forward(self, batch):\n",
        "    z = self.z_proj(batch)\n",
        "    z = torch.relu(z)\n",
        "    mu = self.mu(z)\n",
        "    log_sigma_squared = self.log_sigma_squared(z)\n",
        "\n",
        "    e = torch.normal(0, 1., mu.shape)\n",
        "    z = mu + e * torch.sqrt(torch.exp(log_sigma_squared))\n",
        "\n",
        "    return z, mu, log_sigma_squared"
      ],
      "execution_count": 0,
      "outputs": []
    },
    {
      "cell_type": "markdown",
      "metadata": {
        "id": "IDuoMWbzoQ23",
        "colab_type": "text"
      },
      "source": [
        "## 1.2. Decoder\n",
        "\n",
        "This a simple MLP, nothing new here!"
      ]
    },
    {
      "cell_type": "code",
      "metadata": {
        "id": "Bs0R8-0VsHAq",
        "colab_type": "code",
        "colab": {}
      },
      "source": [
        "class Decoder(torch.nn.Module):\n",
        "  def __init__(self, input_dim, hdim, output_dim):\n",
        "    super().__init__()\n",
        "    self.decoder = torch.nn.Sequential(\n",
        "        torch.nn.Linear(input_dim, hdim),\n",
        "        torch.nn.ReLU(),\n",
        "        torch.nn.Linear(hdim,output_dim)\n",
        "    )\n",
        "\n",
        "  def forward(self, batch):\n",
        "    return self.decoder(batch)"
      ],
      "execution_count": 0,
      "outputs": []
    },
    {
      "cell_type": "markdown",
      "metadata": {
        "id": "Xzo3BOL-oWG8",
        "colab_type": "text"
      },
      "source": [
        "## 1.3. Training loss\n",
        "\n",
        "To compute the training loss, you must compute two terms:\n",
        "\n",
        "- a Monte-Carlo estimation of the reconstruction loss\n",
        "- the KL divergence between the distributions computed by the encoder and the prior\n",
        "\n",
        "To sample values, you can use the reparameterization trick as follows:"
      ]
    },
    {
      "cell_type": "code",
      "metadata": {
        "id": "JxjPAZ4RwjOp",
        "colab_type": "code",
        "colab": {}
      },
      "source": [
        "loss_builder = torch.nn.BCEWithLogitsLoss(reduction=\"sum\")"
      ],
      "execution_count": 0,
      "outputs": []
    },
    {
      "cell_type": "code",
      "metadata": {
        "id": "_Wmhn4HduB5x",
        "colab_type": "code",
        "colab": {}
      },
      "source": [
        "def loss_function(gen_x, x, mu, log_sigma_squared):\n",
        "    BCE = loss_builder(gen_x, x)\n",
        "\n",
        "    KLD = -0.5 * torch.sum(1 + log_sigma_squared - mu.pow(2) - log_sigma_squared.exp())\n",
        "\n",
        "    return BCE + KLD"
      ],
      "execution_count": 0,
      "outputs": []
    },
    {
      "cell_type": "code",
      "metadata": {
        "id": "--YEuiuWuip3",
        "colab_type": "code",
        "colab": {}
      },
      "source": [
        "enc = Encoder(\n",
        "    784,  # dimension of image\n",
        "    100,  # size of hidden layer\n",
        "    2     # size of latent space\n",
        ")"
      ],
      "execution_count": 0,
      "outputs": []
    },
    {
      "cell_type": "code",
      "metadata": {
        "id": "BB23norbu64I",
        "colab_type": "code",
        "colab": {}
      },
      "source": [
        "dec = Decoder(\n",
        "    2,    # size of latent space\n",
        "    100,  # size of hidden layer\n",
        "    784   # dimension of image\n",
        ")"
      ],
      "execution_count": 0,
      "outputs": []
    },
    {
      "cell_type": "code",
      "metadata": {
        "id": "-g-SBwzTuizC",
        "colab_type": "code",
        "colab": {}
      },
      "source": [
        "optimizer = torch.optim.Adam(itertools.chain(enc.parameters(), dec.parameters()))"
      ],
      "execution_count": 0,
      "outputs": []
    },
    {
      "cell_type": "markdown",
      "metadata": {
        "id": "ktPbC5eLHVBm",
        "colab_type": "text"
      },
      "source": [
        "\n",
        "## 1.4. Recomended hyper parameters\n",
        "\n",
        "- Optimizer: Adam\n",
        "- N. epochs: 50\n",
        "- Use gradient clipping!\n",
        "- Large batch size, e.g. 128"
      ]
    },
    {
      "cell_type": "code",
      "metadata": {
        "id": "8WN6fI8jub2V",
        "colab_type": "code",
        "outputId": "089177db-3f5f-49c0-ed0b-deba27a18c5d",
        "colab": {
          "base_uri": "https://localhost:8080/",
          "height": 925
        }
      },
      "source": [
        "batch_size = 128\n",
        "n_epochs = 50\n",
        "\n",
        "for epoch in range(n_epochs):\n",
        "  enc.train()\n",
        "  dec.train()\n",
        "  for i in range(0,len(train_data[0]),batch_size):\n",
        "    batch = create_batch(train_data, i, batch_size)\n",
        "    x = batch[0]\n",
        "\n",
        "    z, mu, log_sigma_squared = enc(x)\n",
        "    gen_x = dec(z)\n",
        "\n",
        "    loss = loss_function(gen_x, x, mu, log_sigma_squared)\n",
        "\n",
        "    enc.zero_grad()\n",
        "    dec.zero_grad()\n",
        "    loss.backward()\n",
        "    torch.nn.utils.clip_grad_value_(itertools.chain(enc.parameters(), dec.parameters()), 5.)  # clip gradient if its norm exceed 5\n",
        "    optimizer.step()\n",
        "\n",
        "  print(loss.item())"
      ],
      "execution_count": 0,
      "outputs": [
        {
          "output_type": "stream",
          "text": [
            "13792.0166015625\n",
            "13214.0400390625\n",
            "12944.67578125\n",
            "12777.568359375\n",
            "12652.83984375\n",
            "12562.9423828125\n",
            "12560.587890625\n",
            "12394.060546875\n",
            "12262.1806640625\n",
            "12236.0400390625\n",
            "12151.5625\n",
            "12115.5341796875\n",
            "12028.2646484375\n",
            "12007.8466796875\n",
            "11961.25390625\n",
            "11985.5048828125\n",
            "11911.79296875\n",
            "11897.931640625\n",
            "11862.9208984375\n",
            "11899.189453125\n",
            "11887.84375\n",
            "11820.037109375\n",
            "11779.3291015625\n",
            "11795.3798828125\n",
            "11878.568359375\n",
            "11739.73828125\n",
            "11786.4169921875\n",
            "11776.1435546875\n",
            "11760.7880859375\n",
            "11693.4892578125\n",
            "11772.8154296875\n",
            "11733.8955078125\n",
            "11705.5322265625\n",
            "11748.7197265625\n",
            "11643.8720703125\n",
            "11667.015625\n",
            "11644.6748046875\n",
            "11668.18359375\n",
            "11682.90234375\n",
            "11672.6552734375\n",
            "11624.962890625\n",
            "11609.34765625\n",
            "11674.0966796875\n",
            "11655.072265625\n",
            "11631.7880859375\n",
            "11601.98828125\n",
            "11654.8828125\n",
            "11626.3134765625\n",
            "11584.0361328125\n",
            "11644.9521484375\n"
          ],
          "name": "stdout"
        }
      ]
    },
    {
      "cell_type": "markdown",
      "metadata": {
        "id": "LGyZHe_gHcKh",
        "colab_type": "text"
      },
      "source": [
        "## 1.5. Generate new images"
      ]
    },
    {
      "cell_type": "code",
      "metadata": {
        "id": "ZcmbmzOIxsTd",
        "colab_type": "code",
        "outputId": "56d8db37-a974-4287-9ac3-c7eeb8ebddb2",
        "colab": {
          "base_uri": "https://localhost:8080/",
          "height": 1000
        }
      },
      "source": [
        "e = torch.normal(0, 1., (10, 2))\n",
        "images = dec(e).sigmoid()\n",
        "\n",
        "for i in range(10):\n",
        "    picture = images[i].clone().detach().numpy()\n",
        "    plt.imshow(picture.reshape(28,28), cmap='Greys')\n",
        "    plt.show()"
      ],
      "execution_count": 0,
      "outputs": [
        {
          "output_type": "display_data",
          "data": {
            "image/png": "[encoded data removed]",
            "text/plain": [
              "<Figure size 432x288 with 1 Axes>"
            ]
          },
          "metadata": {
            "tags": []
          }
        },
        {
          "output_type": "display_data",
          "data": {
            "image/png": "[encoded data removed]",
            "text/plain": [
              "<Figure size 432x288 with 1 Axes>"
            ]
          },
          "metadata": {
            "tags": []
          }
        },
        {
          "output_type": "display_data",
          "data": {
            "image/png": "[encoded data removed]",
            "text/plain": [
              "<Figure size 432x288 with 1 Axes>"
            ]
          },
          "metadata": {
            "tags": []
          }
        },
        {
          "output_type": "display_data",
          "data": {
            "image/png": "[encoded data removed]",
            "text/plain": [
              "<Figure size 432x288 with 1 Axes>"
            ]
          },
          "metadata": {
            "tags": []
          }
        },
        {
          "output_type": "display_data",
          "data": {
            "image/png": "[encoded data removed]",
            "text/plain": [
              "<Figure size 432x288 with 1 Axes>"
            ]
          },
          "metadata": {
            "tags": []
          }
        },
        {
          "output_type": "display_data",
          "data": {
            "image/png": "[encoded data removed]",
            "text/plain": [
              "<Figure size 432x288 with 1 Axes>"
            ]
          },
          "metadata": {
            "tags": []
          }
        },
        {
          "output_type": "display_data",
          "data": {
            "image/png": "[encoded data removed]",
            "text/plain": [
              "<Figure size 432x288 with 1 Axes>"
            ]
          },
          "metadata": {
            "tags": []
          }
        },
        {
          "output_type": "display_data",
          "data": {
            "image/png": "[encoded data removed]",
            "text/plain": [
              "<Figure size 432x288 with 1 Axes>"
            ]
          },
          "metadata": {
            "tags": []
          }
        },
        {
          "output_type": "display_data",
          "data": {
            "image/png": "[encoded data removed]",
            "text/plain": [
              "<Figure size 432x288 with 1 Axes>"
            ]
          },
          "metadata": {
            "tags": []
          }
        },
        {
          "output_type": "display_data",
          "data": {
            "image/png": "[encoded data removed]",
            "text/plain": [
              "<Figure size 432x288 with 1 Axes>"
            ]
          },
          "metadata": {
            "tags": []
          }
        }
      ]
    },
    {
      "cell_type": "code",
      "metadata": {
        "id": "Nu5-z3FHyHhC",
        "colab_type": "code",
        "outputId": "c3cdf541-d139-456d-cf83-938760897ec2",
        "colab": {
          "base_uri": "https://localhost:8080/",
          "height": 513
        }
      },
      "source": [
        "batch = create_batch(dev_data,15,1)\n",
        "x = batch[0]\n",
        "\n",
        "plt.imshow(x.reshape(28,28), cmap='Greys')\n",
        "plt.show()\n",
        "\n",
        "e, m, s = enc(x)\n",
        "x_gen = dec(e).sigmoid()\n",
        "\n",
        "plt.imshow(x_gen.detach().numpy().reshape(28,28), cmap='Greys')\n",
        "plt.show()"
      ],
      "execution_count": 0,
      "outputs": [
        {
          "output_type": "display_data",
          "data": {
            "image/png": "[encoded data removed]",
            "text/plain": [
              "<Figure size 432x288 with 1 Axes>"
            ]
          },
          "metadata": {
            "tags": []
          }
        },
        {
          "output_type": "display_data",
          "data": {
            "image/png": "[encoded data removed]",
            "text/plain": [
              "<Figure size 432x288 with 1 Axes>"
            ]
          },
          "metadata": {
            "tags": []
          }
        }
      ]
    }
  ]
}