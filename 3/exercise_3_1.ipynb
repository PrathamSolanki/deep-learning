{
  "nbformat": 4,
  "nbformat_minor": 0,
  "metadata": {
    "colab": {
      "name": "exercise_3_1.ipynb",
      "provenance": [],
      "collapsed_sections": []
    },
    "kernelspec": {
      "name": "python3",
      "display_name": "Python 3"
    }
  },
  "cells": [
    {
      "cell_type": "markdown",
      "metadata": {
        "id": "EqC4Tl0v_SXP",
        "colab_type": "text"
      },
      "source": [
        "\n",
        "# Lab exercises 3\n",
        "\n",
        "For this lab exercises, please submit 2 notebooks / python script and 2 reports, one for each part. The deadline is 22 december.\n",
        "\n",
        "It is important the you read the documentation to understand how to use Pytorch functions, what kind of transformation they apply etc. You have to take time to read it carefully to understand what you are doing.\n",
        "\n",
        "    https://pytorch.org/docs/stable/nn.html\n",
        "    https://pytorch.org/docs/stable/torch.html\n"
      ]
    },
    {
      "cell_type": "markdown",
      "metadata": {
        "id": "_jzQuRMr_oKt",
        "colab_type": "text"
      },
      "source": [
        "# 1. Part one: MNIST classification with Pytorch\n",
        "\n",
        "The goal of the first part is to learn how to use Pytorch and to observe the impact of regularization during training. You should test different network architectures, e.g. with hidden layers of size 128-128, 128-64-32-16, 256-128-64-32-16, 512-256-128-64-32-16, 800-800, and different activation functions (tanh, relu, sigmoid).\n",
        "\n",
        "Remember that Pytorch expects data in a different format than in the previous lab exercise: the first dimension is always the batch dimension."
      ]
    },
    {
      "cell_type": "code",
      "metadata": {
        "id": "h2vRn2VM_pWi",
        "colab_type": "code",
        "colab": {}
      },
      "source": [
        "import os\n",
        "import torch\n",
        "import dataset_loader\n",
        "import numpy as np\n",
        "import matplotlib.pyplot as plt"
      ],
      "execution_count": 0,
      "outputs": []
    },
    {
      "cell_type": "code",
      "metadata": {
        "id": "BtisbNJDAG-t",
        "colab_type": "code",
        "colab": {
          "base_uri": "https://localhost:8080/",
          "height": 217
        },
        "outputId": "6fc65e44-2085-4379-b5d6-8b09e80dadc5"
      },
      "source": [
        "# Download mnist dataset \n",
        "if(\"mnist.pkl.gz\" not in os.listdir(\".\")):\n",
        "    !wget http://deeplearning.net/data/mnist/mnist.pkl.gz\n",
        "\n",
        "# if you have it somewhere else, you can comment the lines above\n",
        "# and overwrite the path below\n",
        "mnist_path = \"./mnist.pkl.gz\""
      ],
      "execution_count": 2,
      "outputs": [
        {
          "output_type": "stream",
          "text": [
            "--2019-12-13 20:57:55--  http://deeplearning.net/data/mnist/mnist.pkl.gz\n",
            "Resolving deeplearning.net (deeplearning.net)... 132.204.26.28\n",
            "Connecting to deeplearning.net (deeplearning.net)|132.204.26.28|:80... connected.\n",
            "HTTP request sent, awaiting response... 200 OK\n",
            "Length: 16168813 (15M) [application/x-gzip]\n",
            "Saving to: ‘mnist.pkl.gz’\n",
            "\n",
            "mnist.pkl.gz        100%[===================>]  15.42M  4.99MB/s    in 3.1s    \n",
            "\n",
            "2019-12-13 20:57:58 (4.99 MB/s) - ‘mnist.pkl.gz’ saved [16168813/16168813]\n",
            "\n"
          ],
          "name": "stdout"
        }
      ]
    },
    {
      "cell_type": "code",
      "metadata": {
        "id": "rw55v-6OAIFR",
        "colab_type": "code",
        "colab": {}
      },
      "source": [
        "# load the 3 splits\n",
        "train_data, dev_data, test_data = dataset_loader.load_mnist(mnist_path)"
      ],
      "execution_count": 0,
      "outputs": []
    },
    {
      "cell_type": "code",
      "metadata": {
        "id": "JpQ0AS26-nfW",
        "colab_type": "code",
        "outputId": "2ec4f64c-1042-401e-b04e-5d3448942c4d",
        "colab": {
          "base_uri": "https://localhost:8080/",
          "height": 53
        }
      },
      "source": [
        "image = torch.from_numpy(train_data[0][0])\n",
        "print(image.shape) # flat image of dim (784,)\n",
        "\n",
        "# reshape the tensor so it is represented as a batch containing a single image\n",
        "# -1 means \"all remaining elements\", here it would be equivalent to image.reshape(1, 784)\n",
        "image = image.reshape(1, -1)\n",
        "print(image.shape) # flat image of dim (1, 784)"
      ],
      "execution_count": 4,
      "outputs": [
        {
          "output_type": "stream",
          "text": [
            "torch.Size([784])\n",
            "torch.Size([1, 784])\n"
          ],
          "name": "stdout"
        }
      ]
    },
    {
      "cell_type": "code",
      "metadata": {
        "id": "gqhMWcWvikJJ",
        "colab_type": "code",
        "colab": {}
      },
      "source": [
        "def create_batch(data, index, batch_size):\n",
        "  if index + batch_size > len(data[0]): batch_size = len(data[0]) - index - 1\n",
        "  return (torch.cat(\n",
        "      [\n",
        "          # we reshape the image tensor so it has dimension (1, 784)\n",
        "          torch.from_numpy(image).reshape(1, -1)\n",
        "          for image in data[0][index:index + batch_size]\n",
        "      ],\n",
        "      # we want to concatenate on the batch dimension\n",
        "      dim=0),\n",
        "\n",
        "      torch.tensor(data[1][index:index + batch_size])\n",
        "  )"
      ],
      "execution_count": 0,
      "outputs": []
    },
    {
      "cell_type": "markdown",
      "metadata": {
        "id": "VAKydxtZAYJk",
        "colab_type": "text"
      },
      "source": [
        "## 1.2. Layer initialization\n",
        "\n",
        "By default, Pytorch will apply Kaiming initialization to linear layers. However, I recommend you to always explicitly initialize you network by hand in the constructor.\n",
        "\n",
        "## 1.3. Regularization\n",
        "\n",
        "You can try two types of regularization (they can be combined together):\n",
        "\n",
        "- weight decay: it is a parameter of the optimizer\n",
        "- dropout: see slides\n",
        "\n",
        "## 1.4. Gradient clipping\n",
        "\n",
        "A commong trick for training neural networks is gradient clipping: if the norm of the gradient is too big, we rescale the gradient. This trick can be used to prevent exploding gradients and also to make \"too big steps\" in the wrong direction due the use of approximate gradient computation in SGD.\n"
      ]
    },
    {
      "cell_type": "code",
      "metadata": {
        "id": "Ylf0BXm3oNaW",
        "colab_type": "code",
        "colab": {}
      },
      "source": [
        "def get_activation(activations, index):\n",
        "  if activations[index] == 'relu':\n",
        "    return torch.relu\n",
        "  elif activations[index] == 'leaky_relu':\n",
        "    return torch.leaky_relu\n",
        "  elif activations[index] == 'elu':\n",
        "    return torch.elu\n",
        "  elif activations[index] == 'tanh':\n",
        "    return torch.tanh\n",
        "  elif activations[index] == 'sigmoid':\n",
        "    return torch.sigmoid\n",
        "  else:\n",
        "    raise Exception('unknown activation')"
      ],
      "execution_count": 0,
      "outputs": []
    },
    {
      "cell_type": "code",
      "metadata": {
        "id": "Ku67jrvqqQpR",
        "colab_type": "code",
        "colab": {}
      },
      "source": [
        "def get_initialization(activations, index):\n",
        "  if activations[index] == 'relu':\n",
        "    return torch.nn.init.kaiming_uniform_\n",
        "  elif activations[index] == 'tanh':\n",
        "    return torch.nn.init.xavier_uniform_\n",
        "  else:\n",
        "    return torch.nn.init.xavier_uniform_"
      ],
      "execution_count": 0,
      "outputs": []
    },
    {
      "cell_type": "code",
      "metadata": {
        "id": "75DFOPAnjPOU",
        "colab_type": "code",
        "colab": {}
      },
      "source": [
        "class Mlp_classifier(torch.nn.Module):\n",
        "  def __init__(self, input_dim, num_classes, num_hidden_layers, hidden_layers_dim, activations, dropouts):\n",
        "    assert isinstance(hidden_layers_dim, list)\n",
        "    assert isinstance(activations, list)\n",
        "    assert len(hidden_layers_dim) == num_hidden_layers\n",
        "    assert len(activations) == num_hidden_layers\n",
        "    assert isinstance(dropouts, list)\n",
        "    assert len(dropouts) == num_hidden_layers + 1 # dropout is also for the input layer\n",
        "\n",
        "    self.activations = activations\n",
        "    self.dropouts = [torch.nn.Dropout(p=d) for d in dropouts]\n",
        "\n",
        "    super().__init__()\n",
        "\n",
        "    self.z_projs = torch.nn.ModuleList()\n",
        "\n",
        "    i = 0\n",
        "    previous_layer_dim = input_dim\n",
        "    for hdim in hidden_layers_dim:\n",
        "      linear = torch.nn.Linear(previous_layer_dim, hdim)\n",
        "\n",
        "      initialization = get_initialization(self.activations, i)\n",
        "      initialization(linear.weight.data)\n",
        "      torch.nn.init.zeros_(linear.bias.data)\n",
        "      self.z_projs.append(linear)\n",
        "      \n",
        "      previous_layer_dim = hdim\n",
        "      i += 1\n",
        "\n",
        "    self.output_proj = torch.nn.Linear(previous_layer_dim, num_classes)\n",
        "\n",
        "  def forward(self, batch):\n",
        "    z = batch\n",
        "    i = 0\n",
        "    for nn in self.z_projs:\n",
        "      z = self.dropouts[i](z)\n",
        "      activation = get_activation(self.activations, i)\n",
        "      z = activation(nn(z))\n",
        "      i += 1\n",
        "    out = self.output_proj(z)\n",
        "    return out"
      ],
      "execution_count": 0,
      "outputs": []
    },
    {
      "cell_type": "code",
      "metadata": {
        "id": "I_zt86sWpibf",
        "colab_type": "code",
        "colab": {}
      },
      "source": [
        "nn = Mlp_classifier(\n",
        "    784,      # input dimension\n",
        "    10,       # number of classes\n",
        "    2,        # number of hidden layers\n",
        "    [800,800],    # dimension size(s) of the hidden layer(s)\n",
        "    ['relu','relu'], # activation function(s) per layer\n",
        "    [0,0.,0.]   # dropout probabilitie(s) per layer\n",
        ")"
      ],
      "execution_count": 0,
      "outputs": []
    },
    {
      "cell_type": "code",
      "metadata": {
        "id": "4XoTnId8sXhC",
        "colab_type": "code",
        "colab": {}
      },
      "source": [
        "optimizer = torch.optim.SGD(\n",
        "    nn.parameters(),\n",
        "    lr=0.01,\n",
        "    weight_decay=0.01\n",
        ")"
      ],
      "execution_count": 0,
      "outputs": []
    },
    {
      "cell_type": "code",
      "metadata": {
        "id": "x8cwZT9ctzP7",
        "colab_type": "code",
        "colab": {}
      },
      "source": [
        "loss_builder = torch.nn.NLLLoss(reduction='mean')\n",
        "m = torch.nn.LogSoftmax(dim=1)"
      ],
      "execution_count": 0,
      "outputs": []
    },
    {
      "cell_type": "code",
      "metadata": {
        "id": "5lUghU4jsh5i",
        "colab_type": "code",
        "outputId": "a8bc8342-1bf0-4411-9e66-ffd2a4d334ef",
        "colab": {
          "base_uri": "https://localhost:8080/",
          "height": 562
        }
      },
      "source": [
        "batch_size = 64\n",
        "n_epochs = 10\n",
        "dev_loss_list = []\n",
        "dev_acc_list = []\n",
        "\n",
        "for epoch in range(n_epochs):\n",
        "  nn.train()\n",
        "  for i in range(0,len(train_data[0]),batch_size):\n",
        "    batch = create_batch(train_data, i, batch_size)\n",
        "    x = batch[0]\n",
        "    gold = batch[1]\n",
        "    y = nn(x)\n",
        "    loss = loss_builder(m(y),gold)\n",
        "\n",
        "    nn.zero_grad()\n",
        "    loss.backward()\n",
        "    torch.nn.utils.clip_grad_value_(nn.parameters(), 5.)  # clip gradient if its norm exceed 5\n",
        "    optimizer.step()\n",
        "\n",
        "  nn.eval()\n",
        "  dev_acc = 0\n",
        "  for i in range(0,len(dev_data[0]),1):\n",
        "    batch = create_batch(dev_data, i, 1)\n",
        "    x = batch[0]\n",
        "    gold = batch[1]\n",
        "    y = nn(x)\n",
        "\n",
        "    if np.argmax(m(y).detach().numpy()) == gold: dev_acc += 1\n",
        "\n",
        "  dev_acc /= dev_data[0].shape[0]\n",
        "\n",
        "  dev_loss_list.append(loss.item())\n",
        "  dev_acc_list.append(dev_acc)\n",
        "\n",
        "  print(\"Epoch: {:d}/{:d}\".format(epoch+1,n_epochs))\n",
        "  print (\"Dev Avg Loss:\", loss.item(), \"\\t\\tDev Accurancy:\", dev_acc)\n",
        "  print()"
      ],
      "execution_count": 121,
      "outputs": [
        {
          "output_type": "stream",
          "text": [
            "Epoch: 1/10\n",
            "Dev Avg Loss: 0.6103399991989136 \t\tDev Accurancy: 0.8946\n",
            "\n",
            "Epoch: 2/10\n",
            "Dev Avg Loss: 0.4742746353149414 \t\tDev Accurancy: 0.9078\n",
            "\n",
            "Epoch: 3/10\n",
            "Dev Avg Loss: 0.4062660336494446 \t\tDev Accurancy: 0.9155\n",
            "\n",
            "Epoch: 4/10\n",
            "Dev Avg Loss: 0.36761727929115295 \t\tDev Accurancy: 0.9207\n",
            "\n",
            "Epoch: 5/10\n",
            "Dev Avg Loss: 0.3434004485607147 \t\tDev Accurancy: 0.9258\n",
            "\n",
            "Epoch: 6/10\n",
            "Dev Avg Loss: 0.32613882422447205 \t\tDev Accurancy: 0.9297\n",
            "\n",
            "Epoch: 7/10\n",
            "Dev Avg Loss: 0.31310489773750305 \t\tDev Accurancy: 0.9316\n",
            "\n",
            "Epoch: 8/10\n",
            "Dev Avg Loss: 0.30324414372444153 \t\tDev Accurancy: 0.9334\n",
            "\n",
            "Epoch: 9/10\n",
            "Dev Avg Loss: 0.29524680972099304 \t\tDev Accurancy: 0.9348\n",
            "\n",
            "Epoch: 10/10\n",
            "Dev Avg Loss: 0.28885066509246826 \t\tDev Accurancy: 0.9371\n",
            "\n"
          ],
          "name": "stdout"
        }
      ]
    },
    {
      "cell_type": "code",
      "metadata": {
        "id": "OvBT-nB1gb8V",
        "colab_type": "code",
        "outputId": "3d1df478-75e2-4a4d-e962-bbffea956838",
        "colab": {
          "base_uri": "https://localhost:8080/",
          "height": 567
        }
      },
      "source": [
        "plt.figure(figsize=(9,9))\n",
        "plt.plot([e for e in range(n_epochs)],dev_loss_list)\n",
        "plt.xlabel('Epoch')\n",
        "plt.ylabel('Dev Loss')\n",
        "plt.title('MNIST classification with Pytorch')\n",
        "plt.savefig('part1.1_loss_800_800_relu_0.0_0.01.png')"
      ],
      "execution_count": 122,
      "outputs": [
        {
          "output_type": "display_data",
          "data": {
            "image/png": "[encoded data removed]",
            "text/plain": [
              "<Figure size 648x648 with 1 Axes>"
            ]
          },
          "metadata": {
            "tags": []
          }
        }
      ]
    },
    {
      "cell_type": "code",
      "metadata": {
        "id": "Ujz9VcFUhkE0",
        "colab_type": "code",
        "outputId": "51d3330b-6982-48d6-d79a-85f53ccfc0e8",
        "colab": {
          "base_uri": "https://localhost:8080/",
          "height": 567
        }
      },
      "source": [
        "plt.figure(figsize=(9,9))\n",
        "plt.plot([e for e in range(n_epochs)],dev_acc_list)\n",
        "plt.xlabel('Epoch')\n",
        "plt.ylabel('Dev Accuracy')\n",
        "plt.title('MNIST classification with Pytorch')\n",
        "plt.savefig('part1.1_acc_800_800_relu_0.0_0.01.png')"
      ],
      "execution_count": 123,
      "outputs": [
        {
          "output_type": "display_data",
          "data": {
            "image/png": "[encoded data removed]",
            "text/plain": [
              "<Figure size 648x648 with 1 Axes>"
            ]
          },
          "metadata": {
            "tags": []
          }
        }
      ]
    },
    {
      "cell_type": "markdown",
      "metadata": {
        "id": "vUm7n7ZUVXtk",
        "colab_type": "text"
      },
      "source": [
        "## 1.4. Bonus: Convolutional Neural Network\n",
        "\n",
        "You can try to rely on a CNN instead of a MLP to classify MNIST images (you can still have a single layer MLP on top of convolutions, after pooling!). Note that this will requires you to reshape the input images!\n",
        "\n",
        "https://pytorch.org/docs/stable/nn.html#torch.nn.Conv2d"
      ]
    },
    {
      "cell_type": "code",
      "metadata": {
        "id": "8t0ALi1yw9Hx",
        "colab_type": "code",
        "colab": {}
      },
      "source": [
        "def create_batch_conv(data, index, batch_size):\n",
        "  if index + batch_size > len(data[0]): batch_size = len(data[0]) - index - 1\n",
        "  return (torch.cat(\n",
        "      [\n",
        "          # we reshape the image tensor so it has dimension (1, 784)\n",
        "          torch.from_numpy(image).reshape(1, 1, 28, 28)\n",
        "          for image in data[0][index:index + batch_size]\n",
        "      ],\n",
        "      # we want to concatenate on the batch dimension\n",
        "      dim=0),\n",
        "\n",
        "      torch.tensor(data[1][index:index + batch_size])\n",
        "  )"
      ],
      "execution_count": 0,
      "outputs": []
    },
    {
      "cell_type": "code",
      "metadata": {
        "id": "-b9GxDKL-l20",
        "colab_type": "code",
        "colab": {}
      },
      "source": [
        "class CNN_classifier(torch.nn.Module):\n",
        "  def __init__(self):\n",
        "    super().__init__()\n",
        "\n",
        "    self.conv_model = torch.nn.Sequential(\n",
        "        torch.nn.Conv2d(1,32,kernel_size=3),\n",
        "        torch.nn.ReLU(),\n",
        "        torch.nn.MaxPool2d(2,stride=2)\n",
        "    )\n",
        "\n",
        "    self.linear = torch.nn.Linear(32*13*13,10)\n",
        "\n",
        "  def forward(self, batch):\n",
        "    z = batch\n",
        "    z = self.conv_model(z)\n",
        "    z = z.view(-1, 32*13*13)\n",
        "    return self.linear(z)"
      ],
      "execution_count": 0,
      "outputs": []
    },
    {
      "cell_type": "code",
      "metadata": {
        "id": "ROphbGf1Hs1F",
        "colab_type": "code",
        "colab": {}
      },
      "source": [
        "cnn = CNN_classifier()"
      ],
      "execution_count": 0,
      "outputs": []
    },
    {
      "cell_type": "code",
      "metadata": {
        "id": "Ki_dSWbZHzHF",
        "colab_type": "code",
        "colab": {}
      },
      "source": [
        "optimizer = torch.optim.SGD(\n",
        "    cnn.parameters(),\n",
        "    lr=0.01\n",
        ")"
      ],
      "execution_count": 0,
      "outputs": []
    },
    {
      "cell_type": "code",
      "metadata": {
        "id": "eCJNVIRWH2HR",
        "colab_type": "code",
        "colab": {}
      },
      "source": [
        "loss_builder = torch.nn.NLLLoss(reduction='mean')\n",
        "m = torch.nn.LogSoftmax(dim=1)"
      ],
      "execution_count": 0,
      "outputs": []
    },
    {
      "cell_type": "code",
      "metadata": {
        "id": "Om3sq80RH7AW",
        "colab_type": "code",
        "outputId": "d1a4b0f2-0756-4cf0-e6ca-4f808aff51e2",
        "colab": {
          "base_uri": "https://localhost:8080/",
          "height": 562
        }
      },
      "source": [
        "batch_size = 64\n",
        "n_epochs = 10\n",
        "dev_loss_list = []\n",
        "dev_acc_list = []\n",
        "\n",
        "for epoch in range(n_epochs):\n",
        "  cnn.train()\n",
        "  for i in range(0,len(train_data[0]),batch_size):\n",
        "    batch = create_batch_conv(train_data, i, batch_size)\n",
        "    x = batch[0]\n",
        "    gold = batch[1]\n",
        "    y = cnn(x)\n",
        "    loss = loss_builder(m(y),gold)\n",
        "\n",
        "    cnn.zero_grad()\n",
        "    loss.backward()\n",
        "    torch.nn.utils.clip_grad_value_(cnn.parameters(), 5.)  # clip gradient if its norm exceed 5\n",
        "    optimizer.step()\n",
        "\n",
        "  cnn.eval()\n",
        "  dev_acc = 0\n",
        "  for i in range(0,len(dev_data[0]),1):\n",
        "    batch = create_batch_conv(dev_data, i, 1)\n",
        "    x = batch[0]\n",
        "    gold = batch[1]\n",
        "    y = cnn(x)\n",
        "\n",
        "    if np.argmax(m(y).detach().numpy()) == gold: dev_acc += 1\n",
        "\n",
        "  dev_acc /= dev_data[0].shape[0]\n",
        "  \n",
        "  dev_loss_list.append(loss.item())\n",
        "  dev_acc_list.append(dev_acc)\n",
        "\n",
        "  print(\"Epoch: {:d}/{:d}\".format(epoch+1,n_epochs))\n",
        "  print (\"Dev Avg Loss:\", loss.item(), \"\\t\\tDev Accurancy:\", dev_acc)\n",
        "  print()"
      ],
      "execution_count": 115,
      "outputs": [
        {
          "output_type": "stream",
          "text": [
            "Epoch: 1/10\n",
            "Dev Avg Loss: 0.5621078014373779 \t\tDev Accurancy: 0.8973\n",
            "\n",
            "Epoch: 2/10\n",
            "Dev Avg Loss: 0.459921658039093 \t\tDev Accurancy: 0.9073\n",
            "\n",
            "Epoch: 3/10\n",
            "Dev Avg Loss: 0.40337181091308594 \t\tDev Accurancy: 0.9113\n",
            "\n",
            "Epoch: 4/10\n",
            "Dev Avg Loss: 0.3612370789051056 \t\tDev Accurancy: 0.9157\n",
            "\n",
            "Epoch: 5/10\n",
            "Dev Avg Loss: 0.3228093087673187 \t\tDev Accurancy: 0.9204\n",
            "\n",
            "Epoch: 6/10\n",
            "Dev Avg Loss: 0.2860851585865021 \t\tDev Accurancy: 0.9255\n",
            "\n",
            "Epoch: 7/10\n",
            "Dev Avg Loss: 0.25150713324546814 \t\tDev Accurancy: 0.9291\n",
            "\n",
            "Epoch: 8/10\n",
            "Dev Avg Loss: 0.21920906007289886 \t\tDev Accurancy: 0.9341\n",
            "\n",
            "Epoch: 9/10\n",
            "Dev Avg Loss: 0.1897365301847458 \t\tDev Accurancy: 0.938\n",
            "\n",
            "Epoch: 10/10\n",
            "Dev Avg Loss: 0.1632859706878662 \t\tDev Accurancy: 0.942\n",
            "\n"
          ],
          "name": "stdout"
        }
      ]
    },
    {
      "cell_type": "code",
      "metadata": {
        "id": "tCNlkbrBg1_G",
        "colab_type": "code",
        "outputId": "27b36d4f-a14d-4d5a-bf97-09a96f424846",
        "colab": {
          "base_uri": "https://localhost:8080/",
          "height": 567
        }
      },
      "source": [
        "plt.figure(figsize=(9,9))\n",
        "plt.plot([e for e in range(n_epochs)],dev_loss_list)\n",
        "plt.xlabel('Epoch')\n",
        "plt.ylabel('Dev Loss')\n",
        "plt.title('Convolutional Neural Network')\n",
        "plt.savefig('part1.2_loss.png')"
      ],
      "execution_count": 116,
      "outputs": [
        {
          "output_type": "display_data",
          "data": {
            "image/png": "[encoded data removed]",
            "text/plain": [
              "<Figure size 648x648 with 1 Axes>"
            ]
          },
          "metadata": {
            "tags": []
          }
        }
      ]
    },
    {
      "cell_type": "code",
      "metadata": {
        "id": "hhKCyG6Vhrvy",
        "colab_type": "code",
        "outputId": "698de499-07fe-45b5-8d2a-8f504ffc7938",
        "colab": {
          "base_uri": "https://localhost:8080/",
          "height": 567
        }
      },
      "source": [
        "plt.figure(figsize=(9,9))\n",
        "plt.plot([e for e in range(n_epochs)],dev_acc_list)\n",
        "plt.xlabel('Epoch')\n",
        "plt.ylabel('Dev Accuracy')\n",
        "plt.title('Convolutional Neural Network')\n",
        "plt.savefig('part1.2_acc.png')"
      ],
      "execution_count": 117,
      "outputs": [
        {
          "output_type": "display_data",
          "data": {
            "image/png": "[encoded data removed]",
            "text/plain": [
              "<Figure size 648x648 with 1 Axes>"
            ]
          },
          "metadata": {
            "tags": []
          }
        }
      ]
    }
  ]
}